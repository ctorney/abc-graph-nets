{
  "cells": [
    {
      "cell_type": "markdown",
      "metadata": {
        "id": "view-in-github",
        "colab_type": "text"
      },
      "source": [
        "<a href=\"https://colab.research.google.com/github/ctorney/abc-graph-nets/blob/main/testing_pynb.ipynb\" target=\"_parent\"><img src=\"https://colab.research.google.com/assets/colab-badge.svg\" alt=\"Open In Colab\"/></a>"
      ]
    },
    {
      "cell_type": "code",
      "execution_count": null,
      "metadata": {
        "id": "tsdqr91BHVt7",
        "outputId": "68600383-45f1-4333-bc01-9a00780def59"
      },
      "outputs": [
        {
          "name": "stderr",
          "output_type": "stream",
          "text": [
            "100%|██████████| 2002/2002 [00:06<00:00, 302.64it/s]\n",
            "20it [10:11, 30.57s/it]\n",
            "reconstraining parameters GP_regression.rbf.lengthscale\n",
            "reconstraining parameters GP_regression.rbf.lengthscale\n",
            "0it [00:00, ?it/s]"
          ]
        },
        {
          "name": "stdout",
          "output_type": "stream",
          "text": [
            "all x:  [2.5   3.75  1.25  1.875 4.375 3.125 0.625 0.938 3.438 4.688 2.188 1.562\n",
            " 4.062 2.812 0.312 0.469 2.969 4.219 1.719 2.344 4.844 3.594 1.094 0.781\n",
            " 3.281 4.531 2.031 1.406 3.906 2.656 0.156 0.234 2.734 3.984 1.484 2.109\n",
            " 4.609 3.359 0.859 1.172]\n",
            "all y:  [12.5    6.25  18.75   9.375 21.875  3.125 15.625  7.812 20.312  1.562\n",
            " 14.062  4.688 17.188 10.938 23.438 11.719 24.219  5.469 17.969  2.344\n",
            " 14.844  8.594 21.094  3.906 16.406 10.156 22.656  7.031 19.531  0.781\n",
            " 13.281  6.641 19.141  0.391 12.891  3.516 16.016  9.766 22.266  1.953]\n",
            "(40,)\n",
            "plausible x:  [2.5   3.75  1.25  1.875 4.375 3.125 0.625 0.938 3.438 4.688 2.188 1.562\n",
            " 4.062 2.812 0.312 0.469 2.969 4.219 1.719 2.344 4.844 3.594 1.094 0.781\n",
            " 3.281 4.531 2.031 1.406 3.906 2.656 0.156 0.234 2.734 3.984 1.484 2.109\n",
            " 4.609 3.359 0.859 1.172]\n",
            "plausible y:  [12.5    6.25  18.75   9.375 21.875  3.125 15.625  7.812 20.312  1.562\n",
            " 14.062  4.688 17.188 10.938 23.438 11.719 24.219  5.469 17.969  2.344\n",
            " 14.844  8.594 21.094  3.906 16.406 10.156 22.656  7.031 19.531  0.781\n",
            " 13.281  6.641 19.141  0.391 12.891  3.516 16.016  9.766 22.266  1.953]\n",
            "(40,)\n"
          ]
        },
        {
          "name": "stderr",
          "output_type": "stream",
          "text": [
            "40it [10:11, 15.29s/it]\n",
            "reconstraining parameters GP_regression.rbf.lengthscale\n",
            "reconstraining parameters GP_regression.rbf.lengthscale\n"
          ]
        },
        {
          "name": "stdout",
          "output_type": "stream",
          "text": [
            "all x:  [2.5   3.75  1.25  1.875 4.375 3.125 0.625 0.938 3.438 4.688 2.188 1.562\n",
            " 4.062 2.812 0.312 0.469 2.969 4.219 1.719 2.344 4.844 3.594 1.094 0.781\n",
            " 3.281 4.531 2.031 1.406 3.906 2.656 0.156 0.234 2.734 3.984 1.484 2.109\n",
            " 4.609 3.359 0.859 1.172 3.672 4.922 2.422 1.797 4.297 3.047 0.547 0.391\n",
            " 2.891 4.141 1.641 2.266 4.766 3.516 1.016 0.703 3.203 4.453 1.953 1.328]\n",
            "all y:  [12.5    6.25  18.75   9.375 21.875  3.125 15.625  7.812 20.312  1.562\n",
            " 14.062  4.688 17.188 10.938 23.438 11.719 24.219  5.469 17.969  2.344\n",
            " 14.844  8.594 21.094  3.906 16.406 10.156 22.656  7.031 19.531  0.781\n",
            " 13.281  6.641 19.141  0.391 12.891  3.516 16.016  9.766 22.266  1.953\n",
            " 14.453  8.203 20.703 11.328 23.828  5.078 17.578  5.859 18.359 12.109\n",
            " 24.609  8.984 21.484  2.734 15.234 10.547 23.047  4.297 16.797  1.172]\n",
            "(60,)\n",
            "plausible x:  [2.5   3.75  1.25  1.875 4.375 3.125 0.625 0.938 3.438 4.688 2.188 1.562\n",
            " 4.062 2.812 0.312 0.469 2.969 4.219 1.719 2.344 4.844 3.594 1.094 0.781\n",
            " 3.281 4.531 2.031 1.406 3.906 2.656 0.156 0.234 2.734 3.984 1.484 2.109\n",
            " 4.609 3.359 0.859 1.172 3.672 4.922 2.422 1.797 4.297 3.047 0.547 0.391\n",
            " 2.891 4.141 1.641 2.266 4.766 3.516 1.016 0.703 3.203 4.453 1.953 1.328]\n",
            "plausible y:  [12.5    6.25  18.75   9.375 21.875  3.125 15.625  7.812 20.312  1.562\n",
            " 14.062  4.688 17.188 10.938 23.438 11.719 24.219  5.469 17.969  2.344\n",
            " 14.844  8.594 21.094  3.906 16.406 10.156 22.656  7.031 19.531  0.781\n",
            " 13.281  6.641 19.141  0.391 12.891  3.516 16.016  9.766 22.266  1.953\n",
            " 14.453  8.203 20.703 11.328 23.828  5.078 17.578  5.859 18.359 12.109\n",
            " 24.609  8.984 21.484  2.734 15.234 10.547 23.047  4.297 16.797  1.172]\n",
            "(60,)\n"
          ]
        }
      ],
      "source": [
        "#running with matched noise models, and new multiscale am sampler.\n",
        "\n",
        "\n",
        "import numpy as np\n",
        "\n",
        "import time\n",
        "np.set_printoptions(suppress=True,precision=3)\n",
        "\n",
        "import os, sys\n",
        "from math import *\n",
        "import tensorflow as tf \n",
        "import scipy \n",
        "import matplotlib.pyplot as plt\n",
        "\n",
        "\n",
        "sys.path.append('..')\n",
        "\n",
        "\n",
        "from gpabc import gp_abc\n",
        "from gpabc import am_sampler\n",
        "#from gabc import am_sampler_multi\n",
        "\n",
        "#from sobol_seq import i4_sobol_generate\n",
        "from scipy.stats import qmc\n",
        "from scipy.stats import gaussian_kde\n",
        "\n",
        "from simulations import zonal\n",
        "\n",
        "#sobol_points = np.load('sobol_points_2d.npy')\n",
        "    \n",
        "##\n",
        "sobol_listx = np.array([1.0,3.0,10.0,10.0]) #0,3,5,12])   \n",
        "sobol_listy = np.array([9.0,12.0,10.0,5.0]) #15,15,13,9]) \n",
        "\n",
        "   \n",
        "\n",
        "\n",
        "threadid = 1\n",
        "\n",
        "num_reps = 1 #10\n",
        "burnin = 100 #5000 #10000\n",
        "mcmcsteps = 200 #1000 #8000\n",
        " \n",
        "    \n",
        "\n",
        "#for dl in range(di):\n",
        "    \n",
        "lali = sobol_listx[threadid]\n",
        "latt = sobol_listy[threadid]\n",
        "lrep = 1 # sobol_listlrep[threadid]\n",
        "#    eta = sobol_listeta[threadid]\n",
        "va = 1.5*pi #sobol_listva[threadid]\n",
        "#        lali = sobol_points[dl,0]  #data instantiation\n",
        "#        latt = sobol_points[dl,1] \n",
        "    \n",
        "for data_rep in range(num_reps):             \n",
        "    ## generate data\n",
        "    L= 500 #200\n",
        "    discard= 2000 #2500 #5000 \n",
        "    N= 100 #500\n",
        "    repeat =  2 #100 \n",
        "    timesteps = 2 \n",
        "    save_interval=1 #0 #1\n",
        "    dt=0.1 #1 #0.1\n",
        "    simulation_cls = zonal.zonal_model(N,timesteps=timesteps+discard,discard=discard,L=L,repeat=repeat, dt=dt,save_interval=save_interval)\n",
        "        \n",
        "    simulation_cls.run_sim(lrep, lali, latt, va)\n",
        "        \n",
        "    data_va=va\n",
        "    data_latt=latt\n",
        "    data_lali=lali\n",
        "    data_lrep=lrep\n",
        "        \n",
        "    #DATA_y = [data_lali,data_latt,data_lrep,data_eta,data_vs,data_va,data_sigma]\n",
        "        \n",
        "        \n",
        "    op, rot, nnd = simulation_cls.get_macro_states()\n",
        "    avgOPDATA=np.zeros(repeat)\n",
        "    avgROTDATA=np.zeros(repeat)\n",
        "    avgNNDDATA=np.zeros(repeat)\n",
        "        \n",
        "        \n",
        "    for i in range(repeat):\n",
        "        avgOPDATA[i] = op[((i+1)*(timesteps-1))-1]  \n",
        "        avgROTDATA[i] = rot[((i+1)*(timesteps-1))-1] \n",
        "        avgNNDDATA[i] = nnd[((i+1)*(timesteps-1))-1] \n",
        "        \n",
        "    macrodata=  np.array([avgOPDATA,avgROTDATA,avgNNDDATA])\n",
        "\n",
        "        \n",
        "    def abc_likelihood_2d(sim_output,rc=None):\n",
        "        theta_0 = sim_output\n",
        "\n",
        "        ss_0 = macrodata\n",
        "        theta_DATA0 = np.mean(ss_0,axis=-1) \n",
        "        sd0 =  np.std(ss_0,axis=-1) \n",
        "        cov = np.diag(sd0**2)\n",
        "        repeat = sim_output.shape[1]\n",
        "        \n",
        "        k = sd0.shape[0]\n",
        "        return np.log(1e-18 + 1/repeat * (((2*pi)**k)**0.5*np.product(sd0))*np.sum(scipy.stats.multivariate_normal(theta_DATA0,cov).pdf(theta_0.T)))\n",
        "\n",
        "\n",
        "    def simulator_2d(params):\n",
        "        repeat = 50    \n",
        "        simulation_cls = zonal.zonal_model(N,timesteps+discard,discard=discard,repeat=repeat,L=L,dt=dt, save_interval=1,disable_progress=True) \n",
        "\n",
        "        #simulation_cls.run_sim(eta, params[2], params[1],params[0], vs, params[3], sigma) \n",
        "        simulation_cls.run_sim(lrep, params[0], params[1], va) #params[3])\n",
        "        \n",
        "        output = np.array(simulation_cls.get_macro_states()) \n",
        "        \n",
        "        return output #np.squeeze([output[np.r_[0:2,3],None]]) \n",
        "                        \n",
        "    #2D inference of l_ali and eta: \n",
        "    ndim = 2\n",
        "    p_start = np.array([0.0,0.0])\n",
        "    p_range = np.array([5.0,25.0]) \n",
        "   \n",
        "\n",
        "\n",
        "    # use values for plotting the predicted GP\n",
        "    X = np.array([np.linspace(p_start[0],p_start[0]+p_range[0],100),np.linspace(p_start[1],p_start[1]+p_range[1],100)])\n",
        "    y_previous = np.full((100,100),np.log(1e-18))\n",
        "\n",
        "            \n",
        "    # number of waves\n",
        "    n_wave = 2 #3 #10 \n",
        "    n_points = 20 \n",
        "    T = 0.0000001 #3\n",
        "            \n",
        "\n",
        "    abcGP = gp_abc.abcGP(p_start,p_range,ndim,n_points,T,simulator_2d,abc_likelihood_2d) \n",
        "            \n",
        "            \n",
        "    for i in range(n_wave):\n",
        "        abcGP.runWave()                      \n",
        "        #abcGP.update_rc()\n",
        "  \n",
        "        #plt.figure(figsize=(4,3))\n",
        "        #plt.plot(abcGP.sobel_points[:,0],abcGP.sobel_points[:,1],'o',c='b',ms=4) \n",
        "        print(\"all x: \", abcGP.sobol_points[:,0])\n",
        "        print(\"all y: \", abcGP.sobol_points[:,1])\n",
        "        print(np.shape(abcGP.sobol_points[:,1]))\n",
        "        \n",
        "        abcGP.remove_implausible()  \n",
        "        #plt.plot(abcGP.sobel_points[:,0],abcGP.sobel_points[:,1],'o',c='r',ms=4)\n",
        "        print(\"plausible x: \", abcGP.sobol_points[:,0])\n",
        "        print(\"plausible y: \", abcGP.sobol_points[:,1])\n",
        "        print(np.shape(abcGP.sobol_points[:,1]))\n",
        "        \n",
        "    \n",
        "        #plt.plot(data_lali,data_latt,'X',c='k',markersize=10) \n",
        "        # plot GP output\n",
        "        #xx, yy = np.meshgrid(X[0], X[1], sparse=False)\n",
        "        #x_grid = np.array([xx.flatten(), yy.flatten()])\n",
        "        #if i>0:\n",
        "        #    y_pred, y_std  = abcGP.predict_final(x_grid,remove_implausible=True)\n",
        "        #else:\n",
        "        #    y_pred, y_std  = abcGP.predict_final(x_grid,remove_implausible=False)\n",
        "        #y_pred = y_pred.reshape(100,100)\n",
        "        # for plotting we'll carry through the implausible regions from previous waves\n",
        "        #y_pred[np.isinf(y_pred)]=y_previous[np.isinf(y_pred)]\n",
        "        #y_previous = y_pred.copy()\n",
        "        #h = plt.contourf(X[0], X[1], y_pred,50,cmap='viridis',vmax=min(0,np.max(y_pred)))  #0.1*\n",
        "        #ax = plt.gca()\n",
        "        #ax.yaxis.set_major_locator(ticker.MultipleLocator(1))\n",
        "        #plt.xlabel('$\\eta$')\n",
        "        #plt.ylabel('$l_{ali}$')\n",
        "        #plt.title('Wave {}'.format(i+1))\n",
        "        #plt.colorbar()\n",
        "        #plt.savefig('zonal_macroscale_wave_LReverywave_2D' + str(i) + '.png',dpi=300)\n",
        "    \n",
        "        #plt.show()\n",
        "\n",
        "        #np.save('y_pred_clr.npy',y_pred)  \n",
        "            \n",
        "\n",
        "          \n"
      ]
    },
    {
      "cell_type": "code",
      "execution_count": null,
      "metadata": {
        "id": "rbxuf1sDHVuA",
        "outputId": "98b207aa-8c67-457f-fb0c-48eda308374c"
      },
      "outputs": [
        {
          "data": {
            "text/plain": [
              "1"
            ]
          },
          "execution_count": 50,
          "metadata": {},
          "output_type": "execute_result"
        }
      ],
      "source": [
        "n_wave"
      ]
    },
    {
      "cell_type": "code",
      "execution_count": null,
      "metadata": {
        "id": "sVyetf0AHVuA"
      },
      "outputs": [],
      "source": [
        "def am_sampler(likelihood_function, ndim, init_p, prior, sigma, n_samples, burn_in, m): \n",
        "    cov_0 = np.diag(sigma)#0.1/np.sqrt(ndim)\n",
        "    #idty = np.eye(ndim)\n",
        "    #cov_0 = sigma_0**2*idty\n",
        "    #cov_opt = sigma**2*idty\n",
        "    \n",
        "    mean = np.zeros(ndim)\n",
        "    M2 = np.zeros((ndim,ndim))\n",
        "    # array for samples\n",
        "    samples = np.zeros((n_samples,ndim))\n",
        "        \n",
        "    # store initial value\n",
        "    #samples[0] = init_p.squeeze()\n",
        "\n",
        "    # reshape and compute the current likelihood\n",
        "    z = np.squeeze(init_p)#,(ndim))\n",
        "    \n",
        "    l_cur, std_cur  = likelihood_function(z)\n",
        "    l_cur = np.squeeze(l_cur)\n",
        "     \n",
        "    \n",
        "    # check is finite and we're starting in plausible region\n",
        "    if not np.isfinite(l_cur):\n",
        "        print('implausible starting location')\n",
        "        return\n",
        "        \n",
        "    # total iterations for number of samples\n",
        "    iters = (n_samples * m) + burn_in\n",
        "\n",
        "    # create random numbers outside the for loop\n",
        "    #innov = np.random.normal(loc=0, scale=sigma, size=(iters,ndim))\n",
        "    u = np.random.rand(iters) \n",
        "    for i in tqdm(range(iters)): \n",
        "    #for i in range(iters): \n",
        "        # new location for z\n",
        "        #cand = z + innov[i]\n",
        "        cand = generate_AM_candidate(z,M2,i,cov_0)\n",
        "\n",
        "    \n",
        "        l_cand, std_cand  = likelihood_function(np.squeeze(cand))\n",
        "        l_cand = np.squeeze(l_cand)  \n",
        "        \n",
        "        if ndim==1:\n",
        "            if cand<prior[0]:\n",
        "                l_cand = - np.inf\n",
        "            elif cand>prior[1]:\n",
        "                l_cand = - np.inf\n",
        "        else:        \n",
        "            for q in range(ndim):\n",
        "                if cand[q]<prior[q,0]:\n",
        "                    l_cand = - np.inf\n",
        "                elif cand[q]>prior[q,1]:\n",
        "                    l_cand = - np.inf                           \n",
        "                                   \n",
        "                             \n",
        "\n",
        "        # check not moving to implausible location\n",
        "        if np.isfinite(l_cand):\n",
        "            # use sample from GP for update to account for uncertainty\n",
        "            l_cand_s = np.random.normal(loc=l_cand, scale=std_cand)\n",
        "            l_cur_s = np.random.normal(loc=l_cur, scale=std_cur)\n",
        "            # Accept or reject candidate\n",
        "            if np.exp(l_cand_s - l_cur_s) > u[i]:\n",
        "                z = cand\n",
        "                l_cur = l_cand\n",
        "                std_cur = std_cand     \n",
        "\n",
        "        mean, M2 = update_moments(mean, M2, z, i)"
      ]
    },
    {
      "cell_type": "code",
      "execution_count": null,
      "metadata": {
        "id": "zffu2LcGHVuB"
      },
      "outputs": [],
      "source": [
        "from tqdm import tqdm"
      ]
    },
    {
      "cell_type": "code",
      "execution_count": null,
      "metadata": {
        "id": "6RBCScDuHVuB",
        "outputId": "c60cf1d8-bece-468c-f7e7-343674e99b78"
      },
      "outputs": [
        {
          "name": "stdout",
          "output_type": "stream",
          "text": [
            "-41.4465232845515\n"
          ]
        },
        {
          "ename": "NameError",
          "evalue": "name 'm' is not defined",
          "output_type": "error",
          "traceback": [
            "\u001b[0;31m---------------------------------------------------------------------------\u001b[0m",
            "\u001b[0;31mNameError\u001b[0m                                 Traceback (most recent call last)",
            "\u001b[0;32m<ipython-input-33-6630e95fa874>\u001b[0m in \u001b[0;36m<module>\u001b[0;34m\u001b[0m\n\u001b[1;32m     32\u001b[0m \u001b[0;34m\u001b[0m\u001b[0m\n\u001b[1;32m     33\u001b[0m \u001b[0;31m# total iterations for number of samples\u001b[0m\u001b[0;34m\u001b[0m\u001b[0;34m\u001b[0m\u001b[0;34m\u001b[0m\u001b[0m\n\u001b[0;32m---> 34\u001b[0;31m \u001b[0miters\u001b[0m \u001b[0;34m=\u001b[0m \u001b[0;34m(\u001b[0m\u001b[0mn_samples\u001b[0m \u001b[0;34m*\u001b[0m \u001b[0mm\u001b[0m\u001b[0;34m)\u001b[0m \u001b[0;34m+\u001b[0m \u001b[0mburn_in\u001b[0m\u001b[0;34m\u001b[0m\u001b[0;34m\u001b[0m\u001b[0m\n\u001b[0m\u001b[1;32m     35\u001b[0m \u001b[0;34m\u001b[0m\u001b[0m\n\u001b[1;32m     36\u001b[0m \u001b[0;31m# create random numbers outside the for loop\u001b[0m\u001b[0;34m\u001b[0m\u001b[0;34m\u001b[0m\u001b[0;34m\u001b[0m\u001b[0m\n",
            "\u001b[0;31mNameError\u001b[0m: name 'm' is not defined"
          ]
        }
      ],
      "source": [
        "sigma = steps\n",
        "ndim = 2\n",
        "n_samples = 5\n",
        "init_p = np.array([-10,25]) #startval\n",
        "likelihood_function = abcGP.predict_final\n",
        "\n",
        "cov_0 = np.diag(sigma)#0.1/np.sqrt(ndim)\n",
        "#idty = np.eye(ndim)\n",
        "#cov_0 = sigma_0**2*idty\n",
        "#cov_opt = sigma**2*idty\n",
        "\n",
        "mean = np.zeros(ndim)\n",
        "M2 = np.zeros((ndim,ndim))\n",
        "# array for samples\n",
        "samples = np.zeros((n_samples,ndim))\n",
        "\n",
        "# store initial value\n",
        "#samples[0] = init_p.squeeze()\n",
        "\n",
        "# reshape and compute the current likelihood\n",
        "z = np.squeeze(init_p)#,(ndim))\n",
        "\n",
        "l_cur, std_cur  = likelihood_function(z)\n",
        "l_cur = np.squeeze(l_cur)\n",
        "\n",
        "print(l_cur)\n",
        "\n",
        "# check is finite and we're starting in plausible region\n",
        "#if not np.isfinite(l_cur):\n",
        "#    print('implausible starting location')\n",
        "#    return\n",
        "\n",
        "# total iterations for number of samples\n",
        "iters = (n_samples * m) + burn_in\n",
        "\n",
        "# create random numbers outside the for loop\n",
        "#innov = np.random.normal(loc=0, scale=sigma, size=(iters,ndim))\n",
        "u = np.random.rand(iters) \n",
        "for i in tqdm(range(iters)): \n",
        "#for i in range(iters): \n",
        "    # new location for z\n",
        "    #cand = z + innov[i]\n",
        "    cand = generate_AM_candidate(z,M2,i,cov_0)\n",
        "\n",
        "\n",
        "    l_cand, std_cand  = likelihood_function(np.squeeze(cand))\n",
        "    l_cand = np.squeeze(l_cand)  \n",
        "\n",
        "    if ndim==1:\n",
        "        if cand<prior[0]:\n",
        "            l_cand = - np.inf\n",
        "        elif cand>prior[1]:\n",
        "            l_cand = - np.inf\n",
        "    else:        \n",
        "        for q in range(ndim):\n",
        "            if cand[q]<prior[q,0]:\n",
        "                l_cand = - np.inf\n",
        "            elif cand[q]>prior[q,1]:\n",
        "                l_cand = - np.inf                           \n",
        "\n",
        "\n",
        "\n",
        "    # check not moving to implausible location\n",
        "    if np.isfinite(l_cand):\n",
        "        # use sample from GP for update to account for uncertainty\n",
        "        l_cand_s = np.random.normal(loc=l_cand, scale=std_cand)\n",
        "        l_cur_s = np.random.normal(loc=l_cur, scale=std_cur)\n",
        "        # Accept or reject candidate\n",
        "        if np.exp(l_cand_s - l_cur_s) > u[i]:\n",
        "            z = cand\n",
        "            l_cur = l_cand\n",
        "            std_cur = std_cand     \n",
        "\n",
        "    mean, M2 = update_moments(mean, M2, z, i)"
      ]
    },
    {
      "cell_type": "code",
      "execution_count": null,
      "metadata": {
        "id": "zvXz5FNpHVuC",
        "outputId": "f32e1f4b-94d9-45d2-c7e8-e7d64b5e949a"
      },
      "outputs": [
        {
          "data": {
            "text/plain": [
              "array([[0.094, 0.   ],\n",
              "       [0.   , 0.477]])"
            ]
          },
          "execution_count": 39,
          "metadata": {},
          "output_type": "execute_result"
        }
      ],
      "source": [
        "np.diag(steps)"
      ]
    },
    {
      "cell_type": "code",
      "execution_count": null,
      "metadata": {
        "id": "ZIW1tMAqHVuD",
        "outputId": "37edefe1-b51e-48fb-ac9f-f8a896aa7d41"
      },
      "outputs": [
        {
          "data": {
            "text/plain": [
              "array(-41.447)"
            ]
          },
          "execution_count": 30,
          "metadata": {},
          "output_type": "execute_result"
        }
      ],
      "source": [
        "l_cur"
      ]
    },
    {
      "cell_type": "code",
      "execution_count": null,
      "metadata": {
        "id": "DGXg9FE5HVuD",
        "outputId": "d1adbb49-a5ae-434e-c2b1-c24cd5104a34"
      },
      "outputs": [
        {
          "name": "stderr",
          "output_type": "stream",
          "text": [
            "  0%|          | 0/400 [00:00<?, ?it/s]\n"
          ]
        },
        {
          "ename": "NameError",
          "evalue": "name 'generate_AM_candidate' is not defined",
          "output_type": "error",
          "traceback": [
            "\u001b[0;31m---------------------------------------------------------------------------\u001b[0m",
            "\u001b[0;31mNameError\u001b[0m                                 Traceback (most recent call last)",
            "\u001b[0;32m<ipython-input-18-1416aaac49a7>\u001b[0m in \u001b[0;36m<module>\u001b[0;34m\u001b[0m\n\u001b[0;32m----> 1\u001b[0;31m \u001b[0mam_sampler\u001b[0m\u001b[0;34m(\u001b[0m\u001b[0mabcGP\u001b[0m\u001b[0;34m.\u001b[0m\u001b[0mpredict_final\u001b[0m\u001b[0;34m,\u001b[0m\u001b[0;36m2\u001b[0m\u001b[0;34m,\u001b[0m\u001b[0mstartval\u001b[0m\u001b[0;34m,\u001b[0m\u001b[0mprior\u001b[0m\u001b[0;34m,\u001b[0m\u001b[0msteps\u001b[0m\u001b[0;34m,\u001b[0m\u001b[0mn_samples\u001b[0m\u001b[0;34m=\u001b[0m\u001b[0;36m3\u001b[0m\u001b[0;34m,\u001b[0m \u001b[0mburn_in\u001b[0m\u001b[0;34m=\u001b[0m\u001b[0mburnin\u001b[0m\u001b[0;34m,\u001b[0m \u001b[0mm\u001b[0m\u001b[0;34m=\u001b[0m\u001b[0;36m100\u001b[0m\u001b[0;34m)\u001b[0m\u001b[0;34m\u001b[0m\u001b[0;34m\u001b[0m\u001b[0m\n\u001b[0m",
            "\u001b[0;32m<ipython-input-12-990da11e9983>\u001b[0m in \u001b[0;36mam_sampler\u001b[0;34m(likelihood_function, ndim, init_p, prior, sigma, n_samples, burn_in, m)\u001b[0m\n\u001b[1;32m     35\u001b[0m         \u001b[0;31m# new location for z\u001b[0m\u001b[0;34m\u001b[0m\u001b[0;34m\u001b[0m\u001b[0;34m\u001b[0m\u001b[0m\n\u001b[1;32m     36\u001b[0m         \u001b[0;31m#cand = z + innov[i]\u001b[0m\u001b[0;34m\u001b[0m\u001b[0;34m\u001b[0m\u001b[0;34m\u001b[0m\u001b[0m\n\u001b[0;32m---> 37\u001b[0;31m         \u001b[0mcand\u001b[0m \u001b[0;34m=\u001b[0m \u001b[0mgenerate_AM_candidate\u001b[0m\u001b[0;34m(\u001b[0m\u001b[0mz\u001b[0m\u001b[0;34m,\u001b[0m\u001b[0mM2\u001b[0m\u001b[0;34m,\u001b[0m\u001b[0mi\u001b[0m\u001b[0;34m,\u001b[0m\u001b[0mcov_0\u001b[0m\u001b[0;34m)\u001b[0m\u001b[0;34m\u001b[0m\u001b[0;34m\u001b[0m\u001b[0m\n\u001b[0m\u001b[1;32m     38\u001b[0m \u001b[0;34m\u001b[0m\u001b[0m\n\u001b[1;32m     39\u001b[0m \u001b[0;34m\u001b[0m\u001b[0m\n",
            "\u001b[0;31mNameError\u001b[0m: name 'generate_AM_candidate' is not defined"
          ]
        }
      ],
      "source": [
        "am_sampler(abcGP.predict_final,2,startval,prior,steps,n_samples=3, burn_in=burnin, m=100)"
      ]
    },
    {
      "cell_type": "code",
      "execution_count": null,
      "metadata": {
        "id": "FM2UyCz5HVuE",
        "outputId": "559b50eb-e6b8-48f6-c275-2f62ba84b39d"
      },
      "outputs": [
        {
          "data": {
            "text/plain": [
              "array([0.094, 0.477])"
            ]
          },
          "execution_count": 14,
          "metadata": {},
          "output_type": "execute_result"
        }
      ],
      "source": [
        "steps"
      ]
    },
    {
      "cell_type": "code",
      "execution_count": null,
      "metadata": {
        "id": "GfbyLuVDHVuF"
      },
      "outputs": [],
      "source": [
        "#sampling:\n",
        "# random plausible point to start with\n",
        "startval = abcGP.sobol_points[np.random.choice(abcGP.sobol_points.shape[0])]\n",
        "# step size is 1/50th of the plausible range\n",
        "steps = np.ptp(abcGP.sobol_points,axis=0)/50\n",
        "prior = np.array(((0.0,5.0),(0.0,25.0)))\n",
        "samples = am_sampler.am_sampler(abcGP.predict_final,2,startval,prior, steps,n_samples=mcmcsteps, burn_in=burnin, m=100)\n",
        "\n"
      ]
    }
  ],
  "metadata": {
    "kernelspec": {
      "display_name": "Python 3",
      "language": "python",
      "name": "python3"
    },
    "language_info": {
      "codemirror_mode": {
        "name": "ipython",
        "version": 3
      },
      "file_extension": ".py",
      "mimetype": "text/x-python",
      "name": "python",
      "nbconvert_exporter": "python",
      "pygments_lexer": "ipython3",
      "version": "3.7.9"
    },
    "colab": {
      "name": "testing.pynb",
      "provenance": [],
      "include_colab_link": true
    }
  },
  "nbformat": 4,
  "nbformat_minor": 0
}