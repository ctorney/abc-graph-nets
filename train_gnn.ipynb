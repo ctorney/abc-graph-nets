{
 "cells": [
  {
   "cell_type": "code",
   "execution_count": 1,
   "id": "25ed83b4-22a7-42b5-8f08-7acdeeeccdcc",
   "metadata": {},
   "outputs": [],
   "source": [
    "import os, sys\n",
    "import numpy as np\n",
    "from math import *\n",
    "from tqdm import tqdm\n",
    "import matplotlib.pyplot as plt\n",
    "\n",
    "import tensorflow as tf\n",
    "\n",
    "from scipy import stats\n",
    "\n",
    "from graph_nets import graphs\n",
    "import networkx as nx\n",
    "from graph_nets import utils_tf\n",
    "\n",
    "from graph_network import EncodeProcessDecode\n",
    "\n",
    "plt.style.use('ggplot') \n",
    "plt.style.use('seaborn-paper') \n",
    "plt.style.use('seaborn-whitegrid') "
   ]
  },
  {
   "cell_type": "code",
   "execution_count": 2,
   "id": "45373d62-8456-4673-82f8-6cf237ad4a78",
   "metadata": {},
   "outputs": [],
   "source": [
    "#!pip install networkx==2.5"
   ]
  },
  {
   "cell_type": "code",
   "execution_count": 3,
   "id": "1b2bc3a5-3419-4493-8108-14b117c0a9ad",
   "metadata": {},
   "outputs": [],
   "source": [
    "#!pip -f uninstall networkx && pip install networkx"
   ]
  },
  {
   "cell_type": "markdown",
   "id": "c69946f4-7377-4656-9e2f-edfab52c4337",
   "metadata": {},
   "source": [
    "## Prepare the data"
   ]
  },
  {
   "cell_type": "code",
   "execution_count": 4,
   "id": "99535246-89e7-43e5-b86d-c53ed71735e4",
   "metadata": {},
   "outputs": [],
   "source": [
    "train_dir = 'train_datasets/'\n",
    "valid_dir = 'valid_datasets/'\n",
    "\n",
    "feature_description = {'group_id': tf.io.FixedLenFeature([], tf.int64),\n",
    "                        'timestep': tf.io.FixedLenFeature([], tf.int64),\n",
    "                        'parameter_vector': tf.io.FixedLenSequenceFeature([], tf.float32,allow_missing=True),\n",
    "                        'pos': tf.io.FixedLenFeature([], tf.string),\n",
    "                        'vel': tf.io.FixedLenFeature([], tf.string)}\n",
    "\n",
    "def _parse_record(x):\n",
    "  # Parse the input tf.train.Example proto using the dictionary above.\n",
    "  return tf.io.parse_single_example(x, feature_description)\n",
    "\n",
    "def _parse_tensor(x):\n",
    "    output = {'group_id': x['group_id'],\n",
    "                'timestep': x['timestep'],\n",
    "                'parameter_vector': x['parameter_vector'],\n",
    "                'pos': tf.io.parse_tensor(x['pos'],out_type=tf.float32),\n",
    "                'vel': tf.io.parse_tensor(x['vel'],out_type=tf.float32)}\n",
    "    return output\n",
    "\n",
    "train_dataset =  tf.data.TFRecordDataset(tf.data.Dataset.list_files([train_dir + filename for filename in os.listdir(train_dir)]))\n",
    "\n",
    "parsed_train_dataset = train_dataset.map(_parse_record)\n",
    "parsed_train_dataset = parsed_train_dataset.map(_parse_tensor)\n",
    "parsed_train_dataset = parsed_train_dataset.shuffle(10000, reshuffle_each_iteration=True)\n",
    "parsed_train_dataset = parsed_train_dataset.batch(32, drop_remainder=True)\n",
    "\n",
    "\n",
    "\n",
    "valid_dataset =  tf.data.TFRecordDataset(tf.data.Dataset.list_files([valid_dir + filename for filename in os.listdir(valid_dir)]))\n",
    "\n",
    "parsed_valid_dataset = valid_dataset.map(_parse_record)\n",
    "parsed_valid_dataset = parsed_valid_dataset.map(_parse_tensor)\n",
    "parsed_valid_dataset = parsed_valid_dataset.shuffle(10000, reshuffle_each_iteration=True)\n",
    "parsed_valid_dataset = parsed_valid_dataset.batch(4, drop_remainder=True)\n"
   ]
  },
  {
   "cell_type": "markdown",
   "id": "e28722d4-6fba-4be9-965b-52f9aae650e1",
   "metadata": {},
   "source": [
    "## Preprocess positions and velocities into a graph tuple"
   ]
  },
  {
   "cell_type": "code",
   "execution_count": 5,
   "id": "2253c531-1b30-4c32-b508-70c8cacb0cd1",
   "metadata": {},
   "outputs": [],
   "source": [
    "interaction_scale = 1.0 #(* mean distance between individuals)\n",
    "L = 200.\n",
    "#interaction_radius = 25\n",
    "@tf.function\n",
    "def preprocess_data(X,V):\n",
    "    \n",
    "    # node features xpos, ypos, xvel, yvel\n",
    "    # edge features distance, rel angle to receiver\n",
    "\n",
    "    \n",
    "    Xx = tf.expand_dims(X[...,0],-1)\n",
    "    dx = -Xx + tf.linalg.matrix_transpose(Xx)\n",
    "    dx = tf.where(dx>0.5*L, dx-L, dx)\n",
    "    dx = tf.where(dx<-0.5*L, dx+L, dx)\n",
    "\n",
    "    Xy = tf.expand_dims(X[...,1],-1)\n",
    "    dy = -Xy + tf.linalg.matrix_transpose(Xy)\n",
    "    dy = tf.where(dy>0.5*L, dy-L, dy)\n",
    "    dy = tf.where(dy<-0.5*L, dy+L, dy)\n",
    "\n",
    "    Vx = tf.expand_dims(V[...,0],-1)\n",
    "    dvx = -Vx + tf.linalg.matrix_transpose(Vx)\n",
    "\n",
    "    Vy = tf.expand_dims(V[...,1],-1)\n",
    "    dvy = -Vy + tf.linalg.matrix_transpose(Vy)\n",
    "\n",
    "    A = tf.expand_dims(tf.math.atan2(V[...,1],V[...,0]),-1)\n",
    "    angle_to_neigh = tf.math.atan2(dy, dx)\n",
    "\n",
    "    rel_angle_to_neigh = angle_to_neigh - A\n",
    "\n",
    "    dist = tf.math.sqrt(tf.square(dx)+tf.square(dy))\n",
    "    #print(tf.reduce_mean(dist,axis=[1,2]))\n",
    "    interaction_radius = interaction_scale * tf.reduce_mean(dist,axis=[1,2],keepdims=True)\n",
    "    adj_matrix = tf.where(dist<interaction_radius, tf.ones_like(dist,dtype=tf.int32), tf.zeros_like(dist,dtype=tf.int32))\n",
    "    adj_matrix = tf.linalg.set_diag(adj_matrix, tf.zeros(tf.shape(adj_matrix)[:2],dtype=tf.int32))\n",
    "    sender_recv_list = tf.where(adj_matrix)\n",
    "    n_edge = tf.reduce_sum(adj_matrix, axis=[1,2])\n",
    "    n_node = tf.ones_like(n_edge)*tf.shape(adj_matrix)[-1]\n",
    "    g_globals = tf.zeros_like(n_edge) \n",
    "    \n",
    "    senders =tf.squeeze(tf.slice(sender_recv_list,(0,1),size=(-1,1)))+ tf.squeeze(tf.slice(sender_recv_list,(0,0),size=(-1,1)))*tf.shape(adj_matrix,out_type=tf.int64)[-1]\n",
    "    receivers = tf.squeeze(tf.slice(sender_recv_list,(0,2),size=(-1,1))) + tf.squeeze(tf.slice(sender_recv_list,(0,0),size=(-1,1)))*tf.shape(adj_matrix,out_type=tf.int64)[-1]\n",
    "\n",
    "\n",
    "    edge_distance = tf.expand_dims(tf.gather_nd(dist/L,sender_recv_list),-1)\n",
    "    edge_x_distance =  tf.expand_dims(tf.gather_nd(tf.math.cos(rel_angle_to_neigh),sender_recv_list),-1)  # neigbour position relative to sender heading\n",
    "    edge_y_distance =  tf.expand_dims(tf.gather_nd(tf.math.sin(rel_angle_to_neigh),sender_recv_list),-1)  # neigbour position relative to sender heading\n",
    "\n",
    "    edge_x_orientation =  tf.expand_dims(tf.gather_nd(dvx,sender_recv_list),-1)  # neigbour velocity relative to sender heading\n",
    "    edge_y_orientation =  tf.expand_dims(tf.gather_nd(dvy,sender_recv_list),-1)  # neigbour velocity relative to sender heading\n",
    "\n",
    "\n",
    "    edges = tf.concat([edge_distance,edge_x_distance,edge_y_distance,edge_x_orientation,edge_y_orientation],axis=-1)\n",
    "    #edges = tf.concat([edge_distance,edge_x_distance,edge_y_distance],axis=-1)\n",
    "\n",
    "    node_positions = tf.reshape(X,(-1,2))\n",
    "    node_positions = (node_positions - (L/2.))/L\n",
    "    node_velocities = tf.reshape(V,(-1,2))\n",
    "\n",
    "    nodes = tf.concat([node_positions,node_velocities],axis=-1)\n",
    "\n",
    "    gn = graphs.GraphsTuple(nodes=nodes,edges=edges,globals=g_globals,receivers=receivers,senders=senders,n_node=n_node,n_edge=n_edge)\n",
    "    #gn = utils_tf.set_zero_global_features(gn,1)\n",
    "    \n",
    "    return gn"
   ]
  },
  {
   "cell_type": "markdown",
   "id": "120d477f-db5d-4b7e-90c5-cbcc10e47773",
   "metadata": {},
   "source": [
    "## Set up the optimizer and the loss function"
   ]
  },
  {
   "cell_type": "code",
   "execution_count": 6,
   "id": "8fd3808a-d298-481c-9955-0b24a4205382",
   "metadata": {},
   "outputs": [],
   "source": [
    "min_lr = 1e-6\n",
    "lr = tf.keras.optimizers.schedules.ExponentialDecay(initial_learning_rate=1e-4 - min_lr,\n",
    "                                decay_steps=int(5e6),\n",
    "                                decay_rate=0.1) #+ min_lr\n",
    "lr = 1e-3\n",
    "optimizer = tf.keras.optimizers.Adam(learning_rate=lr)\n",
    "\n",
    "loss_function = tf.keras.losses.MeanSquaredError()\n"
   ]
  },
  {
   "cell_type": "code",
   "execution_count": 7,
   "id": "1da34512-ede1-49fe-bd9b-4027195e6446",
   "metadata": {},
   "outputs": [],
   "source": [
    "min_params = np.array([0.0],dtype=np.float32)\n",
    "max_params = np.array([25.0],dtype=np.float32)\n",
    "\n",
    "#max_params = np.array([1.0,25.0,25.0,2*pi],dtype=np.float32)\n",
    "#min_params = np.zeros_like(max_params)\n",
    "max_params = np.array([5.0, 25.0,25.0,2*pi],dtype=np.float32)\n",
    "min_params = np.zeros_like(max_params)\n",
    "epd = EncodeProcessDecode(latent_size=128,mlp_hidden_size=128,mlp_num_hidden_layers=2,num_message_passing_steps=10,output_size=4)#, output_min=min_params,  output_max=max_params)"
   ]
  },
  {
   "cell_type": "code",
   "execution_count": 8,
   "id": "0e276ab9-006e-4c87-85e6-bbe360b5a8f9",
   "metadata": {},
   "outputs": [],
   "source": [
    "# input_graphs = preprocess_data(X,V)\n",
    "# epd(input_graphs)\n",
    "\n",
    "## to do replace MLP with keras\n",
    "\n",
    "# for databatch in  parsed_tensors_dataset:\n",
    "        \n",
    "#     X = databatch['pos']\n",
    "#     V = databatch['vel']\n",
    "#     input_graphs = preprocess_data(X,V)\n",
    "#     break\n",
    "\n",
    "#max_params = np.array([[25.0,25.0]],dtype=np.float32)\n"
   ]
  },
  {
   "cell_type": "code",
   "execution_count": 9,
   "id": "ff747fc5-4dad-41d1-8610-f1e30c65ca13",
   "metadata": {},
   "outputs": [],
   "source": [
    "# input_signature = [utils_tf.specs_from_graphs_tuple(input_graphs)]"
   ]
  },
  {
   "cell_type": "code",
   "execution_count": 10,
   "id": "7c7f5a59-69f6-4842-b497-b5f2e18818ac",
   "metadata": {},
   "outputs": [],
   "source": [
    "# @tf.function()#input_signature=input_signature)\n",
    "# def predict_graph(input_graphs):\n",
    "#     return epd(input_graphs)\n",
    "    "
   ]
  },
  {
   "cell_type": "code",
   "execution_count": 11,
   "id": "ce1a5deb-27f6-406c-ab01-b82e1b874e3b",
   "metadata": {},
   "outputs": [],
   "source": [
    "# predict_graph.experimental_get_tracing_count()"
   ]
  },
  {
   "cell_type": "code",
   "execution_count": 12,
   "id": "8eaa3253-4311-4ba1-acf1-74e489c3c529",
   "metadata": {},
   "outputs": [],
   "source": [
    "# epochs = 20\n",
    "\n",
    "# for epoch in range(epochs):\n",
    "#     pbar = tqdm(parsed_tensors_dataset)\n",
    "#     epoch_loss = 0\n",
    "#     c = 0 \n",
    "#     # Iterate over the batches of the dataset.\n",
    "#     for databatch in  pbar:\n",
    "#         target = databatch['parameter_vector'][:,2]\n",
    "#         X = databatch['pos']\n",
    "#         V = databatch['vel']\n",
    "        \n",
    "#         input_graphs = preprocess_data(X,V)\n",
    "\n",
    "#         #break\n",
    "#         loss_value = train_step(X,V,target).numpy()\n",
    "#         epoch_loss+= loss_value\n",
    "#         c+=1\n",
    "#         pbar.set_description(\"Loss %f\" % (epoch_loss/c))"
   ]
  },
  {
   "cell_type": "code",
   "execution_count": 13,
   "id": "cc2afb12-be7f-4636-84a8-8ab6a1fb9257",
   "metadata": {},
   "outputs": [],
   "source": [
    "@tf.function()\n",
    "def train_step(X,V,target):\n",
    "   \n",
    "    input_graphs = preprocess_data(X,V)\n",
    "\n",
    "    with tf.GradientTape() as tape:\n",
    "        predictions = epd(input_graphs)\n",
    "        loss_value = loss_function(target,predictions)\n",
    "    grads = tape.gradient(loss_value, epd.trainable_variables)\n",
    "    optimizer.apply_gradients(zip(grads, epd.trainable_variables))\n",
    "    return loss_value"
   ]
  },
  {
   "cell_type": "code",
   "execution_count": 71,
   "id": "087adb41-0c81-4ea9-8bb8-9611d527d193",
   "metadata": {},
   "outputs": [],
   "source": [
    "#predict_graph.experimental_get_tracing_count()"
   ]
  },
  {
   "cell_type": "code",
   "execution_count": 72,
   "id": "fcf58981-409e-4f1d-af58-045f2c086cab",
   "metadata": {},
   "outputs": [],
   "source": [
    "#input_graphs = preprocess_data(X,V)\n",
    "#input_graphs"
   ]
  },
  {
   "cell_type": "markdown",
   "id": "c161b4fe-df29-49c1-9c4d-78c4e48a4c82",
   "metadata": {},
   "source": [
    "## Run the training"
   ]
  },
  {
   "cell_type": "code",
   "execution_count": 21,
   "id": "6d798330-7a8e-439a-a5a4-2a3aff46fc16",
   "metadata": {},
   "outputs": [
    {
     "name": "stderr",
     "output_type": "stream",
     "text": [
      "Loss 0.005855: : 6953it [43:34,  2.66it/s]\n",
      "Loss 0.005412: : 6953it [43:35,  2.66it/s]\n",
      "Loss 0.005435: : 6953it [43:36,  2.66it/s]\n",
      "Loss 0.005405: : 6953it [43:35,  2.66it/s]\n",
      "Loss 0.005078: : 6953it [43:33,  2.66it/s]\n",
      "Loss 0.004833: : 6953it [43:35,  2.66it/s]\n",
      "Loss 0.004768: : 6953it [43:35,  2.66it/s]\n",
      "Loss 0.004653: : 4829it [30:20,  2.65it/s]\n"
     ]
    },
    {
     "ename": "KeyboardInterrupt",
     "evalue": "",
     "output_type": "error",
     "traceback": [
      "\u001b[0;31m---------------------------------------------------------------------------\u001b[0m",
      "\u001b[0;31mKeyboardInterrupt\u001b[0m                         Traceback (most recent call last)",
      "\u001b[0;32m<ipython-input-21-5d075a1f31bc>\u001b[0m in \u001b[0;36m<module>\u001b[0;34m\u001b[0m\n\u001b[1;32m     19\u001b[0m             \u001b[0;31m#    return epd(input_graphs)\u001b[0m\u001b[0;34m\u001b[0m\u001b[0;34m\u001b[0m\u001b[0;34m\u001b[0m\u001b[0m\n\u001b[1;32m     20\u001b[0m         \u001b[0;31m#break\u001b[0m\u001b[0;34m\u001b[0m\u001b[0;34m\u001b[0m\u001b[0;34m\u001b[0m\u001b[0m\n\u001b[0;32m---> 21\u001b[0;31m         \u001b[0mloss_value\u001b[0m \u001b[0;34m=\u001b[0m \u001b[0mtrain_step\u001b[0m\u001b[0;34m(\u001b[0m\u001b[0mX\u001b[0m\u001b[0;34m,\u001b[0m\u001b[0mV\u001b[0m\u001b[0;34m,\u001b[0m\u001b[0mtarget\u001b[0m\u001b[0;34m)\u001b[0m\u001b[0;34m.\u001b[0m\u001b[0mnumpy\u001b[0m\u001b[0;34m(\u001b[0m\u001b[0;34m)\u001b[0m\u001b[0;34m\u001b[0m\u001b[0;34m\u001b[0m\u001b[0m\n\u001b[0m\u001b[1;32m     22\u001b[0m         \u001b[0mepoch_loss\u001b[0m\u001b[0;34m+=\u001b[0m \u001b[0mloss_value\u001b[0m\u001b[0;34m\u001b[0m\u001b[0;34m\u001b[0m\u001b[0m\n\u001b[1;32m     23\u001b[0m         \u001b[0mc\u001b[0m\u001b[0;34m+=\u001b[0m\u001b[0;36m1\u001b[0m\u001b[0;34m\u001b[0m\u001b[0;34m\u001b[0m\u001b[0m\n",
      "\u001b[0;32m/maths/ctorney/anaconda3/envs/tf_pre/lib/python3.9/site-packages/tensorflow/python/eager/def_function.py\u001b[0m in \u001b[0;36m__call__\u001b[0;34m(self, *args, **kwds)\u001b[0m\n\u001b[1;32m    887\u001b[0m \u001b[0;34m\u001b[0m\u001b[0m\n\u001b[1;32m    888\u001b[0m       \u001b[0;32mwith\u001b[0m \u001b[0mOptionalXlaContext\u001b[0m\u001b[0;34m(\u001b[0m\u001b[0mself\u001b[0m\u001b[0;34m.\u001b[0m\u001b[0m_jit_compile\u001b[0m\u001b[0;34m)\u001b[0m\u001b[0;34m:\u001b[0m\u001b[0;34m\u001b[0m\u001b[0;34m\u001b[0m\u001b[0m\n\u001b[0;32m--> 889\u001b[0;31m         \u001b[0mresult\u001b[0m \u001b[0;34m=\u001b[0m \u001b[0mself\u001b[0m\u001b[0;34m.\u001b[0m\u001b[0m_call\u001b[0m\u001b[0;34m(\u001b[0m\u001b[0;34m*\u001b[0m\u001b[0margs\u001b[0m\u001b[0;34m,\u001b[0m \u001b[0;34m**\u001b[0m\u001b[0mkwds\u001b[0m\u001b[0;34m)\u001b[0m\u001b[0;34m\u001b[0m\u001b[0;34m\u001b[0m\u001b[0m\n\u001b[0m\u001b[1;32m    890\u001b[0m \u001b[0;34m\u001b[0m\u001b[0m\n\u001b[1;32m    891\u001b[0m       \u001b[0mnew_tracing_count\u001b[0m \u001b[0;34m=\u001b[0m \u001b[0mself\u001b[0m\u001b[0;34m.\u001b[0m\u001b[0mexperimental_get_tracing_count\u001b[0m\u001b[0;34m(\u001b[0m\u001b[0;34m)\u001b[0m\u001b[0;34m\u001b[0m\u001b[0;34m\u001b[0m\u001b[0m\n",
      "\u001b[0;32m/maths/ctorney/anaconda3/envs/tf_pre/lib/python3.9/site-packages/tensorflow/python/eager/def_function.py\u001b[0m in \u001b[0;36m_call\u001b[0;34m(self, *args, **kwds)\u001b[0m\n\u001b[1;32m    915\u001b[0m       \u001b[0;31m# In this case we have created variables on the first call, so we run the\u001b[0m\u001b[0;34m\u001b[0m\u001b[0;34m\u001b[0m\u001b[0;34m\u001b[0m\u001b[0m\n\u001b[1;32m    916\u001b[0m       \u001b[0;31m# defunned version which is guaranteed to never create variables.\u001b[0m\u001b[0;34m\u001b[0m\u001b[0;34m\u001b[0m\u001b[0;34m\u001b[0m\u001b[0m\n\u001b[0;32m--> 917\u001b[0;31m       \u001b[0;32mreturn\u001b[0m \u001b[0mself\u001b[0m\u001b[0;34m.\u001b[0m\u001b[0m_stateless_fn\u001b[0m\u001b[0;34m(\u001b[0m\u001b[0;34m*\u001b[0m\u001b[0margs\u001b[0m\u001b[0;34m,\u001b[0m \u001b[0;34m**\u001b[0m\u001b[0mkwds\u001b[0m\u001b[0;34m)\u001b[0m  \u001b[0;31m# pylint: disable=not-callable\u001b[0m\u001b[0;34m\u001b[0m\u001b[0;34m\u001b[0m\u001b[0m\n\u001b[0m\u001b[1;32m    918\u001b[0m     \u001b[0;32melif\u001b[0m \u001b[0mself\u001b[0m\u001b[0;34m.\u001b[0m\u001b[0m_stateful_fn\u001b[0m \u001b[0;32mis\u001b[0m \u001b[0;32mnot\u001b[0m \u001b[0;32mNone\u001b[0m\u001b[0;34m:\u001b[0m\u001b[0;34m\u001b[0m\u001b[0;34m\u001b[0m\u001b[0m\n\u001b[1;32m    919\u001b[0m       \u001b[0;31m# Release the lock early so that multiple threads can perform the call\u001b[0m\u001b[0;34m\u001b[0m\u001b[0;34m\u001b[0m\u001b[0;34m\u001b[0m\u001b[0m\n",
      "\u001b[0;32m/maths/ctorney/anaconda3/envs/tf_pre/lib/python3.9/site-packages/tensorflow/python/eager/function.py\u001b[0m in \u001b[0;36m__call__\u001b[0;34m(self, *args, **kwargs)\u001b[0m\n\u001b[1;32m   3021\u001b[0m       (graph_function,\n\u001b[1;32m   3022\u001b[0m        filtered_flat_args) = self._maybe_define_function(args, kwargs)\n\u001b[0;32m-> 3023\u001b[0;31m     return graph_function._call_flat(\n\u001b[0m\u001b[1;32m   3024\u001b[0m         filtered_flat_args, captured_inputs=graph_function.captured_inputs)  # pylint: disable=protected-access\n\u001b[1;32m   3025\u001b[0m \u001b[0;34m\u001b[0m\u001b[0m\n",
      "\u001b[0;32m/maths/ctorney/anaconda3/envs/tf_pre/lib/python3.9/site-packages/tensorflow/python/eager/function.py\u001b[0m in \u001b[0;36m_call_flat\u001b[0;34m(self, args, captured_inputs, cancellation_manager)\u001b[0m\n\u001b[1;32m   1958\u001b[0m         and executing_eagerly):\n\u001b[1;32m   1959\u001b[0m       \u001b[0;31m# No tape is watching; skip to running the function.\u001b[0m\u001b[0;34m\u001b[0m\u001b[0;34m\u001b[0m\u001b[0;34m\u001b[0m\u001b[0m\n\u001b[0;32m-> 1960\u001b[0;31m       return self._build_call_outputs(self._inference_function.call(\n\u001b[0m\u001b[1;32m   1961\u001b[0m           ctx, args, cancellation_manager=cancellation_manager))\n\u001b[1;32m   1962\u001b[0m     forward_backward = self._select_forward_and_backward_functions(\n",
      "\u001b[0;32m/maths/ctorney/anaconda3/envs/tf_pre/lib/python3.9/site-packages/tensorflow/python/eager/function.py\u001b[0m in \u001b[0;36mcall\u001b[0;34m(self, ctx, args, cancellation_manager)\u001b[0m\n\u001b[1;32m    589\u001b[0m       \u001b[0;32mwith\u001b[0m \u001b[0m_InterpolateFunctionError\u001b[0m\u001b[0;34m(\u001b[0m\u001b[0mself\u001b[0m\u001b[0;34m)\u001b[0m\u001b[0;34m:\u001b[0m\u001b[0;34m\u001b[0m\u001b[0;34m\u001b[0m\u001b[0m\n\u001b[1;32m    590\u001b[0m         \u001b[0;32mif\u001b[0m \u001b[0mcancellation_manager\u001b[0m \u001b[0;32mis\u001b[0m \u001b[0;32mNone\u001b[0m\u001b[0;34m:\u001b[0m\u001b[0;34m\u001b[0m\u001b[0;34m\u001b[0m\u001b[0m\n\u001b[0;32m--> 591\u001b[0;31m           outputs = execute.execute(\n\u001b[0m\u001b[1;32m    592\u001b[0m               \u001b[0mstr\u001b[0m\u001b[0;34m(\u001b[0m\u001b[0mself\u001b[0m\u001b[0;34m.\u001b[0m\u001b[0msignature\u001b[0m\u001b[0;34m.\u001b[0m\u001b[0mname\u001b[0m\u001b[0;34m)\u001b[0m\u001b[0;34m,\u001b[0m\u001b[0;34m\u001b[0m\u001b[0;34m\u001b[0m\u001b[0m\n\u001b[1;32m    593\u001b[0m               \u001b[0mnum_outputs\u001b[0m\u001b[0;34m=\u001b[0m\u001b[0mself\u001b[0m\u001b[0;34m.\u001b[0m\u001b[0m_num_outputs\u001b[0m\u001b[0;34m,\u001b[0m\u001b[0;34m\u001b[0m\u001b[0;34m\u001b[0m\u001b[0m\n",
      "\u001b[0;32m/maths/ctorney/anaconda3/envs/tf_pre/lib/python3.9/site-packages/tensorflow/python/eager/execute.py\u001b[0m in \u001b[0;36mquick_execute\u001b[0;34m(op_name, num_outputs, inputs, attrs, ctx, name)\u001b[0m\n\u001b[1;32m     57\u001b[0m   \u001b[0;32mtry\u001b[0m\u001b[0;34m:\u001b[0m\u001b[0;34m\u001b[0m\u001b[0;34m\u001b[0m\u001b[0m\n\u001b[1;32m     58\u001b[0m     \u001b[0mctx\u001b[0m\u001b[0;34m.\u001b[0m\u001b[0mensure_initialized\u001b[0m\u001b[0;34m(\u001b[0m\u001b[0;34m)\u001b[0m\u001b[0;34m\u001b[0m\u001b[0;34m\u001b[0m\u001b[0m\n\u001b[0;32m---> 59\u001b[0;31m     tensors = pywrap_tfe.TFE_Py_Execute(ctx._handle, device_name, op_name,\n\u001b[0m\u001b[1;32m     60\u001b[0m                                         inputs, attrs, num_outputs)\n\u001b[1;32m     61\u001b[0m   \u001b[0;32mexcept\u001b[0m \u001b[0mcore\u001b[0m\u001b[0;34m.\u001b[0m\u001b[0m_NotOkStatusException\u001b[0m \u001b[0;32mas\u001b[0m \u001b[0me\u001b[0m\u001b[0;34m:\u001b[0m\u001b[0;34m\u001b[0m\u001b[0;34m\u001b[0m\u001b[0m\n",
      "\u001b[0;31mKeyboardInterrupt\u001b[0m: "
     ]
    }
   ],
   "source": [
    "epochs = 20\n",
    "\n",
    "for epoch in range(epochs):\n",
    "    pbar = tqdm(parsed_train_dataset)\n",
    "    epoch_loss = 0\n",
    "    c = 0 \n",
    "    # Iterate over the batches of the dataset.\n",
    "    for databatch in  pbar:\n",
    "        target = databatch['parameter_vector']/max_params\n",
    "        X = databatch['pos']\n",
    "        V = databatch['vel']\n",
    "        \n",
    "        if train_step.experimental_get_tracing_count()==0:\n",
    "            input_graphs = preprocess_data(X,V)\n",
    "            predictions = epd(input_graphs)\n",
    "            #input_signature = [utils_tf.specs_from_graphs_tuple(input_graphs,dynamic_num_nodes=False)]\n",
    "            #@tf.function(input_signature=input_signature)\n",
    "            #def predict_graph(input_graphs):\n",
    "            #    return epd(input_graphs)\n",
    "        #break\n",
    "        loss_value = train_step(X,V,target).numpy()\n",
    "        epoch_loss+= loss_value\n",
    "        c+=1\n",
    "        pbar.set_description(\"Loss %f\" % (epoch_loss/c))\n",
    "    \n"
   ]
  },
  {
   "cell_type": "code",
   "execution_count": 10,
   "id": "2d3e53cf-20ef-476b-b583-bd1a826a79e8",
   "metadata": {},
   "outputs": [],
   "source": [
    "#input_graphs = preprocess_data(X,V)\n",
    "# databatch['parameter_vector'][:,1:3]"
   ]
  },
  {
   "cell_type": "code",
   "execution_count": 25,
   "id": "a8d4433c-b5cd-4177-91c3-8d3feb336837",
   "metadata": {},
   "outputs": [
    {
     "data": {
      "text/plain": [
       "0.0031846361196750713"
      ]
     },
     "execution_count": 25,
     "metadata": {},
     "output_type": "execute_result"
    }
   ],
   "source": [
    "(epoch_loss/c)"
   ]
  },
  {
   "cell_type": "code",
   "execution_count": 11,
   "id": "858a830a-e03a-43e3-9bab-3568ca135d8b",
   "metadata": {},
   "outputs": [],
   "source": [
    "# #input_graphs\n",
    "# target"
   ]
  },
  {
   "cell_type": "code",
   "execution_count": 79,
   "id": "f7d21b40-e258-4bb0-b132-9701070062ce",
   "metadata": {},
   "outputs": [],
   "source": [
    "# target"
   ]
  },
  {
   "cell_type": "code",
   "execution_count": 80,
   "id": "d5a09c66-8eae-4804-a664-a3a2ded3a412",
   "metadata": {},
   "outputs": [],
   "source": [
    "# aa = epd(input_graphs)"
   ]
  },
  {
   "cell_type": "code",
   "execution_count": 81,
   "id": "0f30965a-fbd4-4652-a3f0-20d38a2ad5b8",
   "metadata": {},
   "outputs": [],
   "source": [
    "# loss_function(target,aa)"
   ]
  },
  {
   "cell_type": "code",
   "execution_count": 82,
   "id": "f0c0c364-4f43-4a7f-9e78-26ae59a26090",
   "metadata": {},
   "outputs": [],
   "source": [
    "# aa"
   ]
  },
  {
   "cell_type": "code",
   "execution_count": 83,
   "id": "5719b911-daa6-49ed-976c-cd5ceae695ba",
   "metadata": {},
   "outputs": [],
   "source": [
    "# target[:,2,None]"
   ]
  },
  {
   "cell_type": "code",
   "execution_count": 84,
   "id": "ac597d08-bea6-4e87-a719-235bc61b9caf",
   "metadata": {},
   "outputs": [],
   "source": [
    "# target-aa"
   ]
  },
  {
   "cell_type": "code",
   "execution_count": 85,
   "id": "9c84051a-74b4-49cb-9f50-33d480a7f739",
   "metadata": {},
   "outputs": [],
   "source": [
    "# tf.reduce_mean(tf.math.square(target-aa))"
   ]
  },
  {
   "cell_type": "code",
   "execution_count": 26,
   "id": "64fedc23-7c3d-4213-8b02-76b66593e97d",
   "metadata": {},
   "outputs": [
    {
     "name": "stderr",
     "output_type": "stream",
     "text": [
      "999it [00:54, 18.44it/s]\n"
     ]
    }
   ],
   "source": [
    "\n",
    "pred_list = []\n",
    "true_values = []\n",
    "count=0\n",
    "\n",
    "for databatch in tqdm(parsed_valid_dataset):\n",
    "    true_values.append((databatch['parameter_vector']/max_params).numpy())\n",
    "    X = databatch['pos']\n",
    "    V = databatch['vel']\n",
    "    input_graphs = preprocess_data(X,V)\n",
    "    predictions = epd(input_graphs)\n",
    "    pred_list.append(np.squeeze(predictions.numpy()))\n",
    "    count+=1\n",
    "\n",
    "    if count == 1000: break\n"
   ]
  },
  {
   "cell_type": "code",
   "execution_count": 27,
   "id": "09655496-f8d5-46d9-a4fd-938cf9879b7a",
   "metadata": {},
   "outputs": [
    {
     "data": {
      "image/png": "[encoded data removed]",
      "text/plain": [
       "<Figure size 288x216 with 1 Axes>"
      ]
     },
     "metadata": {},
     "output_type": "display_data"
    },
    {
     "data": {
      "image/png": "[encoded data removed]",
      "text/plain": [
       "<Figure size 288x216 with 1 Axes>"
      ]
     },
     "metadata": {},
     "output_type": "display_data"
    },
    {
     "data": {
      "image/png": "[encoded data removed]",
      "text/plain": [
       "<Figure size 288x216 with 1 Axes>"
      ]
     },
     "metadata": {},
     "output_type": "display_data"
    },
    {
     "data": {
      "image/png": "[encoded data removed]",
      "text/plain": [
       "<Figure size 288x216 with 1 Axes>"
      ]
     },
     "metadata": {},
     "output_type": "display_data"
    }
   ],
   "source": [
    "\n",
    "for pred_i in range(4):\n",
    "\n",
    "\n",
    "    pred_vals = np.array([pp[:,pred_i] for pp in pred_list]).flatten()\n",
    "    true_vals = np.array([tt[:,pred_i] for tt in true_values]).flatten()\n",
    "\n",
    "    bin_means, bin_edges, binnumber = stats.binned_statistic(true_vals, pred_vals,bins=25)\n",
    "    bin_width = (bin_edges[1] - bin_edges[0])\n",
    "    bin_centers = bin_edges[1:] - bin_width/2\n",
    "\n",
    "    bin_stds, bin_edges, binnumber = stats.binned_statistic(true_vals, pred_vals,statistic='std',bins=25)\n",
    "\n",
    "    plt.figure(figsize=(4,3))\n",
    "    plt.plot(bin_centers,bin_means,c='C0')\n",
    "\n",
    "    plt.fill_between(bin_centers,bin_means-bin_stds,bin_means+bin_stds,color='C0',alpha=0.5)\n",
    "\n",
    "    xx = np.linspace(0,1.0,10)\n",
    "    plt.plot(xx,xx,c='k',ls='--')\n",
    "\n",
    "    plt.ylabel('GNN prediction of parameter')\n",
    "    plt.xlabel('True parameter that generated the microstate')\n",
    "    plt.savefig('gnn.png',dpi=300)\n",
    "    plt.show()\n"
   ]
  },
  {
   "cell_type": "code",
   "execution_count": 37,
   "id": "c274b63c-2280-4bc6-8f7d-5fe044f56e55",
   "metadata": {},
   "outputs": [],
   "source": [
    "\n",
    "import pickle\n",
    "\n",
    "outputvars = []\n",
    "\n",
    "for v in epd.trainable_variables:\n",
    "    outputvars.append(v.numpy())\n",
    "    \n",
    "        \n",
    "with open('26Oct21.pkl', 'wb') as f:\n",
    "    pickle.dump(outputvars, f)\n"
   ]
  },
  {
   "cell_type": "code",
   "execution_count": 41,
   "id": "5a20b3c1-d2e9-4143-8725-d312a21cfe15",
   "metadata": {},
   "outputs": [
    {
     "data": {
      "text/plain": [
       "<tf.Tensor: shape=(4, 4), dtype=float32, numpy=\n",
       "array([[0.5727145 , 0.4954338 , 0.49297288, 0.51000065],\n",
       "       [0.5620656 , 0.5165789 , 0.47424763, 0.5081682 ],\n",
       "       [0.56802964, 0.5176547 , 0.48003072, 0.51186216],\n",
       "       [0.52645534, 0.4940976 , 0.49356902, 0.5145208 ]], dtype=float32)>"
      ]
     },
     "execution_count": 41,
     "metadata": {},
     "output_type": "execute_result"
    }
   ],
   "source": [
    "imported = EncodeProcessDecode(latent_size=128,mlp_hidden_size=128,mlp_num_hidden_layers=2,num_message_passing_steps=10,output_size=4)#, output_min=min_params,  output_max=max_params)\n",
    "\n",
    "imported(input_graphs)"
   ]
  },
  {
   "cell_type": "code",
   "execution_count": 42,
   "id": "12548d81-d063-4527-a4fe-03e9dc16f059",
   "metadata": {},
   "outputs": [],
   "source": [
    "\n",
    "with open('26Oct21.pkl', 'rb') as f:\n",
    "    outputvars = pickle.load(f)\n",
    "for np_v, tf_v in zip(outputvars,imported.trainable_variables):\n",
    "    tf_v.assign(np_v)"
   ]
  },
  {
   "cell_type": "code",
   "execution_count": 43,
   "id": "a4bf6f93-2cb7-4ba6-80b1-1344c1d00016",
   "metadata": {},
   "outputs": [
    {
     "data": {
      "text/plain": [
       "<tf.Tensor: shape=(4, 4), dtype=float32, numpy=\n",
       "array([[0.37327296, 0.23975678, 0.74389094, 0.66532147],\n",
       "       [0.31340775, 0.0753509 , 0.06950107, 0.64775443],\n",
       "       [0.14345032, 0.19993871, 0.7660292 , 0.71514523],\n",
       "       [0.56101185, 0.8844285 , 0.43907726, 0.52266884]], dtype=float32)>"
      ]
     },
     "execution_count": 43,
     "metadata": {},
     "output_type": "execute_result"
    }
   ],
   "source": [
    "imported(input_graphs)"
   ]
  },
  {
   "cell_type": "code",
   "execution_count": 45,
   "id": "be3d5e43-b537-4dbb-b31e-8794713ea2e7",
   "metadata": {},
   "outputs": [
    {
     "data": {
      "text/plain": [
       "<tf.Tensor: shape=(4, 4), dtype=float32, numpy=\n",
       "array([[0.38476562, 0.29101562, 0.8066406 , 0.6314714 ],\n",
       "       [0.23242188, 0.05273438, 0.09960938, 0.66383004],\n",
       "       [0.15234375, 0.22265625, 0.86328125, 0.7591081 ],\n",
       "       [0.51171875, 0.83203125, 0.28515625, 0.48585773]], dtype=float32)>"
      ]
     },
     "execution_count": 45,
     "metadata": {},
     "output_type": "execute_result"
    }
   ],
   "source": [
    "databatch['parameter_vector']/max_params"
   ]
  },
  {
   "cell_type": "code",
   "execution_count": 22,
   "id": "dda4b79e-9dde-49a5-8ec3-61496e9387ee",
   "metadata": {},
   "outputs": [
    {
     "name": "stderr",
     "output_type": "stream",
     "text": [
      "999it [00:51, 19.35it/s]\n"
     ]
    },
    {
     "data": {
      "image/png": "[encoded data removed]",
      "text/plain": [
       "<Figure size 288x216 with 1 Axes>"
      ]
     },
     "metadata": {},
     "output_type": "display_data"
    }
   ],
   "source": [
    "pred_i = 1\n",
    "\n",
    "\n",
    "pred_vals = np.array([pp[:,pred_i] for pp in pred_list]).flatten()\n",
    "true_vals = np.array([tt[:,pred_i] for tt in true_values]).flatten()\n",
    "\n",
    "bin_means, bin_edges, binnumber = stats.binned_statistic(true_vals, pred_vals,bins=25)\n",
    "bin_width = (bin_edges[1] - bin_edges[0])\n",
    "bin_centers = bin_edges[1:] - bin_width/2\n",
    "\n",
    "bin_stds, bin_edges, binnumber = stats.binned_statistic(true_vals, pred_vals,statistic='std',bins=25)\n",
    "\n",
    "plt.figure(figsize=(4,3))\n",
    "plt.plot(bin_centers,bin_means,c='C0')\n",
    "\n",
    "plt.fill_between(bin_centers,bin_means-bin_stds,bin_means+bin_stds,color='C0',alpha=0.5)\n",
    "\n",
    "xx = np.linspace(0,1.0,10)\n",
    "plt.plot(xx,xx,c='k',ls='--')\n",
    "\n",
    "plt.ylabel('GNN prediction of parameter')\n",
    "plt.xlabel('True parameter that generated the microstate')\n",
    "plt.savefig('gnn.png',dpi=300)\n",
    "plt.show()"
   ]
  },
  {
   "cell_type": "code",
   "execution_count": 23,
   "id": "bd42ba27-b4fe-4e56-a1f4-ce1a0d6caa3c",
   "metadata": {},
   "outputs": [
    {
     "name": "stderr",
     "output_type": "stream",
     "text": [
      "999it [00:52, 19.00it/s]\n"
     ]
    },
    {
     "data": {
      "image/png": "[encoded data removed]",
      "text/plain": [
       "<Figure size 288x216 with 1 Axes>"
      ]
     },
     "metadata": {},
     "output_type": "display_data"
    }
   ],
   "source": [
    "pred_list = []\n",
    "true_values = []\n",
    "count=0\n",
    "\n",
    "pred_i = 2\n",
    "for databatch in tqdm(parsed_valid_dataset):\n",
    "    true_values.append((databatch['parameter_vector'][:,1:4]/max_params).numpy()[:,pred_i])\n",
    "    X = databatch['pos']\n",
    "    V = databatch['vel']\n",
    "    input_graphs = preprocess_data(X,V)\n",
    "    predictions = epd(input_graphs)\n",
    "    pred_list.append(np.squeeze(predictions.numpy()[:,pred_i]))\n",
    "    count+=1\n",
    "\n",
    "    if count == 1000: break\n",
    "pred_vals = np.array(pred_list).flatten()\n",
    "true_vals = np.array(true_values).flatten()\n",
    "\n",
    "bin_means, bin_edges, binnumber = stats.binned_statistic(true_vals, pred_vals,bins=25)\n",
    "bin_width = (bin_edges[1] - bin_edges[0])\n",
    "bin_centers = bin_edges[1:] - bin_width/2\n",
    "\n",
    "bin_stds, bin_edges, binnumber = stats.binned_statistic(true_vals, pred_vals,statistic='std',bins=25)\n",
    "\n",
    "plt.figure(figsize=(4,3))\n",
    "plt.plot(bin_centers,bin_means,c='C0')\n",
    "\n",
    "plt.fill_between(bin_centers,bin_means-bin_stds,bin_means+bin_stds,color='C0',alpha=0.5)\n",
    "\n",
    "xx = np.linspace(0,1.0,10)\n",
    "plt.plot(xx,xx,c='k',ls='--')\n",
    "\n",
    "plt.ylabel('GNN prediction of parameter')\n",
    "plt.xlabel('True parameter that generated the microstate')\n",
    "plt.savefig('gnn.png',dpi=300)\n",
    "plt.show()\n"
   ]
  },
  {
   "cell_type": "code",
   "execution_count": 42,
   "id": "3c2dc303-1ae5-49f5-b91a-1fb5e4b4e111",
   "metadata": {},
   "outputs": [],
   "source": [
    "x_val = []\n",
    "pred_mean = []\n",
    "pred_std = []\n",
    "for tv in np.unique(true_vals):\n",
    "    pred_mean.append(pred_vals[true_vals==tv].mean())\n",
    "    pred_std.append(pred_vals[true_vals==tv].std())\n",
    "    x_val.append(tv)\n",
    "    \n",
    "pred_mean = np.array(pred_mean)\n",
    "pred_std = np.array(pred_std)\n",
    "x_val = np.array(x_val)"
   ]
  },
  {
   "cell_type": "code",
   "execution_count": 43,
   "id": "89359d18-c326-430f-8abb-50f82dc394e6",
   "metadata": {},
   "outputs": [
    {
     "data": {
      "image/png": "[encoded data removed]",
      "text/plain": [
       "<Figure size 288x216 with 1 Axes>"
      ]
     },
     "metadata": {},
     "output_type": "display_data"
    }
   ],
   "source": [
    "\n"
   ]
  },
  {
   "cell_type": "code",
   "execution_count": 20,
   "id": "3429d9f3-98c7-4718-a6d8-577fbd52bb35",
   "metadata": {},
   "outputs": [
    {
     "data": {
      "image/png": "[encoded data removed]",
      "text/plain": [
       "<Figure size 460.8x316.8 with 1 Axes>"
      ]
     },
     "metadata": {},
     "output_type": "display_data"
    }
   ],
   "source": [
    "plt.plot(true_vals[:,:,1].flatten(),25*pred_vals[:,:,0].flatten(),'.')\n",
    "xx = np.linspace(0,25,10)\n",
    "plt.plot(xx,xx)\n",
    "plt.show()"
   ]
  },
  {
   "cell_type": "code",
   "execution_count": 21,
   "id": "ebeb6576-29d2-4a90-9a5c-2fbd26649beb",
   "metadata": {},
   "outputs": [
    {
     "data": {
      "image/png": "[encoded data removed]",
      "text/plain": [
       "<Figure size 460.8x316.8 with 1 Axes>"
      ]
     },
     "metadata": {},
     "output_type": "display_data"
    }
   ],
   "source": [
    "plt.plot(true_vals[:,:,2].flatten(),25*pred_vals[:,:,1].flatten(),'.')\n",
    "xx = np.linspace(0,25,10)\n",
    "plt.plot(xx,xx)\n",
    "plt.show()"
   ]
  },
  {
   "cell_type": "code",
   "execution_count": 32,
   "id": "612edde2-e279-4d35-b6e1-291a56d0a2cd",
   "metadata": {},
   "outputs": [
    {
     "data": {
      "text/plain": [
       "array([[13.902199 , 15.632822 , 12.025795 , 13.897321 ],\n",
       "       [12.3725195, 14.8625555, 11.428269 , 12.093476 ],\n",
       "       [12.945575 , 11.4643   , 12.828146 , 11.470286 ],\n",
       "       [15.692706 , 15.431839 , 14.305942 , 14.728579 ],\n",
       "       [13.1061735, 11.649303 , 12.942446 , 12.656384 ],\n",
       "       [14.774187 , 12.540472 , 14.088032 , 12.357711 ],\n",
       "       [14.665776 , 12.855476 , 15.576394 , 15.476627 ],\n",
       "       [11.611262 ,  3.2339606, 14.488609 , 15.086959 ],\n",
       "       [ 3.5839   , 11.71521  , 12.943784 , 12.937659 ],\n",
       "       [15.560287 , 12.370864 , 12.219812 , 11.765519 ],\n",
       "       [13.590709 , 15.643742 , 14.546153 , 12.696342 ],\n",
       "       [14.311236 , 15.26397  , 11.654345 , 11.726391 ],\n",
       "       [12.503998 , 13.332525 , 15.235603 , 15.633455 ],\n",
       "       [13.253609 , 15.160857 , 11.787132 , 15.131458 ],\n",
       "       [12.95207  , 15.529726 , 13.058943 , 14.684788 ],\n",
       "       [13.088155 , 15.599209 , 15.831794 ,  4.681457 ],\n",
       "       [11.587858 , 15.373063 , 15.313901 , 13.366749 ],\n",
       "       [15.351695 , 13.180487 , 12.607129 , 11.973949 ],\n",
       "       [12.172001 , 11.554755 , 12.383748 , 13.644345 ],\n",
       "       [15.4629545, 14.428862 , 14.587108 , 13.034002 ],\n",
       "       [14.807373 , 13.1013975, 12.71282  , 14.404617 ],\n",
       "       [11.977681 , 11.480603 , 11.815945 , 13.193923 ],\n",
       "       [12.553254 , 13.9988785, 11.872811 , 15.380141 ],\n",
       "       [11.766926 , 12.976006 , 13.213776 , 15.448339 ],\n",
       "       [13.05392  , 15.588516 , 12.2314   , 13.231097 ],\n",
       "       [15.57461  , 11.391124 , 12.468386 , 15.318285 ],\n",
       "       [11.580387 ,  7.700259 , 14.409898 , 13.975863 ],\n",
       "       [14.541672 , 13.981007 , 14.450521 , 12.197263 ],\n",
       "       [15.687966 , 13.312392 , 12.854886 , 14.351669 ],\n",
       "       [14.645405 , 12.255601 , 12.362186 , 14.606534 ],\n",
       "       [11.518709 , 13.213391 , 12.800004 , 12.801091 ],\n",
       "       [15.566832 , 11.646547 , 12.864919 , 14.546062 ],\n",
       "       [11.720492 , 12.02173  , 15.030718 , 15.112495 ],\n",
       "       [12.802614 , 11.985571 ,  6.8933225, 14.236445 ],\n",
       "       [13.3611355, 12.2267685, 13.967824 , 11.488763 ],\n",
       "       [12.085303 , 12.168876 , 12.711636 , 13.462641 ],\n",
       "       [13.23563  ,  6.613256 , 14.58662  , 11.754281 ],\n",
       "       [14.691062 , 12.924278 , 12.090087 ,  3.6413279],\n",
       "       [14.1388   , 15.583889 , 12.167391 , 11.738565 ],\n",
       "       [12.290251 , 13.94684  , 15.457049 , 12.70625  ],\n",
       "       [13.087359 , 12.563062 , 12.437302 , 15.156679 ],\n",
       "       [14.802167 , 11.87942  , 15.233188 , 13.371441 ],\n",
       "       [15.369294 , 14.757222 , 14.047676 , 11.992308 ],\n",
       "       [13.413301 , 15.549801 , 12.744339 , 14.745434 ],\n",
       "       [13.918571 , 12.923987 , 12.578254 , 14.35429  ],\n",
       "       [14.824338 , 12.890084 , 12.682845 , 13.295042 ],\n",
       "       [14.383997 , 13.177307 , 13.258786 , 13.646195 ],\n",
       "       [14.872521 , 11.922147 , 15.423864 , 13.109025 ],\n",
       "       [13.619575 , 11.600206 , 13.31245  , 12.654236 ],\n",
       "       [15.13741  , 13.138135 , 14.720138 , 15.475612 ],\n",
       "       [11.947655 , 11.902692 , 13.703801 , 15.511592 ],\n",
       "       [15.603826 , 11.917397 , 13.418223 , 15.246966 ],\n",
       "       [ 5.659876 , 12.141243 , 14.159155 , 11.861757 ],\n",
       "       [13.825147 , 11.907096 , 14.770001 , 15.342575 ],\n",
       "       [15.22918  , 14.316234 , 15.618862 , 14.911387 ],\n",
       "       [12.517995 , 15.541387 , 11.445995 , 14.659097 ],\n",
       "       [14.723699 , 11.744961 , 15.346437 , 13.43512  ],\n",
       "       [14.502685 , 13.310595 , 12.777435 , 13.253061 ],\n",
       "       [12.460765 , 12.8945055, 12.798964 , 12.62975  ],\n",
       "       [12.662752 , 11.557662 , 12.66711  , 11.85213  ],\n",
       "       [15.577936 , 14.209768 , 12.378729 , 12.053904 ],\n",
       "       [15.094845 , 13.172666 , 12.817253 , 14.849575 ],\n",
       "       [14.930445 , 11.696287 , 15.314594 , 12.7172365],\n",
       "       [11.744428 , 12.352511 , 12.501298 , 11.93637  ],\n",
       "       [11.945399 , 12.452994 , 15.608984 , 12.10968  ],\n",
       "       [11.883416 , 12.502514 , 15.471562 , 11.475519 ],\n",
       "       [12.546894 , 15.585047 , 13.061084 , 13.40736  ],\n",
       "       [12.015047 , 14.909487 , 12.519707 , 11.419511 ],\n",
       "       [15.621946 , 12.425411 , 15.341659 , 12.228357 ],\n",
       "       [13.283399 , 13.295332 , 11.519237 , 13.437255 ],\n",
       "       [12.968739 , 13.380143 , 12.8881   , 15.477601 ],\n",
       "       [12.730103 , 14.87475  , 11.621273 , 11.818797 ],\n",
       "       [11.987957 , 15.387273 , 15.369539 , 12.886161 ],\n",
       "       [15.464287 , 14.875503 , 12.081315 , 12.080894 ],\n",
       "       [11.531193 , 15.611463 , 12.199051 , 13.118482 ],\n",
       "       [15.337162 , 12.094073 , 11.675101 , 11.91844  ],\n",
       "       [ 3.9237113, 12.032216 , 15.718497 , 13.027334 ],\n",
       "       [11.670799 , 12.811589 , 15.394288 , 15.487915 ],\n",
       "       [15.272553 , 11.413826 , 15.537379 , 15.397417 ],\n",
       "       [15.545596 , 15.449678 , 12.872296 , 14.202161 ],\n",
       "       [15.622981 , 14.783772 , 12.027388 , 14.808783 ],\n",
       "       [15.25529  , 11.612938 , 11.6191025, 11.555214 ],\n",
       "       [12.453473 , 12.256454 , 11.451984 , 13.869852 ],\n",
       "       [12.151444 , 12.06617  , 12.565708 , 15.293935 ],\n",
       "       [12.504083 ,  7.598563 , 12.737332 , 12.728728 ],\n",
       "       [15.214001 , 13.448031 , 14.993663 , 12.298806 ],\n",
       "       [12.115176 , 11.381439 , 13.5231285, 12.511474 ],\n",
       "       [13.789162 , 12.062328 , 13.708208 , 12.164649 ],\n",
       "       [15.624706 , 12.371835 , 15.599042 , 14.970676 ],\n",
       "       [15.29989  , 14.439255 , 13.55522  , 15.042978 ],\n",
       "       [11.483184 , 11.65303  , 14.325872 , 12.170675 ],\n",
       "       [12.525322 , 12.145957 , 15.007048 , 13.252035 ],\n",
       "       [15.116032 , 12.979773 , 15.633157 , 12.461521 ],\n",
       "       [15.481188 , 13.125417 , 15.432194 , 11.588688 ],\n",
       "       [15.42034  , 15.558682 , 11.473368 , 12.84563  ],\n",
       "       [14.500239 , 15.51372  , 13.046664 , 14.851986 ],\n",
       "       [14.960811 , 14.455356 , 15.20031  , 14.009333 ],\n",
       "       [14.510517 , 15.551199 , 13.273822 , 15.749222 ],\n",
       "       [ 5.1611447, 15.119436 , 11.660004 , 13.006174 ],\n",
       "       [12.326885 , 11.81178  , 14.756456 , 12.138423 ]], dtype=float32)"
      ]
     },
     "execution_count": 32,
     "metadata": {},
     "output_type": "execute_result"
    }
   ],
   "source": [
    "pred_vals[:,:]"
   ]
  },
  {
   "cell_type": "code",
   "execution_count": null,
   "id": "396a1aed-e2ce-4b6c-88ca-e35ad0269cc7",
   "metadata": {},
   "outputs": [],
   "source": []
  },
  {
   "cell_type": "code",
   "execution_count": null,
   "id": "646d5de2-c306-43cc-b07c-58bcc1d51a68",
   "metadata": {},
   "outputs": [],
   "source": [
    "pbar = tqdm(parsed_tensors_dataset)\n",
    "\n",
    "# Iterate over the batches of the dataset.\n",
    "for d in  pbar:\n",
    "    mygraph = preprocess_data(d)\n",
    "    break"
   ]
  },
  {
   "cell_type": "code",
   "execution_count": null,
   "id": "606ca626-d4eb-4dcb-bbd4-33a56d4326a3",
   "metadata": {},
   "outputs": [],
   "source": [
    "mygraph"
   ]
  },
  {
   "cell_type": "code",
   "execution_count": null,
   "id": "828101b0-2cc3-4419-9c21-767f453445b3",
   "metadata": {},
   "outputs": [],
   "source": [
    "utils_tf.get_num_graphs(mygraph)\n",
    "\n",
    "num_graphs = utils_tf.get_num_graphs(mygraph)\n",
    "graph_index = tf.range(num_graphs)\n",
    "indices = utils_tf.repeat(graph_index, mygraph.n_node, axis=0)#,\n",
    "                              #sum_repeats_hint=_get_static_num_nodes(graph))\n",
    "tf.math.unsorted_segment_sum(mygraph.nodes, indices, num_graphs)"
   ]
  },
  {
   "cell_type": "code",
   "execution_count": null,
   "id": "e3fb3066-fd52-4458-97fe-8d4542be2640",
   "metadata": {},
   "outputs": [],
   "source": [
    "indices"
   ]
  },
  {
   "cell_type": "code",
   "execution_count": null,
   "id": "518850a7-d1db-4a93-8283-247080168069",
   "metadata": {},
   "outputs": [],
   "source": [
    "?tf.math.unsorted_segment_sum"
   ]
  },
  {
   "cell_type": "code",
   "execution_count": null,
   "id": "c5b651c9-d771-4678-9c4d-8a4a9cfbe2ff",
   "metadata": {},
   "outputs": [],
   "source": [
    "tf.repeat(graph_index, mygraph.n_node,axis=0)"
   ]
  },
  {
   "cell_type": "code",
   "execution_count": null,
   "id": "f07091e8-de81-4237-a9ff-745cf186607d",
   "metadata": {},
   "outputs": [],
   "source": [
    "epd._output_transform"
   ]
  },
  {
   "cell_type": "code",
   "execution_count": null,
   "id": "6f550c32-3a03-44be-a95f-3c5695845cc7",
   "metadata": {},
   "outputs": [],
   "source": [
    "   # Encode the input_graph.\n",
    "latent_graph_0 = epd._encode(input_graphs)\n",
    "\n",
    "# Do `m` message passing steps in the latent graphs.\n",
    "latent_graph_m = epd._process(latent_graph_0)\n",
    "decode_graph_m = epd._decode(latent_graph_m)\n",
    "    # Decode from the last latent graph.\n",
    "    #return self._output_transform(decode_graph_m.globals)"
   ]
  },
  {
   "cell_type": "code",
   "execution_count": null,
   "id": "e0dede7b-a73e-419d-ba41-bf6b3cd6856c",
   "metadata": {},
   "outputs": [],
   "source": [
    "model2 = tf.keras.Sequential()\n",
    "model2.add(tf.keras.layers.Dense(8))\n",
    "model2.add(tf.keras.layers.LayerNormalization(axis=1))\n",
    "model2.build(input_shape=(128,))"
   ]
  },
  {
   "cell_type": "code",
   "execution_count": null,
   "id": "1e28b70c-8315-4ad6-a4b6-73fad5380ba5",
   "metadata": {},
   "outputs": [],
   "source": [
    "\n",
    "\n"
   ]
  },
  {
   "cell_type": "code",
   "execution_count": null,
   "id": "076f5237-2a62-425e-8d90-29ca2f3a9ce2",
   "metadata": {},
   "outputs": [],
   "source": [
    "model.summary()"
   ]
  },
  {
   "cell_type": "code",
   "execution_count": null,
   "id": "b7e409fc-9a42-4987-b030-04f876ce984e",
   "metadata": {},
   "outputs": [],
   "source": [
    "decode_graph_m.globals"
   ]
  },
  {
   "cell_type": "code",
   "execution_count": null,
   "id": "04173e4b-14a7-4da4-a56a-ae82e77055eb",
   "metadata": {},
   "outputs": [],
   "source": [
    "model(decode_graph_m.globals)"
   ]
  },
  {
   "cell_type": "code",
   "execution_count": null,
   "id": "6e203dc5-9d4f-4179-b421-ab0f0a092fc5",
   "metadata": {},
   "outputs": [],
   "source": [
    "epd._output_size"
   ]
  },
  {
   "cell_type": "code",
   "execution_count": null,
   "id": "7c8e33c9-4900-4064-8f89-f4ba44bd8727",
   "metadata": {},
   "outputs": [],
   "source": [
    "# Create a `Sequential` model and add a Dense layer as the first layer.\n",
    "model = tf.keras.models.Sequential()\n",
    "\n",
    "for _ in range(epd._mlp_num_hidden_layers):\n",
    "    model.add(tf.keras.layers.Dense(epd._mlp_hidden_size, activation='relu'))\n",
    "\n",
    "model.add(tf.keras.layers.Dense(epd._output_size,activation=tf.nn.softplus))\n"
   ]
  },
  {
   "cell_type": "code",
   "execution_count": null,
   "id": "7419d4c1-bbf9-4135-b7f5-2bdbb53184b0",
   "metadata": {},
   "outputs": [],
   "source": []
  }
 ],
 "metadata": {
  "kernelspec": {
   "display_name": "Python 3",
   "language": "python",
   "name": "python3"
  },
  "language_info": {
   "codemirror_mode": {
    "name": "ipython",
    "version": 3
   },
   "file_extension": ".py",
   "mimetype": "text/x-python",
   "name": "python",
   "nbconvert_exporter": "python",
   "pygments_lexer": "ipython3",
   "version": "3.9.5"
  }
 },
 "nbformat": 4,
 "nbformat_minor": 5
}
