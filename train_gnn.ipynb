{
 "cells": [
  {
   "cell_type": "code",
   "execution_count": 1,
   "id": "25ed83b4-22a7-42b5-8f08-7acdeeeccdcc",
   "metadata": {},
   "outputs": [
    {
     "name": "stderr",
     "output_type": "stream",
     "text": [
      "2021-10-20 12:40:13.642581: I tensorflow/stream_executor/platform/default/dso_loader.cc:49] Successfully opened dynamic library libcudart.so.10.1\n"
     ]
    }
   ],
   "source": [
    "import os, sys\n",
    "import numpy as np\n",
    "from math import *\n",
    "from tqdm import tqdm\n",
    "import matplotlib.pyplot as plt\n",
    "\n",
    "import tensorflow as tf\n",
    "\n",
    "from graph_nets import graphs\n",
    "import networkx as nx\n",
    "from graph_nets import utils_tf\n",
    "\n",
    "from graph_network import EncodeProcessDecode"
   ]
  },
  {
   "cell_type": "markdown",
   "id": "c69946f4-7377-4656-9e2f-edfab52c4337",
   "metadata": {},
   "source": [
    "## Prepare the data"
   ]
  },
  {
   "cell_type": "code",
   "execution_count": 2,
   "id": "99535246-89e7-43e5-b86d-c53ed71735e4",
   "metadata": {},
   "outputs": [
    {
     "name": "stderr",
     "output_type": "stream",
     "text": [
      "2021-10-20 12:40:14.602191: I tensorflow/compiler/jit/xla_cpu_device.cc:41] Not creating XLA devices, tf_xla_enable_xla_devices not set\n",
      "2021-10-20 12:40:14.602811: I tensorflow/stream_executor/platform/default/dso_loader.cc:49] Successfully opened dynamic library libcuda.so.1\n",
      "2021-10-20 12:40:14.641247: I tensorflow/stream_executor/cuda/cuda_gpu_executor.cc:941] successful NUMA node read from SysFS had negative value (-1), but there must be at least one NUMA node, so returning NUMA node zero\n",
      "2021-10-20 12:40:14.641632: I tensorflow/core/common_runtime/gpu/gpu_device.cc:1720] Found device 0 with properties: \n",
      "pciBusID: 0000:01:00.0 name: Quadro P1000 computeCapability: 6.1\n",
      "coreClock: 1.4805GHz coreCount: 5 deviceMemorySize: 3.92GiB deviceMemoryBandwidth: 74.65GiB/s\n",
      "2021-10-20 12:40:14.641660: I tensorflow/stream_executor/platform/default/dso_loader.cc:49] Successfully opened dynamic library libcudart.so.10.1\n",
      "2021-10-20 12:40:14.643587: I tensorflow/stream_executor/platform/default/dso_loader.cc:49] Successfully opened dynamic library libcublas.so.10\n",
      "2021-10-20 12:40:14.643632: I tensorflow/stream_executor/platform/default/dso_loader.cc:49] Successfully opened dynamic library libcublasLt.so.10\n",
      "2021-10-20 12:40:14.645083: I tensorflow/stream_executor/platform/default/dso_loader.cc:49] Successfully opened dynamic library libcufft.so.10\n",
      "2021-10-20 12:40:14.645336: I tensorflow/stream_executor/platform/default/dso_loader.cc:49] Successfully opened dynamic library libcurand.so.10\n",
      "2021-10-20 12:40:14.646965: I tensorflow/stream_executor/platform/default/dso_loader.cc:49] Successfully opened dynamic library libcusolver.so.10\n",
      "2021-10-20 12:40:14.647902: I tensorflow/stream_executor/platform/default/dso_loader.cc:49] Successfully opened dynamic library libcusparse.so.10\n",
      "2021-10-20 12:40:14.651072: I tensorflow/stream_executor/platform/default/dso_loader.cc:49] Successfully opened dynamic library libcudnn.so.7\n",
      "2021-10-20 12:40:14.651169: I tensorflow/stream_executor/cuda/cuda_gpu_executor.cc:941] successful NUMA node read from SysFS had negative value (-1), but there must be at least one NUMA node, so returning NUMA node zero\n",
      "2021-10-20 12:40:14.651723: I tensorflow/stream_executor/cuda/cuda_gpu_executor.cc:941] successful NUMA node read from SysFS had negative value (-1), but there must be at least one NUMA node, so returning NUMA node zero\n",
      "2021-10-20 12:40:14.651977: I tensorflow/core/common_runtime/gpu/gpu_device.cc:1862] Adding visible gpu devices: 0\n",
      "2021-10-20 12:40:14.652353: I tensorflow/core/platform/cpu_feature_guard.cc:142] This TensorFlow binary is optimized with oneAPI Deep Neural Network Library (oneDNN) to use the following CPU instructions in performance-critical operations:  SSE4.1 SSE4.2 AVX AVX2 FMA\n",
      "To enable them in other operations, rebuild TensorFlow with the appropriate compiler flags.\n",
      "2021-10-20 12:40:14.652894: I tensorflow/stream_executor/cuda/cuda_gpu_executor.cc:941] successful NUMA node read from SysFS had negative value (-1), but there must be at least one NUMA node, so returning NUMA node zero\n",
      "2021-10-20 12:40:14.653175: I tensorflow/core/common_runtime/gpu/gpu_device.cc:1720] Found device 0 with properties: \n",
      "pciBusID: 0000:01:00.0 name: Quadro P1000 computeCapability: 6.1\n",
      "coreClock: 1.4805GHz coreCount: 5 deviceMemorySize: 3.92GiB deviceMemoryBandwidth: 74.65GiB/s\n",
      "2021-10-20 12:40:14.653197: I tensorflow/stream_executor/platform/default/dso_loader.cc:49] Successfully opened dynamic library libcudart.so.10.1\n",
      "2021-10-20 12:40:14.653212: I tensorflow/stream_executor/platform/default/dso_loader.cc:49] Successfully opened dynamic library libcublas.so.10\n",
      "2021-10-20 12:40:14.653225: I tensorflow/stream_executor/platform/default/dso_loader.cc:49] Successfully opened dynamic library libcublasLt.so.10\n",
      "2021-10-20 12:40:14.653237: I tensorflow/stream_executor/platform/default/dso_loader.cc:49] Successfully opened dynamic library libcufft.so.10\n",
      "2021-10-20 12:40:14.653249: I tensorflow/stream_executor/platform/default/dso_loader.cc:49] Successfully opened dynamic library libcurand.so.10\n",
      "2021-10-20 12:40:14.653261: I tensorflow/stream_executor/platform/default/dso_loader.cc:49] Successfully opened dynamic library libcusolver.so.10\n",
      "2021-10-20 12:40:14.653273: I tensorflow/stream_executor/platform/default/dso_loader.cc:49] Successfully opened dynamic library libcusparse.so.10\n",
      "2021-10-20 12:40:14.653286: I tensorflow/stream_executor/platform/default/dso_loader.cc:49] Successfully opened dynamic library libcudnn.so.7\n",
      "2021-10-20 12:40:14.653334: I tensorflow/stream_executor/cuda/cuda_gpu_executor.cc:941] successful NUMA node read from SysFS had negative value (-1), but there must be at least one NUMA node, so returning NUMA node zero\n",
      "2021-10-20 12:40:14.653622: I tensorflow/stream_executor/cuda/cuda_gpu_executor.cc:941] successful NUMA node read from SysFS had negative value (-1), but there must be at least one NUMA node, so returning NUMA node zero\n",
      "2021-10-20 12:40:14.653837: I tensorflow/core/common_runtime/gpu/gpu_device.cc:1862] Adding visible gpu devices: 0\n",
      "2021-10-20 12:40:14.653862: I tensorflow/stream_executor/platform/default/dso_loader.cc:49] Successfully opened dynamic library libcudart.so.10.1\n",
      "2021-10-20 12:40:14.939016: I tensorflow/core/common_runtime/gpu/gpu_device.cc:1261] Device interconnect StreamExecutor with strength 1 edge matrix:\n",
      "2021-10-20 12:40:14.939034: I tensorflow/core/common_runtime/gpu/gpu_device.cc:1267]      0 \n",
      "2021-10-20 12:40:14.939038: I tensorflow/core/common_runtime/gpu/gpu_device.cc:1280] 0:   N \n",
      "2021-10-20 12:40:14.939162: I tensorflow/stream_executor/cuda/cuda_gpu_executor.cc:941] successful NUMA node read from SysFS had negative value (-1), but there must be at least one NUMA node, so returning NUMA node zero\n",
      "2021-10-20 12:40:14.939366: I tensorflow/stream_executor/cuda/cuda_gpu_executor.cc:941] successful NUMA node read from SysFS had negative value (-1), but there must be at least one NUMA node, so returning NUMA node zero\n",
      "2021-10-20 12:40:14.939540: I tensorflow/stream_executor/cuda/cuda_gpu_executor.cc:941] successful NUMA node read from SysFS had negative value (-1), but there must be at least one NUMA node, so returning NUMA node zero\n",
      "2021-10-20 12:40:14.939704: I tensorflow/core/common_runtime/gpu/gpu_device.cc:1406] Created TensorFlow device (/job:localhost/replica:0/task:0/device:GPU:0 with 2674 MB memory) -> physical GPU (device: 0, name: Quadro P1000, pci bus id: 0000:01:00.0, compute capability: 6.1)\n",
      "2021-10-20 12:40:14.939910: I tensorflow/compiler/jit/xla_gpu_device.cc:99] Not creating XLA devices, tf_xla_enable_xla_devices not set\n"
     ]
    }
   ],
   "source": [
    "data_dir = 'tmp_datasets/'\n",
    "\n",
    "feature_description = {'group_id': tf.io.FixedLenFeature([], tf.int64),\n",
    "                        'timestep': tf.io.FixedLenFeature([], tf.int64),\n",
    "                        'parameter_vector': tf.io.FixedLenSequenceFeature([], tf.float32,allow_missing=True),\n",
    "                        'pos': tf.io.FixedLenFeature([], tf.string),\n",
    "                        'vel': tf.io.FixedLenFeature([], tf.string)}\n",
    "\n",
    "\n",
    "records_dataset =  tf.data.TFRecordDataset(tf.data.Dataset.list_files([data_dir + filename for filename in os.listdir(data_dir)]))\n",
    "\n",
    "\n",
    "def _parse_record(x):\n",
    "  # Parse the input tf.train.Example proto using the dictionary above.\n",
    "  return tf.io.parse_single_example(x, feature_description)\n",
    "\n",
    "parsed_records_dataset = records_dataset.map(_parse_record)\n",
    "\n",
    "def _parse_tensor(x):\n",
    "    output = {'group_id': x['group_id'],\n",
    "                'timestep': x['timestep'],\n",
    "                'parameter_vector': x['parameter_vector'],\n",
    "                'pos': tf.io.parse_tensor(x['pos'],out_type=tf.float32),\n",
    "                'vel': tf.io.parse_tensor(x['vel'],out_type=tf.float32)}\n",
    "    return output\n",
    "\n",
    "parsed_tensors_dataset = parsed_records_dataset.map(_parse_tensor)\n",
    "parsed_tensors_dataset = parsed_tensors_dataset.shuffle(10000, reshuffle_each_iteration=True)\n",
    "parsed_tensors_dataset = parsed_tensors_dataset.batch(4)\n"
   ]
  },
  {
   "cell_type": "markdown",
   "id": "e28722d4-6fba-4be9-965b-52f9aae650e1",
   "metadata": {},
   "source": [
    "## Preprocess positions and velocities into a graph tuple"
   ]
  },
  {
   "cell_type": "code",
   "execution_count": 3,
   "id": "2253c531-1b30-4c32-b508-70c8cacb0cd1",
   "metadata": {},
   "outputs": [],
   "source": [
    "interaction_radius = 15.0\n",
    "L = 200\n",
    "def preprocess_data(databatch):\n",
    "    \n",
    "    # node features xpos, ypos, xvel, yvel\n",
    "    # edge features distance, rel angle to receiver\n",
    "    X = databatch['pos']\n",
    "    V = databatch['vel']\n",
    "    \n",
    "    Xx = tf.expand_dims(X[...,0],-1)\n",
    "    dx = -Xx + tf.linalg.matrix_transpose(Xx)\n",
    "    dx = tf.where(dx>0.5*L, dx-L, dx)\n",
    "    dx = tf.where(dx<-0.5*L, dx+L, dx)\n",
    "\n",
    "    Xy = tf.expand_dims(X[...,1],-1)\n",
    "    dy = -Xy + tf.linalg.matrix_transpose(Xy)\n",
    "    dy = tf.where(dy>0.5*L, dy-L, dy)\n",
    "    dy = tf.where(dy<-0.5*L, dy+L, dy)\n",
    "\n",
    "\n",
    "\n",
    "    A = tf.expand_dims(tf.math.atan2(V[...,1],V[...,0]),-1)\n",
    "    angle_to_neigh = tf.math.atan2(dy, dx)\n",
    "\n",
    "    rel_angle_to_neigh = angle_to_neigh - A\n",
    "\n",
    "    dist = tf.math.sqrt(tf.square(dx)+tf.square(dy))\n",
    "\n",
    "    adj_matrix = tf.where(dist<interaction_radius, tf.ones_like(dist,dtype=tf.int32), tf.zeros_like(dist,dtype=tf.int32))\n",
    "    adj_matrix = tf.linalg.set_diag(adj_matrix, tf.zeros(tf.shape(adj_matrix)[:2],dtype=tf.int32))\n",
    "    sender_recv_list = tf.where(adj_matrix)\n",
    "    n_edge = tf.reduce_sum(adj_matrix, axis=[1,2])\n",
    "    n_node = tf.ones_like(n_edge)*tf.shape(adj_matrix)[-1]\n",
    "\n",
    "    senders = sender_recv_list[:,1] + sender_recv_list[:,0]*tf.shape(adj_matrix,out_type=tf.int64)[-1]\n",
    "    receivers = sender_recv_list[:,2] + sender_recv_list[:,0]*tf.shape(adj_matrix,out_type=tf.int64)[-1]\n",
    "\n",
    "\n",
    "    edge_distance = tf.expand_dims(tf.gather_nd(dist,sender_recv_list),-1)\n",
    "    edge_x_distance =  tf.expand_dims(tf.gather_nd(tf.math.cos(rel_angle_to_neigh),sender_recv_list),-1)  # relative to sender heading\n",
    "    edge_y_distance =  tf.expand_dims( tf.gather_nd(tf.math.sin(rel_angle_to_neigh),sender_recv_list),-1)  # relative to sender heading\n",
    "\n",
    "\n",
    "    edges = tf.concat([edge_distance,edge_x_distance,edge_y_distance],axis=-1)\n",
    "\n",
    "    node_positions = tf.reshape(X,(-1,2))\n",
    "    node_velocities = tf.reshape(V,(-1,2))\n",
    "\n",
    "    nodes = tf.concat([node_positions,node_velocities],axis=-1)\n",
    "\n",
    "    gn = graphs.GraphsTuple(nodes=nodes,edges=edges,globals=None,receivers=receivers,senders=senders,n_node=n_node,n_edge=n_edge)\n",
    "    gn = utils_tf.set_zero_global_features(gn,1)\n",
    "    \n",
    "    return gn"
   ]
  },
  {
   "cell_type": "markdown",
   "id": "120d477f-db5d-4b7e-90c5-cbcc10e47773",
   "metadata": {},
   "source": [
    "## Set up the optimizer and the loss function"
   ]
  },
  {
   "cell_type": "code",
   "execution_count": 4,
   "id": "8fd3808a-d298-481c-9955-0b24a4205382",
   "metadata": {},
   "outputs": [],
   "source": [
    "min_lr = 1e-6\n",
    "lr = tf.keras.optimizers.schedules.ExponentialDecay(initial_learning_rate=1e-4 - min_lr,\n",
    "                                decay_steps=int(5e6),\n",
    "                                decay_rate=0.1) #+ min_lr\n",
    "optimizer = tf.keras.optimizers.Adam(learning_rate=lr)\n",
    "\n",
    "loss_function = tf.keras.losses.MeanSquaredError()"
   ]
  },
  {
   "cell_type": "code",
   "execution_count": 5,
   "id": "1da34512-ede1-49fe-bd9b-4027195e6446",
   "metadata": {},
   "outputs": [],
   "source": [
    "epd = EncodeProcessDecode(latent_size=128,mlp_hidden_size=128,mlp_num_hidden_layers=2,num_message_passing_steps=10,output_size=1)"
   ]
  },
  {
   "cell_type": "code",
   "execution_count": 6,
   "id": "cc2afb12-be7f-4636-84a8-8ab6a1fb9257",
   "metadata": {},
   "outputs": [],
   "source": [
    "def train_step(databatch):\n",
    "    input_graphs = preprocess_data(databatch)\n",
    "    target = databatch['parameter_vector'][:,2]\n",
    "    \n",
    "    with tf.GradientTape() as tape:\n",
    "        predictions = epd(input_graphs)\n",
    "        loss_value = loss_function(target,predictions)\n",
    "    grads = tape.gradient(loss_value, epd.trainable_variables)\n",
    "    optimizer.apply_gradients(zip(grads, epd.trainable_variables))\n",
    "    return loss_value"
   ]
  },
  {
   "cell_type": "markdown",
   "id": "c161b4fe-df29-49c1-9c4d-78c4e48a4c82",
   "metadata": {},
   "source": [
    "## Run the training"
   ]
  },
  {
   "cell_type": "code",
   "execution_count": null,
   "id": "6d798330-7a8e-439a-a5a4-2a3aff46fc16",
   "metadata": {},
   "outputs": [
    {
     "name": "stderr",
     "output_type": "stream",
     "text": [
      "0it [00:00, ?it/s]2021-10-20 12:40:49.663712: I tensorflow/compiler/mlir/mlir_graph_optimization_pass.cc:116] None of the MLIR optimization passes are enabled (registered 2)\n",
      "2021-10-20 12:40:49.681159: I tensorflow/core/platform/profile_utils/cpu_utils.cc:112] CPU Frequency: 3299990000 Hz\n",
      "2021-10-20 12:40:49.932292: I tensorflow/stream_executor/platform/default/dso_loader.cc:49] Successfully opened dynamic library libcublas.so.10\n",
      "2021-10-20 12:40:50.086458: W tensorflow/python/util/util.cc:348] Sets are not currently considered sequences, but this may change in the future, so consider avoiding using them.\n",
      "Loss 54.347187: : 27it [00:04,  6.42it/s] "
     ]
    }
   ],
   "source": [
    "epochs = 20\n",
    "\n",
    "for epoch in range(epochs):\n",
    "    pbar = tqdm(parsed_tensors_dataset)\n",
    "\n",
    "    # Iterate over the batches of the dataset.\n",
    "    for d in  pbar:\n",
    "        loss_value = train_step(d).numpy()\n",
    "        pbar.set_description(\"Loss %f\" % loss_value)\n",
    "        "
   ]
  },
  {
   "cell_type": "code",
   "execution_count": 131,
   "id": "64fedc23-7c3d-4213-8b02-76b66593e97d",
   "metadata": {},
   "outputs": [
    {
     "name": "stderr",
     "output_type": "stream",
     "text": [
      "999it [00:48, 20.61it/s]\n"
     ]
    }
   ],
   "source": [
    "pred_list = []\n",
    "true_values = []\n",
    "count=0\n",
    "for databatch in tqdm(parsed_tensors_dataset):\n",
    "    true_values.append(databatch['parameter_vector'][:,2].numpy())\n",
    "    input_graphs = preprocess_data(databatch)\n",
    "    predictions = epd(input_graphs)\n",
    "    pred_list.append(np.squeeze(predictions.numpy()))\n",
    "    count+=1\n",
    "\n",
    "    if count == 1000: break\n",
    "pred_vals = np.array(pred_list).flatten()\n",
    "true_vals = np.array(true_values).flatten()\n",
    "\n",
    "\n"
   ]
  },
  {
   "cell_type": "code",
   "execution_count": 132,
   "id": "3429d9f3-98c7-4718-a6d8-577fbd52bb35",
   "metadata": {},
   "outputs": [
    {
     "data": {
      "image/png": "[encoded data removed]",
      "text/plain": [
       "<Figure size 432x288 with 1 Axes>"
      ]
     },
     "metadata": {
      "needs_background": "light"
     },
     "output_type": "display_data"
    }
   ],
   "source": [
    "plt.plot(true_vals,pred_vals,'o')\n",
    "xx = np.linspace(0,25,10)\n",
    "plt.plot(xx,xx)\n",
    "plt.show()"
   ]
  },
  {
   "cell_type": "code",
   "execution_count": null,
   "id": "646d5de2-c306-43cc-b07c-58bcc1d51a68",
   "metadata": {},
   "outputs": [],
   "source": []
  }
 ],
 "metadata": {
  "kernelspec": {
   "display_name": "Python 3 (ipykernel)",
   "language": "python",
   "name": "python3"
  },
  "language_info": {
   "codemirror_mode": {
    "name": "ipython",
    "version": 3
   },
   "file_extension": ".py",
   "mimetype": "text/x-python",
   "name": "python",
   "nbconvert_exporter": "python",
   "pygments_lexer": "ipython3",
   "version": "3.9.7"
  }
 },
 "nbformat": 4,
 "nbformat_minor": 5
}
