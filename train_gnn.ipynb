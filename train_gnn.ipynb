{
 "cells": [
  {
   "cell_type": "code",
   "execution_count": 1,
   "id": "25ed83b4-22a7-42b5-8f08-7acdeeeccdcc",
   "metadata": {},
   "outputs": [
    {
     "name": "stderr",
     "output_type": "stream",
     "text": [
      "2021-10-22 15:17:47.690089: I tensorflow/stream_executor/platform/default/dso_loader.cc:49] Successfully opened dynamic library libcudart.so.10.1\n"
     ]
    }
   ],
   "source": [
    "import os, sys\n",
    "import numpy as np\n",
    "from math import *\n",
    "from tqdm import tqdm\n",
    "import matplotlib.pyplot as plt\n",
    "\n",
    "import tensorflow as tf\n",
    "\n",
    "from graph_nets import graphs\n",
    "import networkx as nx\n",
    "from graph_nets import utils_tf\n",
    "\n",
    "from graph_network import EncodeProcessDecode\n",
    "\n",
    "plt.style.use('ggplot') \n",
    "plt.style.use('seaborn-paper') \n",
    "plt.style.use('seaborn-whitegrid') "
   ]
  },
  {
   "cell_type": "markdown",
   "id": "c69946f4-7377-4656-9e2f-edfab52c4337",
   "metadata": {},
   "source": [
    "## Prepare the data"
   ]
  },
  {
   "cell_type": "code",
   "execution_count": 2,
   "id": "99535246-89e7-43e5-b86d-c53ed71735e4",
   "metadata": {},
   "outputs": [
    {
     "name": "stderr",
     "output_type": "stream",
     "text": [
      "2021-10-22 15:17:48.636785: I tensorflow/compiler/jit/xla_cpu_device.cc:41] Not creating XLA devices, tf_xla_enable_xla_devices not set\n",
      "2021-10-22 15:17:48.637389: I tensorflow/stream_executor/platform/default/dso_loader.cc:49] Successfully opened dynamic library libcuda.so.1\n",
      "2021-10-22 15:17:48.670877: I tensorflow/stream_executor/cuda/cuda_gpu_executor.cc:941] successful NUMA node read from SysFS had negative value (-1), but there must be at least one NUMA node, so returning NUMA node zero\n",
      "2021-10-22 15:17:48.671001: I tensorflow/core/common_runtime/gpu/gpu_device.cc:1720] Found device 0 with properties: \n",
      "pciBusID: 0000:01:00.0 name: Quadro P1000 computeCapability: 6.1\n",
      "coreClock: 1.4805GHz coreCount: 5 deviceMemorySize: 3.92GiB deviceMemoryBandwidth: 74.65GiB/s\n",
      "2021-10-22 15:17:48.671018: I tensorflow/stream_executor/platform/default/dso_loader.cc:49] Successfully opened dynamic library libcudart.so.10.1\n",
      "2021-10-22 15:17:48.672117: I tensorflow/stream_executor/platform/default/dso_loader.cc:49] Successfully opened dynamic library libcublas.so.10\n",
      "2021-10-22 15:17:48.672143: I tensorflow/stream_executor/platform/default/dso_loader.cc:49] Successfully opened dynamic library libcublasLt.so.10\n",
      "2021-10-22 15:17:48.673204: I tensorflow/stream_executor/platform/default/dso_loader.cc:49] Successfully opened dynamic library libcufft.so.10\n",
      "2021-10-22 15:17:48.673356: I tensorflow/stream_executor/platform/default/dso_loader.cc:49] Successfully opened dynamic library libcurand.so.10\n",
      "2021-10-22 15:17:48.674488: I tensorflow/stream_executor/platform/default/dso_loader.cc:49] Successfully opened dynamic library libcusolver.so.10\n",
      "2021-10-22 15:17:48.675050: I tensorflow/stream_executor/platform/default/dso_loader.cc:49] Successfully opened dynamic library libcusparse.so.10\n",
      "2021-10-22 15:17:48.677269: I tensorflow/stream_executor/platform/default/dso_loader.cc:49] Successfully opened dynamic library libcudnn.so.7\n",
      "2021-10-22 15:17:48.677345: I tensorflow/stream_executor/cuda/cuda_gpu_executor.cc:941] successful NUMA node read from SysFS had negative value (-1), but there must be at least one NUMA node, so returning NUMA node zero\n",
      "2021-10-22 15:17:48.677486: I tensorflow/stream_executor/cuda/cuda_gpu_executor.cc:941] successful NUMA node read from SysFS had negative value (-1), but there must be at least one NUMA node, so returning NUMA node zero\n",
      "2021-10-22 15:17:48.677569: I tensorflow/core/common_runtime/gpu/gpu_device.cc:1862] Adding visible gpu devices: 0\n",
      "2021-10-22 15:17:48.678043: I tensorflow/core/platform/cpu_feature_guard.cc:142] This TensorFlow binary is optimized with oneAPI Deep Neural Network Library (oneDNN) to use the following CPU instructions in performance-critical operations:  SSE4.1 SSE4.2 AVX AVX2 FMA\n",
      "To enable them in other operations, rebuild TensorFlow with the appropriate compiler flags.\n",
      "2021-10-22 15:17:48.678888: I tensorflow/stream_executor/cuda/cuda_gpu_executor.cc:941] successful NUMA node read from SysFS had negative value (-1), but there must be at least one NUMA node, so returning NUMA node zero\n",
      "2021-10-22 15:17:48.678991: I tensorflow/core/common_runtime/gpu/gpu_device.cc:1720] Found device 0 with properties: \n",
      "pciBusID: 0000:01:00.0 name: Quadro P1000 computeCapability: 6.1\n",
      "coreClock: 1.4805GHz coreCount: 5 deviceMemorySize: 3.92GiB deviceMemoryBandwidth: 74.65GiB/s\n",
      "2021-10-22 15:17:48.679006: I tensorflow/stream_executor/platform/default/dso_loader.cc:49] Successfully opened dynamic library libcudart.so.10.1\n",
      "2021-10-22 15:17:48.679017: I tensorflow/stream_executor/platform/default/dso_loader.cc:49] Successfully opened dynamic library libcublas.so.10\n",
      "2021-10-22 15:17:48.679025: I tensorflow/stream_executor/platform/default/dso_loader.cc:49] Successfully opened dynamic library libcublasLt.so.10\n",
      "2021-10-22 15:17:48.679033: I tensorflow/stream_executor/platform/default/dso_loader.cc:49] Successfully opened dynamic library libcufft.so.10\n",
      "2021-10-22 15:17:48.679041: I tensorflow/stream_executor/platform/default/dso_loader.cc:49] Successfully opened dynamic library libcurand.so.10\n",
      "2021-10-22 15:17:48.679048: I tensorflow/stream_executor/platform/default/dso_loader.cc:49] Successfully opened dynamic library libcusolver.so.10\n",
      "2021-10-22 15:17:48.679055: I tensorflow/stream_executor/platform/default/dso_loader.cc:49] Successfully opened dynamic library libcusparse.so.10\n",
      "2021-10-22 15:17:48.679063: I tensorflow/stream_executor/platform/default/dso_loader.cc:49] Successfully opened dynamic library libcudnn.so.7\n",
      "2021-10-22 15:17:48.679106: I tensorflow/stream_executor/cuda/cuda_gpu_executor.cc:941] successful NUMA node read from SysFS had negative value (-1), but there must be at least one NUMA node, so returning NUMA node zero\n",
      "2021-10-22 15:17:48.679212: I tensorflow/stream_executor/cuda/cuda_gpu_executor.cc:941] successful NUMA node read from SysFS had negative value (-1), but there must be at least one NUMA node, so returning NUMA node zero\n",
      "2021-10-22 15:17:48.679295: I tensorflow/core/common_runtime/gpu/gpu_device.cc:1862] Adding visible gpu devices: 0\n",
      "2021-10-22 15:17:48.679311: I tensorflow/stream_executor/platform/default/dso_loader.cc:49] Successfully opened dynamic library libcudart.so.10.1\n",
      "2021-10-22 15:17:48.964317: I tensorflow/core/common_runtime/gpu/gpu_device.cc:1261] Device interconnect StreamExecutor with strength 1 edge matrix:\n",
      "2021-10-22 15:17:48.964338: I tensorflow/core/common_runtime/gpu/gpu_device.cc:1267]      0 \n",
      "2021-10-22 15:17:48.964342: I tensorflow/core/common_runtime/gpu/gpu_device.cc:1280] 0:   N \n",
      "2021-10-22 15:17:48.964462: I tensorflow/stream_executor/cuda/cuda_gpu_executor.cc:941] successful NUMA node read from SysFS had negative value (-1), but there must be at least one NUMA node, so returning NUMA node zero\n",
      "2021-10-22 15:17:48.964593: I tensorflow/stream_executor/cuda/cuda_gpu_executor.cc:941] successful NUMA node read from SysFS had negative value (-1), but there must be at least one NUMA node, so returning NUMA node zero\n",
      "2021-10-22 15:17:48.964698: I tensorflow/stream_executor/cuda/cuda_gpu_executor.cc:941] successful NUMA node read from SysFS had negative value (-1), but there must be at least one NUMA node, so returning NUMA node zero\n",
      "2021-10-22 15:17:48.964793: I tensorflow/core/common_runtime/gpu/gpu_device.cc:1406] Created TensorFlow device (/job:localhost/replica:0/task:0/device:GPU:0 with 3253 MB memory) -> physical GPU (device: 0, name: Quadro P1000, pci bus id: 0000:01:00.0, compute capability: 6.1)\n",
      "2021-10-22 15:17:48.964920: I tensorflow/compiler/jit/xla_gpu_device.cc:99] Not creating XLA devices, tf_xla_enable_xla_devices not set\n"
     ]
    }
   ],
   "source": [
    "train_dir = 'train_datasets/'\n",
    "valid_dir = 'valid_datasets/'\n",
    "\n",
    "feature_description = {'group_id': tf.io.FixedLenFeature([], tf.int64),\n",
    "                        'timestep': tf.io.FixedLenFeature([], tf.int64),\n",
    "                        'parameter_vector': tf.io.FixedLenSequenceFeature([], tf.float32,allow_missing=True),\n",
    "                        'pos': tf.io.FixedLenFeature([], tf.string),\n",
    "                        'vel': tf.io.FixedLenFeature([], tf.string)}\n",
    "\n",
    "def _parse_record(x):\n",
    "  # Parse the input tf.train.Example proto using the dictionary above.\n",
    "  return tf.io.parse_single_example(x, feature_description)\n",
    "\n",
    "def _parse_tensor(x):\n",
    "    output = {'group_id': x['group_id'],\n",
    "                'timestep': x['timestep'],\n",
    "                'parameter_vector': x['parameter_vector'],\n",
    "                'pos': tf.io.parse_tensor(x['pos'],out_type=tf.float32),\n",
    "                'vel': tf.io.parse_tensor(x['vel'],out_type=tf.float32)}\n",
    "    return output\n",
    "\n",
    "train_dataset =  tf.data.TFRecordDataset(tf.data.Dataset.list_files([train_dir + filename for filename in os.listdir(train_dir)]))\n",
    "\n",
    "parsed_train_dataset = train_dataset.map(_parse_record)\n",
    "parsed_train_dataset = parsed_train_dataset.map(_parse_tensor)\n",
    "parsed_train_dataset = parsed_train_dataset.shuffle(10000, reshuffle_each_iteration=True)\n",
    "parsed_train_dataset = parsed_train_dataset.batch(32, drop_remainder=True)\n",
    "\n",
    "\n",
    "\n",
    "valid_dataset =  tf.data.TFRecordDataset(tf.data.Dataset.list_files([valid_dir + filename for filename in os.listdir(valid_dir)]))\n",
    "\n",
    "parsed_valid_dataset = valid_dataset.map(_parse_record)\n",
    "parsed_valid_dataset = parsed_valid_dataset.map(_parse_tensor)\n",
    "parsed_valid_dataset = parsed_valid_dataset.shuffle(10000, reshuffle_each_iteration=True)\n",
    "parsed_valid_dataset = parsed_valid_dataset.batch(4, drop_remainder=True)\n"
   ]
  },
  {
   "cell_type": "markdown",
   "id": "e28722d4-6fba-4be9-965b-52f9aae650e1",
   "metadata": {},
   "source": [
    "## Preprocess positions and velocities into a graph tuple"
   ]
  },
  {
   "cell_type": "code",
   "execution_count": 3,
   "id": "2253c531-1b30-4c32-b508-70c8cacb0cd1",
   "metadata": {},
   "outputs": [],
   "source": [
    "interaction_scale = 0.25 #(* mean distance between individuals)\n",
    "L = 200\n",
    "\n",
    "@tf.function\n",
    "def preprocess_data(X,V):\n",
    "    \n",
    "    # node features xpos, ypos, xvel, yvel\n",
    "    # edge features distance, rel angle to receiver\n",
    "\n",
    "    \n",
    "    Xx = tf.expand_dims(X[...,0],-1)\n",
    "    dx = -Xx + tf.linalg.matrix_transpose(Xx)\n",
    "    dx = tf.where(dx>0.5*L, dx-L, dx)\n",
    "    dx = tf.where(dx<-0.5*L, dx+L, dx)\n",
    "\n",
    "    Xy = tf.expand_dims(X[...,1],-1)\n",
    "    dy = -Xy + tf.linalg.matrix_transpose(Xy)\n",
    "    dy = tf.where(dy>0.5*L, dy-L, dy)\n",
    "    dy = tf.where(dy<-0.5*L, dy+L, dy)\n",
    "\n",
    "    Vx = tf.expand_dims(V[...,0],-1)\n",
    "    dvx = -Vx + tf.linalg.matrix_transpose(Vx)\n",
    "\n",
    "    Vy = tf.expand_dims(V[...,1],-1)\n",
    "    dvy = -Vy + tf.linalg.matrix_transpose(Vy)\n",
    "\n",
    "    A = tf.expand_dims(tf.math.atan2(V[...,1],V[...,0]),-1)\n",
    "    angle_to_neigh = tf.math.atan2(dy, dx)\n",
    "\n",
    "    rel_angle_to_neigh = angle_to_neigh - A\n",
    "\n",
    "    dist = tf.math.sqrt(tf.square(dx)+tf.square(dy))\n",
    "    #print(tf.reduce_mean(dist,axis=[1,2]))\n",
    "    interaction_radius = interaction_scale * tf.reduce_mean(dist,axis=[1,2],keepdims=True)\n",
    "    adj_matrix = tf.where(dist<interaction_radius, tf.ones_like(dist,dtype=tf.int32), tf.zeros_like(dist,dtype=tf.int32))\n",
    "    adj_matrix = tf.linalg.set_diag(adj_matrix, tf.zeros(tf.shape(adj_matrix)[:2],dtype=tf.int32))\n",
    "    sender_recv_list = tf.where(adj_matrix)\n",
    "    n_edge = tf.reduce_sum(adj_matrix, axis=[1,2])\n",
    "    n_node = tf.ones_like(n_edge)*tf.shape(adj_matrix)[-1]\n",
    "\n",
    "    senders =tf.squeeze(tf.slice(sender_recv_list,(0,1),size=(-1,1)))+ tf.squeeze(tf.slice(sender_recv_list,(0,0),size=(-1,1)))*tf.shape(adj_matrix,out_type=tf.int64)[-1]\n",
    "    receivers = tf.squeeze(tf.slice(sender_recv_list,(0,2),size=(-1,1))) + tf.squeeze(tf.slice(sender_recv_list,(0,0),size=(-1,1)))*tf.shape(adj_matrix,out_type=tf.int64)[-1]\n",
    "\n",
    "\n",
    "    edge_distance = tf.expand_dims(tf.gather_nd(dist,sender_recv_list),-1)\n",
    "    edge_x_distance =  tf.expand_dims(tf.gather_nd(tf.math.cos(rel_angle_to_neigh),sender_recv_list),-1)  # neigbour position relative to sender heading\n",
    "    edge_y_distance =  tf.expand_dims(tf.gather_nd(tf.math.sin(rel_angle_to_neigh),sender_recv_list),-1)  # neigbour position relative to sender heading\n",
    "\n",
    "    edge_x_orientation =  tf.expand_dims(tf.gather_nd(dvx,sender_recv_list),-1)  # neigbour velocity relative to sender heading\n",
    "    edge_y_orientation =  tf.expand_dims(tf.gather_nd(dvy,sender_recv_list),-1)  # neigbour velocity relative to sender heading\n",
    "\n",
    "\n",
    "    edges = tf.concat([edge_distance,edge_x_distance,edge_y_distance,edge_x_orientation,edge_y_orientation],axis=-1)\n",
    "\n",
    "    node_positions = tf.reshape(X,(-1,2))\n",
    "    node_velocities = tf.reshape(V,(-1,2))\n",
    "\n",
    "    nodes = tf.concat([node_positions,node_velocities],axis=-1)\n",
    "\n",
    "    gn = graphs.GraphsTuple(nodes=nodes,edges=edges,globals=None,receivers=receivers,senders=senders,n_node=n_node,n_edge=n_edge)\n",
    "    gn = utils_tf.set_zero_global_features(gn,1)\n",
    "    \n",
    "    return gn"
   ]
  },
  {
   "cell_type": "markdown",
   "id": "120d477f-db5d-4b7e-90c5-cbcc10e47773",
   "metadata": {},
   "source": [
    "## Set up the optimizer and the loss function"
   ]
  },
  {
   "cell_type": "code",
   "execution_count": 59,
   "id": "8fd3808a-d298-481c-9955-0b24a4205382",
   "metadata": {},
   "outputs": [],
   "source": [
    "min_lr = 1e-6\n",
    "lr = tf.keras.optimizers.schedules.ExponentialDecay(initial_learning_rate=1e-4 - min_lr,\n",
    "                                decay_steps=int(5e6),\n",
    "                                decay_rate=0.1) #+ min_lr\n",
    "optimizer = tf.keras.optimizers.Adam(learning_rate=lr)\n",
    "\n",
    "loss_function = tf.keras.losses.MeanSquaredError()\n"
   ]
  },
  {
   "cell_type": "code",
   "execution_count": 60,
   "id": "1da34512-ede1-49fe-bd9b-4027195e6446",
   "metadata": {},
   "outputs": [],
   "source": [
    "min_params = np.array([0.0],dtype=np.float32)\n",
    "max_params = np.array([25.0],dtype=np.float32)\n",
    "\n",
    "#max_params = np.array([1.0,25.0,25.0,2*pi],dtype=np.float32)\n",
    "#min_params = np.zeros_like(max_params)\n",
    "max_params = np.array([25.0,25],dtype=np.float32)\n",
    "min_params = np.zeros_like(max_params)\n",
    "epd = EncodeProcessDecode(latent_size=128,mlp_hidden_size=128,mlp_num_hidden_layers=2,num_message_passing_steps=10,output_size=2, output_min=min_params,  output_max=max_params)"
   ]
  },
  {
   "cell_type": "code",
   "execution_count": 61,
   "id": "0e276ab9-006e-4c87-85e6-bbe360b5a8f9",
   "metadata": {},
   "outputs": [],
   "source": [
    "# input_graphs = preprocess_data(X,V)\n",
    "# epd(input_graphs)\n",
    "\n",
    "## to do replace MLP with keras\n",
    "\n",
    "# for databatch in  parsed_tensors_dataset:\n",
    "        \n",
    "#     X = databatch['pos']\n",
    "#     V = databatch['vel']\n",
    "#     input_graphs = preprocess_data(X,V)\n",
    "#     break"
   ]
  },
  {
   "cell_type": "code",
   "execution_count": 62,
   "id": "ff747fc5-4dad-41d1-8610-f1e30c65ca13",
   "metadata": {},
   "outputs": [],
   "source": [
    "# input_signature = [utils_tf.specs_from_graphs_tuple(input_graphs)]"
   ]
  },
  {
   "cell_type": "code",
   "execution_count": 63,
   "id": "7c7f5a59-69f6-4842-b497-b5f2e18818ac",
   "metadata": {},
   "outputs": [],
   "source": [
    "# @tf.function()#input_signature=input_signature)\n",
    "# def predict_graph(input_graphs):\n",
    "#     return epd(input_graphs)\n",
    "    "
   ]
  },
  {
   "cell_type": "code",
   "execution_count": 64,
   "id": "ce1a5deb-27f6-406c-ab01-b82e1b874e3b",
   "metadata": {},
   "outputs": [],
   "source": [
    "# predict_graph.experimental_get_tracing_count()"
   ]
  },
  {
   "cell_type": "code",
   "execution_count": 65,
   "id": "8eaa3253-4311-4ba1-acf1-74e489c3c529",
   "metadata": {},
   "outputs": [],
   "source": [
    "# epochs = 20\n",
    "\n",
    "# for epoch in range(epochs):\n",
    "#     pbar = tqdm(parsed_tensors_dataset)\n",
    "#     epoch_loss = 0\n",
    "#     c = 0 \n",
    "#     # Iterate over the batches of the dataset.\n",
    "#     for databatch in  pbar:\n",
    "#         target = databatch['parameter_vector'][:,2]\n",
    "#         X = databatch['pos']\n",
    "#         V = databatch['vel']\n",
    "        \n",
    "#         input_graphs = preprocess_data(X,V)\n",
    "\n",
    "#         #break\n",
    "#         loss_value = train_step(X,V,target).numpy()\n",
    "#         epoch_loss+= loss_value\n",
    "#         c+=1\n",
    "#         pbar.set_description(\"Loss %f\" % (epoch_loss/c))"
   ]
  },
  {
   "cell_type": "code",
   "execution_count": 66,
   "id": "cc2afb12-be7f-4636-84a8-8ab6a1fb9257",
   "metadata": {},
   "outputs": [],
   "source": [
    "@tf.function()\n",
    "def train_step(X,V,target):\n",
    "   \n",
    "    input_graphs = preprocess_data(X,V)\n",
    "\n",
    "    with tf.GradientTape() as tape:\n",
    "        predictions = epd(input_graphs)\n",
    "        loss_value = loss_function(target,predictions)\n",
    "    grads = tape.gradient(loss_value, epd.trainable_variables)\n",
    "    optimizer.apply_gradients(zip(grads, epd.trainable_variables))\n",
    "    return loss_value"
   ]
  },
  {
   "cell_type": "code",
   "execution_count": 67,
   "id": "087adb41-0c81-4ea9-8bb8-9611d527d193",
   "metadata": {},
   "outputs": [],
   "source": [
    "#predict_graph.experimental_get_tracing_count()"
   ]
  },
  {
   "cell_type": "code",
   "execution_count": 68,
   "id": "fcf58981-409e-4f1d-af58-045f2c086cab",
   "metadata": {},
   "outputs": [],
   "source": [
    "#input_graphs = preprocess_data(X,V)\n",
    "#input_graphs"
   ]
  },
  {
   "cell_type": "markdown",
   "id": "c161b4fe-df29-49c1-9c4d-78c4e48a4c82",
   "metadata": {},
   "source": [
    "## Run the training"
   ]
  },
  {
   "cell_type": "code",
   "execution_count": 76,
   "id": "6d798330-7a8e-439a-a5a4-2a3aff46fc16",
   "metadata": {},
   "outputs": [
    {
     "name": "stderr",
     "output_type": "stream",
     "text": [
      "Loss 28.784548: : 695it [02:51,  4.05it/s]\n",
      "Loss 25.863515: : 695it [02:51,  4.06it/s]\n",
      "Loss 24.085112: : 695it [02:51,  4.05it/s]\n",
      "Loss 22.979180: : 695it [02:52,  4.04it/s]\n",
      "Loss 21.423974: : 695it [02:51,  4.05it/s]\n",
      "Loss 19.857637: : 695it [02:51,  4.06it/s]\n",
      "Loss 19.446475: : 695it [02:51,  4.06it/s]\n",
      "Loss 18.308944: : 695it [02:51,  4.06it/s]\n",
      "Loss 12.928141: : 5it [00:01,  3.11it/s]\n"
     ]
    },
    {
     "ename": "KeyboardInterrupt",
     "evalue": "",
     "output_type": "error",
     "traceback": [
      "\u001b[0;31m---------------------------------------------------------------------------\u001b[0m",
      "\u001b[0;31mKeyboardInterrupt\u001b[0m                         Traceback (most recent call last)",
      "\u001b[0;32m/tmp/ipykernel_17160/1035928798.py\u001b[0m in \u001b[0;36m<module>\u001b[0;34m\u001b[0m\n\u001b[1;32m     19\u001b[0m             \u001b[0;31m#    return epd(input_graphs)\u001b[0m\u001b[0;34m\u001b[0m\u001b[0;34m\u001b[0m\u001b[0m\n\u001b[1;32m     20\u001b[0m         \u001b[0;31m#break\u001b[0m\u001b[0;34m\u001b[0m\u001b[0;34m\u001b[0m\u001b[0m\n\u001b[0;32m---> 21\u001b[0;31m         \u001b[0mloss_value\u001b[0m \u001b[0;34m=\u001b[0m \u001b[0mtrain_step\u001b[0m\u001b[0;34m(\u001b[0m\u001b[0mX\u001b[0m\u001b[0;34m,\u001b[0m\u001b[0mV\u001b[0m\u001b[0;34m,\u001b[0m\u001b[0mtarget\u001b[0m\u001b[0;34m)\u001b[0m\u001b[0;34m.\u001b[0m\u001b[0mnumpy\u001b[0m\u001b[0;34m(\u001b[0m\u001b[0;34m)\u001b[0m\u001b[0;34m\u001b[0m\u001b[0;34m\u001b[0m\u001b[0m\n\u001b[0m\u001b[1;32m     22\u001b[0m         \u001b[0mepoch_loss\u001b[0m\u001b[0;34m+=\u001b[0m \u001b[0mloss_value\u001b[0m\u001b[0;34m\u001b[0m\u001b[0;34m\u001b[0m\u001b[0m\n\u001b[1;32m     23\u001b[0m         \u001b[0mc\u001b[0m\u001b[0;34m+=\u001b[0m\u001b[0;36m1\u001b[0m\u001b[0;34m\u001b[0m\u001b[0;34m\u001b[0m\u001b[0m\n",
      "\u001b[0;32m~/anaconda3/envs/tf/lib/python3.9/site-packages/tensorflow/python/eager/def_function.py\u001b[0m in \u001b[0;36m__call__\u001b[0;34m(self, *args, **kwds)\u001b[0m\n\u001b[1;32m    826\u001b[0m     \u001b[0mtracing_count\u001b[0m \u001b[0;34m=\u001b[0m \u001b[0mself\u001b[0m\u001b[0;34m.\u001b[0m\u001b[0mexperimental_get_tracing_count\u001b[0m\u001b[0;34m(\u001b[0m\u001b[0;34m)\u001b[0m\u001b[0;34m\u001b[0m\u001b[0;34m\u001b[0m\u001b[0m\n\u001b[1;32m    827\u001b[0m     \u001b[0;32mwith\u001b[0m \u001b[0mtrace\u001b[0m\u001b[0;34m.\u001b[0m\u001b[0mTrace\u001b[0m\u001b[0;34m(\u001b[0m\u001b[0mself\u001b[0m\u001b[0;34m.\u001b[0m\u001b[0m_name\u001b[0m\u001b[0;34m)\u001b[0m \u001b[0;32mas\u001b[0m \u001b[0mtm\u001b[0m\u001b[0;34m:\u001b[0m\u001b[0;34m\u001b[0m\u001b[0;34m\u001b[0m\u001b[0m\n\u001b[0;32m--> 828\u001b[0;31m       \u001b[0mresult\u001b[0m \u001b[0;34m=\u001b[0m \u001b[0mself\u001b[0m\u001b[0;34m.\u001b[0m\u001b[0m_call\u001b[0m\u001b[0;34m(\u001b[0m\u001b[0;34m*\u001b[0m\u001b[0margs\u001b[0m\u001b[0;34m,\u001b[0m \u001b[0;34m**\u001b[0m\u001b[0mkwds\u001b[0m\u001b[0;34m)\u001b[0m\u001b[0;34m\u001b[0m\u001b[0;34m\u001b[0m\u001b[0m\n\u001b[0m\u001b[1;32m    829\u001b[0m       \u001b[0mcompiler\u001b[0m \u001b[0;34m=\u001b[0m \u001b[0;34m\"xla\"\u001b[0m \u001b[0;32mif\u001b[0m \u001b[0mself\u001b[0m\u001b[0;34m.\u001b[0m\u001b[0m_experimental_compile\u001b[0m \u001b[0;32melse\u001b[0m \u001b[0;34m\"nonXla\"\u001b[0m\u001b[0;34m\u001b[0m\u001b[0;34m\u001b[0m\u001b[0m\n\u001b[1;32m    830\u001b[0m       \u001b[0mnew_tracing_count\u001b[0m \u001b[0;34m=\u001b[0m \u001b[0mself\u001b[0m\u001b[0;34m.\u001b[0m\u001b[0mexperimental_get_tracing_count\u001b[0m\u001b[0;34m(\u001b[0m\u001b[0;34m)\u001b[0m\u001b[0;34m\u001b[0m\u001b[0;34m\u001b[0m\u001b[0m\n",
      "\u001b[0;32m~/anaconda3/envs/tf/lib/python3.9/site-packages/tensorflow/python/eager/def_function.py\u001b[0m in \u001b[0;36m_call\u001b[0;34m(self, *args, **kwds)\u001b[0m\n\u001b[1;32m    853\u001b[0m       \u001b[0;31m# In this case we have created variables on the first call, so we run the\u001b[0m\u001b[0;34m\u001b[0m\u001b[0;34m\u001b[0m\u001b[0m\n\u001b[1;32m    854\u001b[0m       \u001b[0;31m# defunned version which is guaranteed to never create variables.\u001b[0m\u001b[0;34m\u001b[0m\u001b[0;34m\u001b[0m\u001b[0m\n\u001b[0;32m--> 855\u001b[0;31m       \u001b[0;32mreturn\u001b[0m \u001b[0mself\u001b[0m\u001b[0;34m.\u001b[0m\u001b[0m_stateless_fn\u001b[0m\u001b[0;34m(\u001b[0m\u001b[0;34m*\u001b[0m\u001b[0margs\u001b[0m\u001b[0;34m,\u001b[0m \u001b[0;34m**\u001b[0m\u001b[0mkwds\u001b[0m\u001b[0;34m)\u001b[0m  \u001b[0;31m# pylint: disable=not-callable\u001b[0m\u001b[0;34m\u001b[0m\u001b[0;34m\u001b[0m\u001b[0m\n\u001b[0m\u001b[1;32m    856\u001b[0m     \u001b[0;32melif\u001b[0m \u001b[0mself\u001b[0m\u001b[0;34m.\u001b[0m\u001b[0m_stateful_fn\u001b[0m \u001b[0;32mis\u001b[0m \u001b[0;32mnot\u001b[0m \u001b[0;32mNone\u001b[0m\u001b[0;34m:\u001b[0m\u001b[0;34m\u001b[0m\u001b[0;34m\u001b[0m\u001b[0m\n\u001b[1;32m    857\u001b[0m       \u001b[0;31m# Release the lock early so that multiple threads can perform the call\u001b[0m\u001b[0;34m\u001b[0m\u001b[0;34m\u001b[0m\u001b[0m\n",
      "\u001b[0;32m~/anaconda3/envs/tf/lib/python3.9/site-packages/tensorflow/python/eager/function.py\u001b[0m in \u001b[0;36m__call__\u001b[0;34m(self, *args, **kwargs)\u001b[0m\n\u001b[1;32m   2940\u001b[0m       (graph_function,\n\u001b[1;32m   2941\u001b[0m        filtered_flat_args) = self._maybe_define_function(args, kwargs)\n\u001b[0;32m-> 2942\u001b[0;31m     return graph_function._call_flat(\n\u001b[0m\u001b[1;32m   2943\u001b[0m         filtered_flat_args, captured_inputs=graph_function.captured_inputs)  # pylint: disable=protected-access\n\u001b[1;32m   2944\u001b[0m \u001b[0;34m\u001b[0m\u001b[0m\n",
      "\u001b[0;32m~/anaconda3/envs/tf/lib/python3.9/site-packages/tensorflow/python/eager/function.py\u001b[0m in \u001b[0;36m_call_flat\u001b[0;34m(self, args, captured_inputs, cancellation_manager)\u001b[0m\n\u001b[1;32m   1916\u001b[0m         and executing_eagerly):\n\u001b[1;32m   1917\u001b[0m       \u001b[0;31m# No tape is watching; skip to running the function.\u001b[0m\u001b[0;34m\u001b[0m\u001b[0;34m\u001b[0m\u001b[0m\n\u001b[0;32m-> 1918\u001b[0;31m       return self._build_call_outputs(self._inference_function.call(\n\u001b[0m\u001b[1;32m   1919\u001b[0m           ctx, args, cancellation_manager=cancellation_manager))\n\u001b[1;32m   1920\u001b[0m     forward_backward = self._select_forward_and_backward_functions(\n",
      "\u001b[0;32m~/anaconda3/envs/tf/lib/python3.9/site-packages/tensorflow/python/eager/function.py\u001b[0m in \u001b[0;36mcall\u001b[0;34m(self, ctx, args, cancellation_manager)\u001b[0m\n\u001b[1;32m    553\u001b[0m       \u001b[0;32mwith\u001b[0m \u001b[0m_InterpolateFunctionError\u001b[0m\u001b[0;34m(\u001b[0m\u001b[0mself\u001b[0m\u001b[0;34m)\u001b[0m\u001b[0;34m:\u001b[0m\u001b[0;34m\u001b[0m\u001b[0;34m\u001b[0m\u001b[0m\n\u001b[1;32m    554\u001b[0m         \u001b[0;32mif\u001b[0m \u001b[0mcancellation_manager\u001b[0m \u001b[0;32mis\u001b[0m \u001b[0;32mNone\u001b[0m\u001b[0;34m:\u001b[0m\u001b[0;34m\u001b[0m\u001b[0;34m\u001b[0m\u001b[0m\n\u001b[0;32m--> 555\u001b[0;31m           outputs = execute.execute(\n\u001b[0m\u001b[1;32m    556\u001b[0m               \u001b[0mstr\u001b[0m\u001b[0;34m(\u001b[0m\u001b[0mself\u001b[0m\u001b[0;34m.\u001b[0m\u001b[0msignature\u001b[0m\u001b[0;34m.\u001b[0m\u001b[0mname\u001b[0m\u001b[0;34m)\u001b[0m\u001b[0;34m,\u001b[0m\u001b[0;34m\u001b[0m\u001b[0;34m\u001b[0m\u001b[0m\n\u001b[1;32m    557\u001b[0m               \u001b[0mnum_outputs\u001b[0m\u001b[0;34m=\u001b[0m\u001b[0mself\u001b[0m\u001b[0;34m.\u001b[0m\u001b[0m_num_outputs\u001b[0m\u001b[0;34m,\u001b[0m\u001b[0;34m\u001b[0m\u001b[0;34m\u001b[0m\u001b[0m\n",
      "\u001b[0;32m~/anaconda3/envs/tf/lib/python3.9/site-packages/tensorflow/python/eager/execute.py\u001b[0m in \u001b[0;36mquick_execute\u001b[0;34m(op_name, num_outputs, inputs, attrs, ctx, name)\u001b[0m\n\u001b[1;32m     57\u001b[0m   \u001b[0;32mtry\u001b[0m\u001b[0;34m:\u001b[0m\u001b[0;34m\u001b[0m\u001b[0;34m\u001b[0m\u001b[0m\n\u001b[1;32m     58\u001b[0m     \u001b[0mctx\u001b[0m\u001b[0;34m.\u001b[0m\u001b[0mensure_initialized\u001b[0m\u001b[0;34m(\u001b[0m\u001b[0;34m)\u001b[0m\u001b[0;34m\u001b[0m\u001b[0;34m\u001b[0m\u001b[0m\n\u001b[0;32m---> 59\u001b[0;31m     tensors = pywrap_tfe.TFE_Py_Execute(ctx._handle, device_name, op_name,\n\u001b[0m\u001b[1;32m     60\u001b[0m                                         inputs, attrs, num_outputs)\n\u001b[1;32m     61\u001b[0m   \u001b[0;32mexcept\u001b[0m \u001b[0mcore\u001b[0m\u001b[0;34m.\u001b[0m\u001b[0m_NotOkStatusException\u001b[0m \u001b[0;32mas\u001b[0m \u001b[0me\u001b[0m\u001b[0;34m:\u001b[0m\u001b[0;34m\u001b[0m\u001b[0;34m\u001b[0m\u001b[0m\n",
      "\u001b[0;31mKeyboardInterrupt\u001b[0m: "
     ]
    }
   ],
   "source": [
    "epochs = 20\n",
    "\n",
    "for epoch in range(epochs):\n",
    "    pbar = tqdm(parsed_train_dataset)\n",
    "    epoch_loss = 0\n",
    "    c = 0 \n",
    "    # Iterate over the batches of the dataset.\n",
    "    for databatch in  pbar:\n",
    "        target = databatch['parameter_vector'][:,1:3]\n",
    "        X = databatch['pos']\n",
    "        V = databatch['vel']\n",
    "        \n",
    "        if train_step.experimental_get_tracing_count()==0:\n",
    "            input_graphs = preprocess_data(X,V)\n",
    "            predictions = epd(input_graphs)\n",
    "            #input_signature = [utils_tf.specs_from_graphs_tuple(input_graphs,dynamic_num_nodes=False)]\n",
    "            #@tf.function(input_signature=input_signature)\n",
    "            #def predict_graph(input_graphs):\n",
    "            #    return epd(input_graphs)\n",
    "        #break\n",
    "        loss_value = train_step(X,V,target).numpy()\n",
    "        epoch_loss+= loss_value\n",
    "        c+=1\n",
    "        pbar.set_description(\"Loss %f\" % (epoch_loss/c))\n",
    "    \n"
   ]
  },
  {
   "cell_type": "code",
   "execution_count": 77,
   "id": "2d3e53cf-20ef-476b-b583-bd1a826a79e8",
   "metadata": {},
   "outputs": [],
   "source": [
    "#input_graphs = preprocess_data(X,V)"
   ]
  },
  {
   "cell_type": "code",
   "execution_count": 78,
   "id": "858a830a-e03a-43e3-9bab-3568ca135d8b",
   "metadata": {},
   "outputs": [],
   "source": [
    "#input_graphs"
   ]
  },
  {
   "cell_type": "code",
   "execution_count": 79,
   "id": "f7d21b40-e258-4bb0-b132-9701070062ce",
   "metadata": {},
   "outputs": [],
   "source": [
    "# target"
   ]
  },
  {
   "cell_type": "code",
   "execution_count": 80,
   "id": "d5a09c66-8eae-4804-a664-a3a2ded3a412",
   "metadata": {},
   "outputs": [],
   "source": [
    "# aa = epd(input_graphs)"
   ]
  },
  {
   "cell_type": "code",
   "execution_count": 81,
   "id": "0f30965a-fbd4-4652-a3f0-20d38a2ad5b8",
   "metadata": {},
   "outputs": [],
   "source": [
    "# loss_function(target,aa)"
   ]
  },
  {
   "cell_type": "code",
   "execution_count": 82,
   "id": "f0c0c364-4f43-4a7f-9e78-26ae59a26090",
   "metadata": {},
   "outputs": [],
   "source": [
    "# aa"
   ]
  },
  {
   "cell_type": "code",
   "execution_count": 83,
   "id": "5719b911-daa6-49ed-976c-cd5ceae695ba",
   "metadata": {},
   "outputs": [],
   "source": [
    "# target[:,2,None]"
   ]
  },
  {
   "cell_type": "code",
   "execution_count": 84,
   "id": "ac597d08-bea6-4e87-a719-235bc61b9caf",
   "metadata": {},
   "outputs": [],
   "source": [
    "# target-aa"
   ]
  },
  {
   "cell_type": "code",
   "execution_count": 85,
   "id": "9c84051a-74b4-49cb-9f50-33d480a7f739",
   "metadata": {},
   "outputs": [],
   "source": [
    "# tf.reduce_mean(tf.math.square(target-aa))"
   ]
  },
  {
   "cell_type": "code",
   "execution_count": 86,
   "id": "64fedc23-7c3d-4213-8b02-76b66593e97d",
   "metadata": {},
   "outputs": [
    {
     "name": "stderr",
     "output_type": "stream",
     "text": [
      "99it [00:02, 42.86it/s]\n"
     ]
    }
   ],
   "source": [
    "pred_list = []\n",
    "true_values = []\n",
    "count=0\n",
    "for databatch in tqdm(parsed_valid_dataset):\n",
    "    true_values.append(databatch['parameter_vector'].numpy())\n",
    "    X = databatch['pos']\n",
    "    V = databatch['vel']\n",
    "    input_graphs = preprocess_data(X,V)\n",
    "    predictions = epd(input_graphs)\n",
    "    pred_list.append(np.squeeze(predictions.numpy()))\n",
    "    count+=1\n",
    "\n",
    "    if count == 100: break\n",
    "pred_vals = np.array(pred_list)#.flatten()\n",
    "true_vals = np.array(true_values)#.flatten()\n",
    "\n",
    "\n"
   ]
  },
  {
   "cell_type": "code",
   "execution_count": 71,
   "id": "3c2dc303-1ae5-49f5-b91a-1fb5e4b4e111",
   "metadata": {},
   "outputs": [
    {
     "ename": "IndexError",
     "evalue": "boolean index did not match indexed array along dimension 2; dimension is 2 but corresponding boolean dimension is 4",
     "output_type": "error",
     "traceback": [
      "\u001b[0;31m---------------------------------------------------------------------------\u001b[0m",
      "\u001b[0;31mIndexError\u001b[0m                                Traceback (most recent call last)",
      "\u001b[0;32m/tmp/ipykernel_17160/1292749892.py\u001b[0m in \u001b[0;36m<module>\u001b[0;34m\u001b[0m\n\u001b[1;32m      3\u001b[0m \u001b[0mpred_std\u001b[0m \u001b[0;34m=\u001b[0m \u001b[0;34m[\u001b[0m\u001b[0;34m]\u001b[0m\u001b[0;34m\u001b[0m\u001b[0;34m\u001b[0m\u001b[0m\n\u001b[1;32m      4\u001b[0m \u001b[0;32mfor\u001b[0m \u001b[0mtv\u001b[0m \u001b[0;32min\u001b[0m \u001b[0mnp\u001b[0m\u001b[0;34m.\u001b[0m\u001b[0munique\u001b[0m\u001b[0;34m(\u001b[0m\u001b[0mtrue_vals\u001b[0m\u001b[0;34m)\u001b[0m\u001b[0;34m:\u001b[0m\u001b[0;34m\u001b[0m\u001b[0;34m\u001b[0m\u001b[0m\n\u001b[0;32m----> 5\u001b[0;31m     \u001b[0mpred_mean\u001b[0m\u001b[0;34m.\u001b[0m\u001b[0mappend\u001b[0m\u001b[0;34m(\u001b[0m\u001b[0mpred_vals\u001b[0m\u001b[0;34m[\u001b[0m\u001b[0mtrue_vals\u001b[0m\u001b[0;34m==\u001b[0m\u001b[0mtv\u001b[0m\u001b[0;34m]\u001b[0m\u001b[0;34m.\u001b[0m\u001b[0mmean\u001b[0m\u001b[0;34m(\u001b[0m\u001b[0;34m)\u001b[0m\u001b[0;34m)\u001b[0m\u001b[0;34m\u001b[0m\u001b[0;34m\u001b[0m\u001b[0m\n\u001b[0m\u001b[1;32m      6\u001b[0m     \u001b[0mpred_std\u001b[0m\u001b[0;34m.\u001b[0m\u001b[0mappend\u001b[0m\u001b[0;34m(\u001b[0m\u001b[0mpred_vals\u001b[0m\u001b[0;34m[\u001b[0m\u001b[0mtrue_vals\u001b[0m\u001b[0;34m==\u001b[0m\u001b[0mtv\u001b[0m\u001b[0;34m]\u001b[0m\u001b[0;34m.\u001b[0m\u001b[0mstd\u001b[0m\u001b[0;34m(\u001b[0m\u001b[0;34m)\u001b[0m\u001b[0;34m)\u001b[0m\u001b[0;34m\u001b[0m\u001b[0;34m\u001b[0m\u001b[0m\n\u001b[1;32m      7\u001b[0m     \u001b[0mx_val\u001b[0m\u001b[0;34m.\u001b[0m\u001b[0mappend\u001b[0m\u001b[0;34m(\u001b[0m\u001b[0mtv\u001b[0m\u001b[0;34m)\u001b[0m\u001b[0;34m\u001b[0m\u001b[0;34m\u001b[0m\u001b[0m\n",
      "\u001b[0;31mIndexError\u001b[0m: boolean index did not match indexed array along dimension 2; dimension is 2 but corresponding boolean dimension is 4"
     ]
    }
   ],
   "source": [
    "x_val = []\n",
    "pred_mean = []\n",
    "pred_std = []\n",
    "for tv in np.unique(true_vals):\n",
    "    pred_mean.append(pred_vals[true_vals==tv].mean())\n",
    "    pred_std.append(pred_vals[true_vals==tv].std())\n",
    "    x_val.append(tv)\n",
    "    \n",
    "pred_mean = np.array(pred_mean)\n",
    "pred_std = np.array(pred_std)\n",
    "x_val = np.array(x_val)"
   ]
  },
  {
   "cell_type": "code",
   "execution_count": null,
   "id": "89359d18-c326-430f-8abb-50f82dc394e6",
   "metadata": {},
   "outputs": [],
   "source": [
    "plt.figure(figsize=(4,3))\n",
    "plt.plot(x_val,pred_mean,c='C0')\n",
    "\n",
    "plt.fill_between(x_val,pred_mean-pred_std,pred_mean+pred_std,color='C0',alpha=0.5)\n",
    "\n",
    "xx = np.linspace(0,x_val.max(),10)\n",
    "plt.plot(xx,xx,c='k',ls='--')\n",
    "\n",
    "plt.ylabel('GNN prediction of parameter')\n",
    "plt.xlabel('True parameter that generated the microstate')\n",
    "plt.savefig('gnn.png',dpi=300)\n",
    "plt.show()\n"
   ]
  },
  {
   "cell_type": "code",
   "execution_count": 87,
   "id": "3429d9f3-98c7-4718-a6d8-577fbd52bb35",
   "metadata": {},
   "outputs": [
    {
     "data": {
      "image/png": "[encoded data removed]",
      "text/plain": [
       "<Figure size 460.8x316.8 with 1 Axes>"
      ]
     },
     "metadata": {},
     "output_type": "display_data"
    }
   ],
   "source": [
    "plt.plot(true_vals[:,:,1].flatten(),pred_vals[:,:,0].flatten(),'.')\n",
    "xx = np.linspace(0,25,10)\n",
    "plt.plot(xx,xx)\n",
    "plt.show()"
   ]
  },
  {
   "cell_type": "code",
   "execution_count": 89,
   "id": "ebeb6576-29d2-4a90-9a5c-2fbd26649beb",
   "metadata": {},
   "outputs": [
    {
     "data": {
      "image/png": "[encoded data removed]",
      "text/plain": [
       "<Figure size 460.8x316.8 with 1 Axes>"
      ]
     },
     "metadata": {},
     "output_type": "display_data"
    }
   ],
   "source": [
    "plt.plot(true_vals[:,:,2].flatten(),pred_vals[:,:,1].flatten(),'.')\n",
    "xx = np.linspace(0,25,10)\n",
    "plt.plot(xx,xx)\n",
    "plt.show()"
   ]
  },
  {
   "cell_type": "code",
   "execution_count": 32,
   "id": "612edde2-e279-4d35-b6e1-291a56d0a2cd",
   "metadata": {},
   "outputs": [
    {
     "data": {
      "text/plain": [
       "array([[13.902199 , 15.632822 , 12.025795 , 13.897321 ],\n",
       "       [12.3725195, 14.8625555, 11.428269 , 12.093476 ],\n",
       "       [12.945575 , 11.4643   , 12.828146 , 11.470286 ],\n",
       "       [15.692706 , 15.431839 , 14.305942 , 14.728579 ],\n",
       "       [13.1061735, 11.649303 , 12.942446 , 12.656384 ],\n",
       "       [14.774187 , 12.540472 , 14.088032 , 12.357711 ],\n",
       "       [14.665776 , 12.855476 , 15.576394 , 15.476627 ],\n",
       "       [11.611262 ,  3.2339606, 14.488609 , 15.086959 ],\n",
       "       [ 3.5839   , 11.71521  , 12.943784 , 12.937659 ],\n",
       "       [15.560287 , 12.370864 , 12.219812 , 11.765519 ],\n",
       "       [13.590709 , 15.643742 , 14.546153 , 12.696342 ],\n",
       "       [14.311236 , 15.26397  , 11.654345 , 11.726391 ],\n",
       "       [12.503998 , 13.332525 , 15.235603 , 15.633455 ],\n",
       "       [13.253609 , 15.160857 , 11.787132 , 15.131458 ],\n",
       "       [12.95207  , 15.529726 , 13.058943 , 14.684788 ],\n",
       "       [13.088155 , 15.599209 , 15.831794 ,  4.681457 ],\n",
       "       [11.587858 , 15.373063 , 15.313901 , 13.366749 ],\n",
       "       [15.351695 , 13.180487 , 12.607129 , 11.973949 ],\n",
       "       [12.172001 , 11.554755 , 12.383748 , 13.644345 ],\n",
       "       [15.4629545, 14.428862 , 14.587108 , 13.034002 ],\n",
       "       [14.807373 , 13.1013975, 12.71282  , 14.404617 ],\n",
       "       [11.977681 , 11.480603 , 11.815945 , 13.193923 ],\n",
       "       [12.553254 , 13.9988785, 11.872811 , 15.380141 ],\n",
       "       [11.766926 , 12.976006 , 13.213776 , 15.448339 ],\n",
       "       [13.05392  , 15.588516 , 12.2314   , 13.231097 ],\n",
       "       [15.57461  , 11.391124 , 12.468386 , 15.318285 ],\n",
       "       [11.580387 ,  7.700259 , 14.409898 , 13.975863 ],\n",
       "       [14.541672 , 13.981007 , 14.450521 , 12.197263 ],\n",
       "       [15.687966 , 13.312392 , 12.854886 , 14.351669 ],\n",
       "       [14.645405 , 12.255601 , 12.362186 , 14.606534 ],\n",
       "       [11.518709 , 13.213391 , 12.800004 , 12.801091 ],\n",
       "       [15.566832 , 11.646547 , 12.864919 , 14.546062 ],\n",
       "       [11.720492 , 12.02173  , 15.030718 , 15.112495 ],\n",
       "       [12.802614 , 11.985571 ,  6.8933225, 14.236445 ],\n",
       "       [13.3611355, 12.2267685, 13.967824 , 11.488763 ],\n",
       "       [12.085303 , 12.168876 , 12.711636 , 13.462641 ],\n",
       "       [13.23563  ,  6.613256 , 14.58662  , 11.754281 ],\n",
       "       [14.691062 , 12.924278 , 12.090087 ,  3.6413279],\n",
       "       [14.1388   , 15.583889 , 12.167391 , 11.738565 ],\n",
       "       [12.290251 , 13.94684  , 15.457049 , 12.70625  ],\n",
       "       [13.087359 , 12.563062 , 12.437302 , 15.156679 ],\n",
       "       [14.802167 , 11.87942  , 15.233188 , 13.371441 ],\n",
       "       [15.369294 , 14.757222 , 14.047676 , 11.992308 ],\n",
       "       [13.413301 , 15.549801 , 12.744339 , 14.745434 ],\n",
       "       [13.918571 , 12.923987 , 12.578254 , 14.35429  ],\n",
       "       [14.824338 , 12.890084 , 12.682845 , 13.295042 ],\n",
       "       [14.383997 , 13.177307 , 13.258786 , 13.646195 ],\n",
       "       [14.872521 , 11.922147 , 15.423864 , 13.109025 ],\n",
       "       [13.619575 , 11.600206 , 13.31245  , 12.654236 ],\n",
       "       [15.13741  , 13.138135 , 14.720138 , 15.475612 ],\n",
       "       [11.947655 , 11.902692 , 13.703801 , 15.511592 ],\n",
       "       [15.603826 , 11.917397 , 13.418223 , 15.246966 ],\n",
       "       [ 5.659876 , 12.141243 , 14.159155 , 11.861757 ],\n",
       "       [13.825147 , 11.907096 , 14.770001 , 15.342575 ],\n",
       "       [15.22918  , 14.316234 , 15.618862 , 14.911387 ],\n",
       "       [12.517995 , 15.541387 , 11.445995 , 14.659097 ],\n",
       "       [14.723699 , 11.744961 , 15.346437 , 13.43512  ],\n",
       "       [14.502685 , 13.310595 , 12.777435 , 13.253061 ],\n",
       "       [12.460765 , 12.8945055, 12.798964 , 12.62975  ],\n",
       "       [12.662752 , 11.557662 , 12.66711  , 11.85213  ],\n",
       "       [15.577936 , 14.209768 , 12.378729 , 12.053904 ],\n",
       "       [15.094845 , 13.172666 , 12.817253 , 14.849575 ],\n",
       "       [14.930445 , 11.696287 , 15.314594 , 12.7172365],\n",
       "       [11.744428 , 12.352511 , 12.501298 , 11.93637  ],\n",
       "       [11.945399 , 12.452994 , 15.608984 , 12.10968  ],\n",
       "       [11.883416 , 12.502514 , 15.471562 , 11.475519 ],\n",
       "       [12.546894 , 15.585047 , 13.061084 , 13.40736  ],\n",
       "       [12.015047 , 14.909487 , 12.519707 , 11.419511 ],\n",
       "       [15.621946 , 12.425411 , 15.341659 , 12.228357 ],\n",
       "       [13.283399 , 13.295332 , 11.519237 , 13.437255 ],\n",
       "       [12.968739 , 13.380143 , 12.8881   , 15.477601 ],\n",
       "       [12.730103 , 14.87475  , 11.621273 , 11.818797 ],\n",
       "       [11.987957 , 15.387273 , 15.369539 , 12.886161 ],\n",
       "       [15.464287 , 14.875503 , 12.081315 , 12.080894 ],\n",
       "       [11.531193 , 15.611463 , 12.199051 , 13.118482 ],\n",
       "       [15.337162 , 12.094073 , 11.675101 , 11.91844  ],\n",
       "       [ 3.9237113, 12.032216 , 15.718497 , 13.027334 ],\n",
       "       [11.670799 , 12.811589 , 15.394288 , 15.487915 ],\n",
       "       [15.272553 , 11.413826 , 15.537379 , 15.397417 ],\n",
       "       [15.545596 , 15.449678 , 12.872296 , 14.202161 ],\n",
       "       [15.622981 , 14.783772 , 12.027388 , 14.808783 ],\n",
       "       [15.25529  , 11.612938 , 11.6191025, 11.555214 ],\n",
       "       [12.453473 , 12.256454 , 11.451984 , 13.869852 ],\n",
       "       [12.151444 , 12.06617  , 12.565708 , 15.293935 ],\n",
       "       [12.504083 ,  7.598563 , 12.737332 , 12.728728 ],\n",
       "       [15.214001 , 13.448031 , 14.993663 , 12.298806 ],\n",
       "       [12.115176 , 11.381439 , 13.5231285, 12.511474 ],\n",
       "       [13.789162 , 12.062328 , 13.708208 , 12.164649 ],\n",
       "       [15.624706 , 12.371835 , 15.599042 , 14.970676 ],\n",
       "       [15.29989  , 14.439255 , 13.55522  , 15.042978 ],\n",
       "       [11.483184 , 11.65303  , 14.325872 , 12.170675 ],\n",
       "       [12.525322 , 12.145957 , 15.007048 , 13.252035 ],\n",
       "       [15.116032 , 12.979773 , 15.633157 , 12.461521 ],\n",
       "       [15.481188 , 13.125417 , 15.432194 , 11.588688 ],\n",
       "       [15.42034  , 15.558682 , 11.473368 , 12.84563  ],\n",
       "       [14.500239 , 15.51372  , 13.046664 , 14.851986 ],\n",
       "       [14.960811 , 14.455356 , 15.20031  , 14.009333 ],\n",
       "       [14.510517 , 15.551199 , 13.273822 , 15.749222 ],\n",
       "       [ 5.1611447, 15.119436 , 11.660004 , 13.006174 ],\n",
       "       [12.326885 , 11.81178  , 14.756456 , 12.138423 ]], dtype=float32)"
      ]
     },
     "execution_count": 32,
     "metadata": {},
     "output_type": "execute_result"
    }
   ],
   "source": [
    "pred_vals[:,:]"
   ]
  },
  {
   "cell_type": "code",
   "execution_count": null,
   "id": "396a1aed-e2ce-4b6c-88ca-e35ad0269cc7",
   "metadata": {},
   "outputs": [],
   "source": []
  },
  {
   "cell_type": "code",
   "execution_count": null,
   "id": "646d5de2-c306-43cc-b07c-58bcc1d51a68",
   "metadata": {},
   "outputs": [],
   "source": [
    "pbar = tqdm(parsed_tensors_dataset)\n",
    "\n",
    "# Iterate over the batches of the dataset.\n",
    "for d in  pbar:\n",
    "    mygraph = preprocess_data(d)\n",
    "    break"
   ]
  },
  {
   "cell_type": "code",
   "execution_count": null,
   "id": "606ca626-d4eb-4dcb-bbd4-33a56d4326a3",
   "metadata": {},
   "outputs": [],
   "source": [
    "mygraph"
   ]
  },
  {
   "cell_type": "code",
   "execution_count": null,
   "id": "828101b0-2cc3-4419-9c21-767f453445b3",
   "metadata": {},
   "outputs": [],
   "source": [
    "utils_tf.get_num_graphs(mygraph)\n",
    "\n",
    "num_graphs = utils_tf.get_num_graphs(mygraph)\n",
    "graph_index = tf.range(num_graphs)\n",
    "indices = utils_tf.repeat(graph_index, mygraph.n_node, axis=0)#,\n",
    "                              #sum_repeats_hint=_get_static_num_nodes(graph))\n",
    "tf.math.unsorted_segment_sum(mygraph.nodes, indices, num_graphs)"
   ]
  },
  {
   "cell_type": "code",
   "execution_count": null,
   "id": "e3fb3066-fd52-4458-97fe-8d4542be2640",
   "metadata": {},
   "outputs": [],
   "source": [
    "indices"
   ]
  },
  {
   "cell_type": "code",
   "execution_count": null,
   "id": "518850a7-d1db-4a93-8283-247080168069",
   "metadata": {},
   "outputs": [],
   "source": [
    "?tf.math.unsorted_segment_sum"
   ]
  },
  {
   "cell_type": "code",
   "execution_count": null,
   "id": "c5b651c9-d771-4678-9c4d-8a4a9cfbe2ff",
   "metadata": {},
   "outputs": [],
   "source": [
    "tf.repeat(graph_index, mygraph.n_node,axis=0)"
   ]
  },
  {
   "cell_type": "code",
   "execution_count": null,
   "id": "f07091e8-de81-4237-a9ff-745cf186607d",
   "metadata": {},
   "outputs": [],
   "source": [
    "epd._output_transform"
   ]
  },
  {
   "cell_type": "code",
   "execution_count": null,
   "id": "6f550c32-3a03-44be-a95f-3c5695845cc7",
   "metadata": {},
   "outputs": [],
   "source": [
    "   # Encode the input_graph.\n",
    "latent_graph_0 = epd._encode(input_graphs)\n",
    "\n",
    "# Do `m` message passing steps in the latent graphs.\n",
    "latent_graph_m = epd._process(latent_graph_0)\n",
    "decode_graph_m = epd._decode(latent_graph_m)\n",
    "    # Decode from the last latent graph.\n",
    "    #return self._output_transform(decode_graph_m.globals)"
   ]
  },
  {
   "cell_type": "code",
   "execution_count": null,
   "id": "e0dede7b-a73e-419d-ba41-bf6b3cd6856c",
   "metadata": {},
   "outputs": [],
   "source": [
    "model2 = tf.keras.Sequential()\n",
    "model2.add(tf.keras.layers.Dense(8))\n",
    "model2.add(tf.keras.layers.LayerNormalization(axis=1))\n",
    "model2.build(input_shape=(128,))"
   ]
  },
  {
   "cell_type": "code",
   "execution_count": null,
   "id": "1e28b70c-8315-4ad6-a4b6-73fad5380ba5",
   "metadata": {},
   "outputs": [],
   "source": [
    "\n",
    "\n"
   ]
  },
  {
   "cell_type": "code",
   "execution_count": null,
   "id": "076f5237-2a62-425e-8d90-29ca2f3a9ce2",
   "metadata": {},
   "outputs": [],
   "source": [
    "model.summary()"
   ]
  },
  {
   "cell_type": "code",
   "execution_count": null,
   "id": "b7e409fc-9a42-4987-b030-04f876ce984e",
   "metadata": {},
   "outputs": [],
   "source": [
    "decode_graph_m.globals"
   ]
  },
  {
   "cell_type": "code",
   "execution_count": null,
   "id": "04173e4b-14a7-4da4-a56a-ae82e77055eb",
   "metadata": {},
   "outputs": [],
   "source": [
    "model(decode_graph_m.globals)"
   ]
  },
  {
   "cell_type": "code",
   "execution_count": null,
   "id": "6e203dc5-9d4f-4179-b421-ab0f0a092fc5",
   "metadata": {},
   "outputs": [],
   "source": [
    "epd._output_size"
   ]
  },
  {
   "cell_type": "code",
   "execution_count": null,
   "id": "7c8e33c9-4900-4064-8f89-f4ba44bd8727",
   "metadata": {},
   "outputs": [],
   "source": [
    "# Create a `Sequential` model and add a Dense layer as the first layer.\n",
    "model = tf.keras.models.Sequential()\n",
    "\n",
    "for _ in range(epd._mlp_num_hidden_layers):\n",
    "    model.add(tf.keras.layers.Dense(epd._mlp_hidden_size, activation='relu'))\n",
    "\n",
    "model.add(tf.keras.layers.Dense(epd._output_size,activation=tf.nn.softplus))\n"
   ]
  },
  {
   "cell_type": "code",
   "execution_count": null,
   "id": "7419d4c1-bbf9-4135-b7f5-2bdbb53184b0",
   "metadata": {},
   "outputs": [],
   "source": []
  }
 ],
 "metadata": {
  "kernelspec": {
   "display_name": "Python 3 (ipykernel)",
   "language": "python",
   "name": "python3"
  },
  "language_info": {
   "codemirror_mode": {
    "name": "ipython",
    "version": 3
   },
   "file_extension": ".py",
   "mimetype": "text/x-python",
   "name": "python",
   "nbconvert_exporter": "python",
   "pygments_lexer": "ipython3",
   "version": "3.9.7"
  }
 },
 "nbformat": 4,
 "nbformat_minor": 5
}
