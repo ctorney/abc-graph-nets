{
 "cells": [
  {
   "cell_type": "code",
   "execution_count": 123,
   "id": "25ed83b4-22a7-42b5-8f08-7acdeeeccdcc",
   "metadata": {},
   "outputs": [],
   "source": [
    "import os, sys\n",
    "import numpy as np\n",
    "from math import *\n",
    "from tqdm import tqdm\n",
    "import matplotlib.pyplot as plt\n",
    "\n",
    "import tensorflow as tf\n",
    "\n",
    "from graph_nets import graphs\n",
    "import networkx as nx"
   ]
  },
  {
   "cell_type": "code",
   "execution_count": 29,
   "id": "99535246-89e7-43e5-b86d-c53ed71735e4",
   "metadata": {},
   "outputs": [],
   "source": [
    "data_dir = 'tmp_datasets/'\n",
    "\n",
    "feature_description = {'group_id': tf.io.FixedLenFeature([], tf.int64),\n",
    "                        'timestep': tf.io.FixedLenFeature([], tf.int64),\n",
    "                        'parameter_vector': tf.io.FixedLenSequenceFeature([], tf.float32,allow_missing=True),\n",
    "                        'pos': tf.io.FixedLenFeature([], tf.string),\n",
    "                        'vel': tf.io.FixedLenFeature([], tf.string)}\n"
   ]
  },
  {
   "cell_type": "code",
   "execution_count": 26,
   "id": "e9e68ebb-b528-4a8c-b5ff-9677f063d8b6",
   "metadata": {},
   "outputs": [],
   "source": [
    "records_dataset =  tf.data.TFRecordDataset(tf.data.Dataset.list_files([data_dir + filename for filename in os.listdir(data_dir)]))\n"
   ]
  },
  {
   "cell_type": "code",
   "execution_count": 38,
   "id": "2430e9fe-cef7-44e3-8d7e-bb707119d85e",
   "metadata": {},
   "outputs": [],
   "source": [
    "def _parse_record(x):\n",
    "  # Parse the input tf.train.Example proto using the dictionary above.\n",
    "  return tf.io.parse_single_example(x, feature_description)\n",
    "\n",
    "parsed_records_dataset = records_dataset.map(_parse_record)\n",
    "\n",
    "def _parse_tensor(x):\n",
    "    output = {'group_id': x['group_id'],\n",
    "                'timestep': x['timestep'],\n",
    "                'parameter_vector': x['parameter_vector'],\n",
    "                'pos': tf.io.parse_tensor(x['pos'],out_type=tf.float32),\n",
    "                'vel': tf.io.parse_tensor(x['vel'],out_type=tf.float32)}\n",
    "    return output\n",
    "\n",
    "parsed_tensors_dataset = parsed_records_dataset.map(_parse_tensor)\n",
    "parsed_tensors_dataset = parsed_tensors_dataset.batch(4)"
   ]
  },
  {
   "cell_type": "code",
   "execution_count": 85,
   "id": "2253c531-1b30-4c32-b508-70c8cacb0cd1",
   "metadata": {},
   "outputs": [],
   "source": [
    "interaction_radius = 15.0\n",
    "L = 200\n",
    "def preprocess_data(databatch):\n",
    "    \n",
    "    # node features xpos, ypos, xvel, yvel\n",
    "    # edge features distance, rel angle to receiver\n",
    "    X = databatch['pos']\n",
    "    V = databatch['vel']\n",
    "    \n",
    "    Xx = tf.expand_dims(X[...,0],-1)\n",
    "    dx = -Xx + tf.linalg.matrix_transpose(Xx)\n",
    "    dx = tf.where(dx>0.5*L, dx-L, dx)\n",
    "    dx = tf.where(dx<-0.5*L, dx+L, dx)\n",
    "\n",
    "    Xy = tf.expand_dims(X[...,1],-1)\n",
    "    dy = -Xy + tf.linalg.matrix_transpose(Xy)\n",
    "    dy = tf.where(dy>0.5*L, dy-L, dy)\n",
    "    dy = tf.where(dy<-0.5*L, dy+L, dy)\n",
    "\n",
    "\n",
    "\n",
    "    A = tf.expand_dims(tf.math.atan2(V[...,1],V[...,0]),-1)\n",
    "    angle_to_neigh = tf.math.atan2(dy, dx)\n",
    "\n",
    "    rel_angle_to_neigh = angle_to_neigh - A\n",
    "\n",
    "    dist = tf.math.sqrt(tf.square(dx)+tf.square(dy))\n",
    "\n",
    "    adj_matrix = tf.where(dist<interaction_radius, tf.ones_like(dist,dtype=tf.int32), tf.zeros_like(dist,dtype=tf.int32))\n",
    "    adj_matrix = tf.linalg.set_diag(adj_matrix, tf.zeros(tf.shape(adj_matrix)[:2],dtype=tf.int32))\n",
    "    sender_recv_list = tf.where(adj_matrix)\n",
    "    n_edge = tf.reduce_sum(adj_matrix, axis=[1,2])\n",
    "    n_node = tf.ones_like(n_edge)*tf.shape(adj_matrix)[-1]\n",
    "\n",
    "    senders = sender_recv_list[:,1] + sender_recv_list[:,0]*tf.shape(adj_matrix,out_type=tf.int64)[-1]\n",
    "    receivers = sender_recv_list[:,2] + sender_recv_list[:,0]*tf.shape(adj_matrix,out_type=tf.int64)[-1]\n",
    "\n",
    "\n",
    "    edge_distance = tf.expand_dims(tf.gather_nd(dist,sender_recv_list),-1)\n",
    "    edge_x_distance =  tf.expand_dims(tf.gather_nd(tf.math.cos(rel_angle_to_neigh),sender_recv_list),-1)  # relative to sender heading\n",
    "    edge_y_distance =  tf.expand_dims( tf.gather_nd(tf.math.sin(rel_angle_to_neigh),sender_recv_list),-1)  # relative to sender heading\n",
    "\n",
    "\n",
    "    edges = tf.concat([edge_distance,edge_x_distance,edge_y_distance],axis=-1)\n",
    "\n",
    "    node_positions = tf.reshape(X,(-1,2))\n",
    "    node_velocities = tf.reshape(V,(-1,2))\n",
    "\n",
    "    nodes = tf.concat([node_positions,node_velocities],axis=-1)\n",
    "\n",
    "    gn = graphs.GraphsTuple(nodes=nodes,edges=edges,globals=None,receivers=receivers,senders=senders,n_node=n_node,n_edge=n_edge)\n",
    "    \n",
    "    return gn"
   ]
  },
  {
   "cell_type": "code",
   "execution_count": 86,
   "id": "b517785c-5fc6-4ba5-a837-9d49b4209b04",
   "metadata": {},
   "outputs": [
    {
     "name": "stderr",
     "output_type": "stream",
     "text": [
      "0it [00:00, ?it/s]"
     ]
    },
    {
     "name": "stdout",
     "output_type": "stream",
     "text": [
      "(4, 100, 2)\n"
     ]
    },
    {
     "name": "stderr",
     "output_type": "stream",
     "text": [
      "\n"
     ]
    }
   ],
   "source": [
    "for d in tqdm(parsed_tensors_dataset):\n",
    "    print(d['pos'].shape)\n",
    "    #preprocess_data(d)\n",
    "    X = d['pos']\n",
    "    V = d['vel']\n",
    "    break\n"
   ]
  },
  {
   "cell_type": "code",
   "execution_count": null,
   "id": "59554f84-d8b6-4cbf-a9ae-21020ab90bff",
   "metadata": {},
   "outputs": [],
   "source": []
  },
  {
   "cell_type": "code",
   "execution_count": 116,
   "id": "57f87222-d0f9-467f-b422-52bd23e7c1cc",
   "metadata": {},
   "outputs": [],
   "source": []
  },
  {
   "cell_type": "code",
   "execution_count": 119,
   "id": "2f49a780-d5db-451e-b290-4b079ad86560",
   "metadata": {},
   "outputs": [],
   "source": []
  },
  {
   "cell_type": "code",
   "execution_count": 124,
   "id": "4a4e1393-2878-463c-8ffe-ecdc60079fef",
   "metadata": {},
   "outputs": [
    {
     "data": {
      "image/png": "[encoded data removed]",
      "text/plain": [
       "<Figure size 432x216 with 2 Axes>"
      ]
     },
     "metadata": {},
     "output_type": "display_data"
    }
   ],
   "source": [
    "\n",
    "from graph_nets import utils_np\n",
    "from graph_nets import utils_tf\n",
    "graphs_nx = utils_np.graphs_tuple_to_networkxs(gn)\n",
    "_, axs = plt.subplots(ncols=2, figsize=(6, 3))\n",
    "for iax, (graph_nx, ax) in enumerate(zip(graphs_nx, axs)):\n",
    "  nx.draw(graph_nx, ax=ax)\n",
    "  ax.set_title(\"Graph {}\".format(iax))"
   ]
  },
  {
   "cell_type": "code",
   "execution_count": 109,
   "id": "2b08026c-8494-4645-a472-0bfda0e8f58b",
   "metadata": {},
   "outputs": [
    {
     "data": {
      "image/png": "[encoded data removed]",
      "text/plain": [
       "<Figure size 432x288 with 1 Axes>"
      ]
     },
     "metadata": {
      "needs_background": "light"
     },
     "output_type": "display_data"
    },
    {
     "data": {
      "image/png": "[encoded data removed]",
      "text/plain": [
       "<Figure size 432x288 with 1 Axes>"
      ]
     },
     "metadata": {
      "needs_background": "light"
     },
     "output_type": "display_data"
    }
   ],
   "source": [
    "zzp = ZZ.numpy()[:100]\n",
    "\n",
    "plt.plot(zzp[:,0],zzp[:,1],'.')\n",
    "plt.show()\n",
    "\n",
    "xxp = X[0].numpy()\n",
    "\n",
    "plt.plot(xxp[:,0],xxp[:,1],'.')\n",
    "plt.show()\n"
   ]
  },
  {
   "cell_type": "code",
   "execution_count": 94,
   "id": "91bcba68-323b-4ee9-ac95-288d0d6f2f60",
   "metadata": {},
   "outputs": [
    {
     "data": {
      "text/plain": [
       "4900"
      ]
     },
     "execution_count": 94,
     "metadata": {},
     "output_type": "execute_result"
    }
   ],
   "source": [
    "1220+1370+1070+1240"
   ]
  },
  {
   "cell_type": "code",
   "execution_count": 20,
   "id": "7b966966-9687-47ba-9634-39b136c8b862",
   "metadata": {},
   "outputs": [
    {
     "data": {
      "text/plain": [
       "<MapDataset shapes: {group_id: (), parameter_vector: (None,), pos: (), timestep: (), vel: ()}, types: {group_id: tf.int64, parameter_vector: tf.float32, pos: tf.string, timestep: tf.int64, vel: tf.string}>"
      ]
     },
     "execution_count": 20,
     "metadata": {},
     "output_type": "execute_result"
    }
   ],
   "source": [
    "#records_dataset = tf.data.TFRecordDataset(record_file)\n",
    "\n",
    "# Create a dictionary describing the features.\n",
    "\n",
    "\n",
    "\n",
    "parsed_records_dataset\n"
   ]
  },
  {
   "cell_type": "code",
   "execution_count": 24,
   "id": "90296331-b218-49f2-b917-ec24f1d3b4a4",
   "metadata": {},
   "outputs": [
    {
     "name": "stderr",
     "output_type": "stream",
     "text": [
      "25000it [00:02, 9430.56it/s]\n"
     ]
    }
   ],
   "source": [
    "for d in tqdm(parsed_records_dataset):\n",
    "    pass#print(tf.io.parse_tensor(d['pos'],out_type=tf.float32))"
   ]
  },
  {
   "cell_type": "code",
   "execution_count": null,
   "id": "646d5de2-c306-43cc-b07c-58bcc1d51a68",
   "metadata": {},
   "outputs": [],
   "source": []
  }
 ],
 "metadata": {
  "kernelspec": {
   "display_name": "Python 3 (ipykernel)",
   "language": "python",
   "name": "python3"
  },
  "language_info": {
   "codemirror_mode": {
    "name": "ipython",
    "version": 3
   },
   "file_extension": ".py",
   "mimetype": "text/x-python",
   "name": "python",
   "nbconvert_exporter": "python",
   "pygments_lexer": "ipython3",
   "version": "3.9.7"
  }
 },
 "nbformat": 4,
 "nbformat_minor": 5
}
