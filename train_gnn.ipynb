{
 "cells": [
  {
   "cell_type": "code",
   "execution_count": 1,
   "id": "25ed83b4-22a7-42b5-8f08-7acdeeeccdcc",
   "metadata": {},
   "outputs": [
    {
     "name": "stderr",
     "output_type": "stream",
     "text": [
      "2021-10-21 17:15:18.205882: I tensorflow/stream_executor/platform/default/dso_loader.cc:49] Successfully opened dynamic library libcudart.so.10.1\n"
     ]
    }
   ],
   "source": [
    "import os, sys\n",
    "import numpy as np\n",
    "from math import *\n",
    "from tqdm import tqdm\n",
    "import matplotlib.pyplot as plt\n",
    "\n",
    "import tensorflow as tf\n",
    "\n",
    "from graph_nets import graphs\n",
    "import networkx as nx\n",
    "from graph_nets import utils_tf\n",
    "\n",
    "from graph_network import EncodeProcessDecode\n",
    "\n",
    "plt.style.use('ggplot') \n",
    "plt.style.use('seaborn-paper') \n",
    "plt.style.use('seaborn-whitegrid') "
   ]
  },
  {
   "cell_type": "markdown",
   "id": "c69946f4-7377-4656-9e2f-edfab52c4337",
   "metadata": {},
   "source": [
    "## Prepare the data"
   ]
  },
  {
   "cell_type": "code",
   "execution_count": 2,
   "id": "99535246-89e7-43e5-b86d-c53ed71735e4",
   "metadata": {},
   "outputs": [
    {
     "name": "stderr",
     "output_type": "stream",
     "text": [
      "2021-10-21 17:15:19.327579: I tensorflow/compiler/jit/xla_cpu_device.cc:41] Not creating XLA devices, tf_xla_enable_xla_devices not set\n",
      "2021-10-21 17:15:19.329140: I tensorflow/stream_executor/platform/default/dso_loader.cc:49] Successfully opened dynamic library libcuda.so.1\n",
      "2021-10-21 17:15:19.362747: I tensorflow/stream_executor/cuda/cuda_gpu_executor.cc:941] successful NUMA node read from SysFS had negative value (-1), but there must be at least one NUMA node, so returning NUMA node zero\n",
      "2021-10-21 17:15:19.362945: I tensorflow/core/common_runtime/gpu/gpu_device.cc:1720] Found device 0 with properties: \n",
      "pciBusID: 0000:01:00.0 name: Quadro P1000 computeCapability: 6.1\n",
      "coreClock: 1.4805GHz coreCount: 5 deviceMemorySize: 3.92GiB deviceMemoryBandwidth: 74.65GiB/s\n",
      "2021-10-21 17:15:19.362973: I tensorflow/stream_executor/platform/default/dso_loader.cc:49] Successfully opened dynamic library libcudart.so.10.1\n",
      "2021-10-21 17:15:19.364552: I tensorflow/stream_executor/platform/default/dso_loader.cc:49] Successfully opened dynamic library libcublas.so.10\n",
      "2021-10-21 17:15:19.364602: I tensorflow/stream_executor/platform/default/dso_loader.cc:49] Successfully opened dynamic library libcublasLt.so.10\n",
      "2021-10-21 17:15:19.366226: I tensorflow/stream_executor/platform/default/dso_loader.cc:49] Successfully opened dynamic library libcufft.so.10\n",
      "2021-10-21 17:15:19.366510: I tensorflow/stream_executor/platform/default/dso_loader.cc:49] Successfully opened dynamic library libcurand.so.10\n",
      "2021-10-21 17:15:19.368347: I tensorflow/stream_executor/platform/default/dso_loader.cc:49] Successfully opened dynamic library libcusolver.so.10\n",
      "2021-10-21 17:15:19.369275: I tensorflow/stream_executor/platform/default/dso_loader.cc:49] Successfully opened dynamic library libcusparse.so.10\n",
      "2021-10-21 17:15:19.372958: I tensorflow/stream_executor/platform/default/dso_loader.cc:49] Successfully opened dynamic library libcudnn.so.7\n",
      "2021-10-21 17:15:19.373133: I tensorflow/stream_executor/cuda/cuda_gpu_executor.cc:941] successful NUMA node read from SysFS had negative value (-1), but there must be at least one NUMA node, so returning NUMA node zero\n",
      "2021-10-21 17:15:19.373424: I tensorflow/stream_executor/cuda/cuda_gpu_executor.cc:941] successful NUMA node read from SysFS had negative value (-1), but there must be at least one NUMA node, so returning NUMA node zero\n",
      "2021-10-21 17:15:19.373571: I tensorflow/core/common_runtime/gpu/gpu_device.cc:1862] Adding visible gpu devices: 0\n",
      "2021-10-21 17:15:19.384630: I tensorflow/core/platform/cpu_feature_guard.cc:142] This TensorFlow binary is optimized with oneAPI Deep Neural Network Library (oneDNN) to use the following CPU instructions in performance-critical operations:  SSE4.1 SSE4.2 AVX AVX2 FMA\n",
      "To enable them in other operations, rebuild TensorFlow with the appropriate compiler flags.\n",
      "2021-10-21 17:15:19.385122: I tensorflow/stream_executor/cuda/cuda_gpu_executor.cc:941] successful NUMA node read from SysFS had negative value (-1), but there must be at least one NUMA node, so returning NUMA node zero\n",
      "2021-10-21 17:15:19.385290: I tensorflow/core/common_runtime/gpu/gpu_device.cc:1720] Found device 0 with properties: \n",
      "pciBusID: 0000:01:00.0 name: Quadro P1000 computeCapability: 6.1\n",
      "coreClock: 1.4805GHz coreCount: 5 deviceMemorySize: 3.92GiB deviceMemoryBandwidth: 74.65GiB/s\n",
      "2021-10-21 17:15:19.385329: I tensorflow/stream_executor/platform/default/dso_loader.cc:49] Successfully opened dynamic library libcudart.so.10.1\n",
      "2021-10-21 17:15:19.385353: I tensorflow/stream_executor/platform/default/dso_loader.cc:49] Successfully opened dynamic library libcublas.so.10\n",
      "2021-10-21 17:15:19.385366: I tensorflow/stream_executor/platform/default/dso_loader.cc:49] Successfully opened dynamic library libcublasLt.so.10\n",
      "2021-10-21 17:15:19.385377: I tensorflow/stream_executor/platform/default/dso_loader.cc:49] Successfully opened dynamic library libcufft.so.10\n",
      "2021-10-21 17:15:19.385388: I tensorflow/stream_executor/platform/default/dso_loader.cc:49] Successfully opened dynamic library libcurand.so.10\n",
      "2021-10-21 17:15:19.385400: I tensorflow/stream_executor/platform/default/dso_loader.cc:49] Successfully opened dynamic library libcusolver.so.10\n",
      "2021-10-21 17:15:19.385411: I tensorflow/stream_executor/platform/default/dso_loader.cc:49] Successfully opened dynamic library libcusparse.so.10\n",
      "2021-10-21 17:15:19.385423: I tensorflow/stream_executor/platform/default/dso_loader.cc:49] Successfully opened dynamic library libcudnn.so.7\n",
      "2021-10-21 17:15:19.385479: I tensorflow/stream_executor/cuda/cuda_gpu_executor.cc:941] successful NUMA node read from SysFS had negative value (-1), but there must be at least one NUMA node, so returning NUMA node zero\n",
      "2021-10-21 17:15:19.385625: I tensorflow/stream_executor/cuda/cuda_gpu_executor.cc:941] successful NUMA node read from SysFS had negative value (-1), but there must be at least one NUMA node, so returning NUMA node zero\n",
      "2021-10-21 17:15:19.385737: I tensorflow/core/common_runtime/gpu/gpu_device.cc:1862] Adding visible gpu devices: 0\n",
      "2021-10-21 17:15:19.385763: I tensorflow/stream_executor/platform/default/dso_loader.cc:49] Successfully opened dynamic library libcudart.so.10.1\n",
      "2021-10-21 17:15:19.699868: I tensorflow/core/common_runtime/gpu/gpu_device.cc:1261] Device interconnect StreamExecutor with strength 1 edge matrix:\n",
      "2021-10-21 17:15:19.699889: I tensorflow/core/common_runtime/gpu/gpu_device.cc:1267]      0 \n",
      "2021-10-21 17:15:19.699893: I tensorflow/core/common_runtime/gpu/gpu_device.cc:1280] 0:   N \n",
      "2021-10-21 17:15:19.700013: I tensorflow/stream_executor/cuda/cuda_gpu_executor.cc:941] successful NUMA node read from SysFS had negative value (-1), but there must be at least one NUMA node, so returning NUMA node zero\n",
      "2021-10-21 17:15:19.700151: I tensorflow/stream_executor/cuda/cuda_gpu_executor.cc:941] successful NUMA node read from SysFS had negative value (-1), but there must be at least one NUMA node, so returning NUMA node zero\n",
      "2021-10-21 17:15:19.700258: I tensorflow/stream_executor/cuda/cuda_gpu_executor.cc:941] successful NUMA node read from SysFS had negative value (-1), but there must be at least one NUMA node, so returning NUMA node zero\n",
      "2021-10-21 17:15:19.700355: I tensorflow/core/common_runtime/gpu/gpu_device.cc:1406] Created TensorFlow device (/job:localhost/replica:0/task:0/device:GPU:0 with 3277 MB memory) -> physical GPU (device: 0, name: Quadro P1000, pci bus id: 0000:01:00.0, compute capability: 6.1)\n",
      "2021-10-21 17:15:19.700529: I tensorflow/compiler/jit/xla_gpu_device.cc:99] Not creating XLA devices, tf_xla_enable_xla_devices not set\n"
     ]
    }
   ],
   "source": [
    "train_dir = 'train_datasets/'\n",
    "valid_dir = 'valid_datasets/'\n",
    "\n",
    "feature_description = {'group_id': tf.io.FixedLenFeature([], tf.int64),\n",
    "                        'timestep': tf.io.FixedLenFeature([], tf.int64),\n",
    "                        'parameter_vector': tf.io.FixedLenSequenceFeature([], tf.float32,allow_missing=True),\n",
    "                        'pos': tf.io.FixedLenFeature([], tf.string),\n",
    "                        'vel': tf.io.FixedLenFeature([], tf.string)}\n",
    "\n",
    "def _parse_record(x):\n",
    "  # Parse the input tf.train.Example proto using the dictionary above.\n",
    "  return tf.io.parse_single_example(x, feature_description)\n",
    "\n",
    "def _parse_tensor(x):\n",
    "    output = {'group_id': x['group_id'],\n",
    "                'timestep': x['timestep'],\n",
    "                'parameter_vector': x['parameter_vector'],\n",
    "                'pos': tf.io.parse_tensor(x['pos'],out_type=tf.float32),\n",
    "                'vel': tf.io.parse_tensor(x['vel'],out_type=tf.float32)}\n",
    "    return output\n",
    "\n",
    "train_dataset =  tf.data.TFRecordDataset(tf.data.Dataset.list_files([train_dir + filename for filename in os.listdir(train_dir)]))\n",
    "\n",
    "parsed_train_dataset = train_dataset.map(_parse_record)\n",
    "parsed_train_dataset = parsed_train_dataset.map(_parse_tensor)\n",
    "parsed_train_dataset = parsed_train_dataset.shuffle(10000, reshuffle_each_iteration=True)\n",
    "parsed_train_dataset = parsed_train_dataset.batch(32, drop_remainder=True)\n",
    "\n",
    "\n",
    "\n",
    "valid_dataset =  tf.data.TFRecordDataset(tf.data.Dataset.list_files([valid_dir + filename for filename in os.listdir(valid_dir)]))\n",
    "\n",
    "parsed_valid_dataset = valid_dataset.map(_parse_record)\n",
    "parsed_valid_dataset = parsed_valid_dataset.map(_parse_tensor)\n",
    "parsed_valid_dataset = parsed_valid_dataset.shuffle(10000, reshuffle_each_iteration=True)\n",
    "parsed_valid_dataset = parsed_valid_dataset.batch(4, drop_remainder=True)\n"
   ]
  },
  {
   "cell_type": "markdown",
   "id": "e28722d4-6fba-4be9-965b-52f9aae650e1",
   "metadata": {},
   "source": [
    "## Preprocess positions and velocities into a graph tuple"
   ]
  },
  {
   "cell_type": "code",
   "execution_count": 3,
   "id": "2253c531-1b30-4c32-b508-70c8cacb0cd1",
   "metadata": {},
   "outputs": [],
   "source": [
    "interaction_radius = 15.0\n",
    "L = 200\n",
    "\n",
    "@tf.function\n",
    "def preprocess_data(X,V):\n",
    "    \n",
    "    # node features xpos, ypos, xvel, yvel\n",
    "    # edge features distance, rel angle to receiver\n",
    "\n",
    "    \n",
    "    Xx = tf.expand_dims(X[...,0],-1)\n",
    "    dx = -Xx + tf.linalg.matrix_transpose(Xx)\n",
    "    dx = tf.where(dx>0.5*L, dx-L, dx)\n",
    "    dx = tf.where(dx<-0.5*L, dx+L, dx)\n",
    "\n",
    "    Xy = tf.expand_dims(X[...,1],-1)\n",
    "    dy = -Xy + tf.linalg.matrix_transpose(Xy)\n",
    "    dy = tf.where(dy>0.5*L, dy-L, dy)\n",
    "    dy = tf.where(dy<-0.5*L, dy+L, dy)\n",
    "\n",
    "\n",
    "\n",
    "    A = tf.expand_dims(tf.math.atan2(V[...,1],V[...,0]),-1)\n",
    "    angle_to_neigh = tf.math.atan2(dy, dx)\n",
    "\n",
    "    rel_angle_to_neigh = angle_to_neigh - A\n",
    "\n",
    "    dist = tf.math.sqrt(tf.square(dx)+tf.square(dy))\n",
    "\n",
    "    adj_matrix = tf.where(dist<interaction_radius, tf.ones_like(dist,dtype=tf.int32), tf.zeros_like(dist,dtype=tf.int32))\n",
    "    adj_matrix = tf.linalg.set_diag(adj_matrix, tf.zeros(tf.shape(adj_matrix)[:2],dtype=tf.int32))\n",
    "    sender_recv_list = tf.where(adj_matrix)\n",
    "    n_edge = tf.reduce_sum(adj_matrix, axis=[1,2])\n",
    "    n_node = tf.ones_like(n_edge)*tf.shape(adj_matrix)[-1]\n",
    "\n",
    "    senders =tf.squeeze(tf.slice(sender_recv_list,(0,1),size=(-1,1)))+ tf.squeeze(tf.slice(sender_recv_list,(0,0),size=(-1,1)))*tf.shape(adj_matrix,out_type=tf.int64)[-1]\n",
    "    receivers = tf.squeeze(tf.slice(sender_recv_list,(0,2),size=(-1,1))) + tf.squeeze(tf.slice(sender_recv_list,(0,0),size=(-1,1)))*tf.shape(adj_matrix,out_type=tf.int64)[-1]\n",
    "\n",
    "\n",
    "    edge_distance = tf.expand_dims(tf.gather_nd(dist,sender_recv_list),-1)\n",
    "    edge_x_distance =  tf.expand_dims(tf.gather_nd(tf.math.cos(rel_angle_to_neigh),sender_recv_list),-1)  # relative to sender heading\n",
    "    edge_y_distance =  tf.expand_dims( tf.gather_nd(tf.math.sin(rel_angle_to_neigh),sender_recv_list),-1)  # relative to sender heading\n",
    "\n",
    "\n",
    "    edges = tf.concat([edge_distance,edge_x_distance,edge_y_distance],axis=-1)\n",
    "\n",
    "    node_positions = tf.reshape(X,(-1,2))\n",
    "    node_velocities = tf.reshape(V,(-1,2))\n",
    "\n",
    "    nodes = tf.concat([node_positions,node_velocities],axis=-1)\n",
    "\n",
    "    gn = graphs.GraphsTuple(nodes=nodes,edges=edges,globals=None,receivers=receivers,senders=senders,n_node=n_node,n_edge=n_edge)\n",
    "    gn = utils_tf.set_zero_global_features(gn,1)\n",
    "    \n",
    "    return gn"
   ]
  },
  {
   "cell_type": "markdown",
   "id": "120d477f-db5d-4b7e-90c5-cbcc10e47773",
   "metadata": {},
   "source": [
    "## Set up the optimizer and the loss function"
   ]
  },
  {
   "cell_type": "code",
   "execution_count": 4,
   "id": "8fd3808a-d298-481c-9955-0b24a4205382",
   "metadata": {},
   "outputs": [],
   "source": [
    "min_lr = 1e-6\n",
    "lr = tf.keras.optimizers.schedules.ExponentialDecay(initial_learning_rate=1e-4 - min_lr,\n",
    "                                decay_steps=int(5e6),\n",
    "                                decay_rate=0.1) #+ min_lr\n",
    "optimizer = tf.keras.optimizers.Adam(learning_rate=lr)\n",
    "\n",
    "loss_function = tf.keras.losses.MeanSquaredError()\n"
   ]
  },
  {
   "cell_type": "code",
   "execution_count": 5,
   "id": "1da34512-ede1-49fe-bd9b-4027195e6446",
   "metadata": {},
   "outputs": [],
   "source": [
    "epd = EncodeProcessDecode(latent_size=128,mlp_hidden_size=128,mlp_num_hidden_layers=2,num_message_passing_steps=10,output_size=1)"
   ]
  },
  {
   "cell_type": "code",
   "execution_count": 6,
   "id": "0e276ab9-006e-4c87-85e6-bbe360b5a8f9",
   "metadata": {},
   "outputs": [],
   "source": [
    "# input_graphs = preprocess_data(X,V)\n",
    "# epd(input_graphs)\n",
    "\n",
    "## to do replace MLP with keras\n",
    "\n",
    "# for databatch in  parsed_tensors_dataset:\n",
    "        \n",
    "#     X = databatch['pos']\n",
    "#     V = databatch['vel']\n",
    "#     input_graphs = preprocess_data(X,V)\n",
    "#     break"
   ]
  },
  {
   "cell_type": "code",
   "execution_count": 7,
   "id": "ff747fc5-4dad-41d1-8610-f1e30c65ca13",
   "metadata": {},
   "outputs": [],
   "source": [
    "# input_signature = [utils_tf.specs_from_graphs_tuple(input_graphs)]"
   ]
  },
  {
   "cell_type": "code",
   "execution_count": 8,
   "id": "7c7f5a59-69f6-4842-b497-b5f2e18818ac",
   "metadata": {},
   "outputs": [],
   "source": [
    "# @tf.function()#input_signature=input_signature)\n",
    "# def predict_graph(input_graphs):\n",
    "#     return epd(input_graphs)\n",
    "    "
   ]
  },
  {
   "cell_type": "code",
   "execution_count": 9,
   "id": "ce1a5deb-27f6-406c-ab01-b82e1b874e3b",
   "metadata": {},
   "outputs": [],
   "source": [
    "# predict_graph.experimental_get_tracing_count()"
   ]
  },
  {
   "cell_type": "code",
   "execution_count": 10,
   "id": "8eaa3253-4311-4ba1-acf1-74e489c3c529",
   "metadata": {},
   "outputs": [],
   "source": [
    "# epochs = 20\n",
    "\n",
    "# for epoch in range(epochs):\n",
    "#     pbar = tqdm(parsed_tensors_dataset)\n",
    "#     epoch_loss = 0\n",
    "#     c = 0 \n",
    "#     # Iterate over the batches of the dataset.\n",
    "#     for databatch in  pbar:\n",
    "#         target = databatch['parameter_vector'][:,2]\n",
    "#         X = databatch['pos']\n",
    "#         V = databatch['vel']\n",
    "        \n",
    "#         input_graphs = preprocess_data(X,V)\n",
    "\n",
    "#         #break\n",
    "#         loss_value = train_step(X,V,target).numpy()\n",
    "#         epoch_loss+= loss_value\n",
    "#         c+=1\n",
    "#         pbar.set_description(\"Loss %f\" % (epoch_loss/c))"
   ]
  },
  {
   "cell_type": "code",
   "execution_count": 11,
   "id": "cc2afb12-be7f-4636-84a8-8ab6a1fb9257",
   "metadata": {},
   "outputs": [],
   "source": [
    "@tf.function()\n",
    "def train_step(X,V,target):\n",
    "   \n",
    "    input_graphs = preprocess_data(X,V)\n",
    "\n",
    "    with tf.GradientTape() as tape:\n",
    "        predictions = epd(input_graphs)\n",
    "        loss_value = loss_function(target,predictions)\n",
    "    grads = tape.gradient(loss_value, epd.trainable_variables)\n",
    "    optimizer.apply_gradients(zip(grads, epd.trainable_variables))\n",
    "    return loss_value"
   ]
  },
  {
   "cell_type": "code",
   "execution_count": 12,
   "id": "087adb41-0c81-4ea9-8bb8-9611d527d193",
   "metadata": {},
   "outputs": [],
   "source": [
    "#predict_graph.experimental_get_tracing_count()"
   ]
  },
  {
   "cell_type": "code",
   "execution_count": 13,
   "id": "fcf58981-409e-4f1d-af58-045f2c086cab",
   "metadata": {},
   "outputs": [],
   "source": [
    "#input_graphs = preprocess_data(X,V)\n",
    "#input_graphs"
   ]
  },
  {
   "cell_type": "markdown",
   "id": "c161b4fe-df29-49c1-9c4d-78c4e48a4c82",
   "metadata": {},
   "source": [
    "## Run the training"
   ]
  },
  {
   "cell_type": "code",
   "execution_count": 15,
   "id": "6d798330-7a8e-439a-a5a4-2a3aff46fc16",
   "metadata": {},
   "outputs": [
    {
     "name": "stderr",
     "output_type": "stream",
     "text": [
      "0it [00:00, ?it/s]2021-10-21 17:15:59.255942: I tensorflow/compiler/mlir/mlir_graph_optimization_pass.cc:116] None of the MLIR optimization passes are enabled (registered 2)\n",
      "2021-10-21 17:15:59.273154: I tensorflow/core/platform/profile_utils/cpu_utils.cc:112] CPU Frequency: 3299990000 Hz\n",
      "2021-10-21 17:15:59.954219: I tensorflow/stream_executor/platform/default/dso_loader.cc:49] Successfully opened dynamic library libcublas.so.10\n",
      "2021-10-21 17:16:03.457914: W tensorflow/python/util/util.cc:348] Sets are not currently considered sequences, but this may change in the future, so consider avoiding using them.\n",
      "Loss 18.013409: : 695it [09:55,  1.17it/s]\n",
      "Loss 4.575480: : 189it [02:28,  1.27it/s]\n"
     ]
    },
    {
     "ename": "KeyboardInterrupt",
     "evalue": "",
     "output_type": "error",
     "traceback": [
      "\u001b[0;31m---------------------------------------------------------------------------\u001b[0m",
      "\u001b[0;31mKeyboardInterrupt\u001b[0m                         Traceback (most recent call last)",
      "\u001b[0;32m/tmp/ipykernel_6730/1524540544.py\u001b[0m in \u001b[0;36m<module>\u001b[0;34m\u001b[0m\n\u001b[1;32m     19\u001b[0m             \u001b[0;31m#    return epd(input_graphs)\u001b[0m\u001b[0;34m\u001b[0m\u001b[0;34m\u001b[0m\u001b[0m\n\u001b[1;32m     20\u001b[0m         \u001b[0;31m#break\u001b[0m\u001b[0;34m\u001b[0m\u001b[0;34m\u001b[0m\u001b[0m\n\u001b[0;32m---> 21\u001b[0;31m         \u001b[0mloss_value\u001b[0m \u001b[0;34m=\u001b[0m \u001b[0mtrain_step\u001b[0m\u001b[0;34m(\u001b[0m\u001b[0mX\u001b[0m\u001b[0;34m,\u001b[0m\u001b[0mV\u001b[0m\u001b[0;34m,\u001b[0m\u001b[0mtarget\u001b[0m\u001b[0;34m)\u001b[0m\u001b[0;34m.\u001b[0m\u001b[0mnumpy\u001b[0m\u001b[0;34m(\u001b[0m\u001b[0;34m)\u001b[0m\u001b[0;34m\u001b[0m\u001b[0;34m\u001b[0m\u001b[0m\n\u001b[0m\u001b[1;32m     22\u001b[0m         \u001b[0mepoch_loss\u001b[0m\u001b[0;34m+=\u001b[0m \u001b[0mloss_value\u001b[0m\u001b[0;34m\u001b[0m\u001b[0;34m\u001b[0m\u001b[0m\n\u001b[1;32m     23\u001b[0m         \u001b[0mc\u001b[0m\u001b[0;34m+=\u001b[0m\u001b[0;36m1\u001b[0m\u001b[0;34m\u001b[0m\u001b[0;34m\u001b[0m\u001b[0m\n",
      "\u001b[0;32m~/anaconda3/envs/tf/lib/python3.9/site-packages/tensorflow/python/framework/ops.py\u001b[0m in \u001b[0;36mnumpy\u001b[0;34m(self)\u001b[0m\n\u001b[1;32m   1069\u001b[0m     \"\"\"\n\u001b[1;32m   1070\u001b[0m     \u001b[0;31m# TODO(slebedev): Consider avoiding a copy for non-CPU or remote tensors.\u001b[0m\u001b[0;34m\u001b[0m\u001b[0;34m\u001b[0m\u001b[0m\n\u001b[0;32m-> 1071\u001b[0;31m     \u001b[0mmaybe_arr\u001b[0m \u001b[0;34m=\u001b[0m \u001b[0mself\u001b[0m\u001b[0;34m.\u001b[0m\u001b[0m_numpy\u001b[0m\u001b[0;34m(\u001b[0m\u001b[0;34m)\u001b[0m  \u001b[0;31m# pylint: disable=protected-access\u001b[0m\u001b[0;34m\u001b[0m\u001b[0;34m\u001b[0m\u001b[0m\n\u001b[0m\u001b[1;32m   1072\u001b[0m     \u001b[0;32mreturn\u001b[0m \u001b[0mmaybe_arr\u001b[0m\u001b[0;34m.\u001b[0m\u001b[0mcopy\u001b[0m\u001b[0;34m(\u001b[0m\u001b[0;34m)\u001b[0m \u001b[0;32mif\u001b[0m \u001b[0misinstance\u001b[0m\u001b[0;34m(\u001b[0m\u001b[0mmaybe_arr\u001b[0m\u001b[0;34m,\u001b[0m \u001b[0mnp\u001b[0m\u001b[0;34m.\u001b[0m\u001b[0mndarray\u001b[0m\u001b[0;34m)\u001b[0m \u001b[0;32melse\u001b[0m \u001b[0mmaybe_arr\u001b[0m\u001b[0;34m\u001b[0m\u001b[0;34m\u001b[0m\u001b[0m\n\u001b[1;32m   1073\u001b[0m \u001b[0;34m\u001b[0m\u001b[0m\n",
      "\u001b[0;32m~/anaconda3/envs/tf/lib/python3.9/site-packages/tensorflow/python/framework/ops.py\u001b[0m in \u001b[0;36m_numpy\u001b[0;34m(self)\u001b[0m\n\u001b[1;32m   1035\u001b[0m   \u001b[0;32mdef\u001b[0m \u001b[0m_numpy\u001b[0m\u001b[0;34m(\u001b[0m\u001b[0mself\u001b[0m\u001b[0;34m)\u001b[0m\u001b[0;34m:\u001b[0m\u001b[0;34m\u001b[0m\u001b[0;34m\u001b[0m\u001b[0m\n\u001b[1;32m   1036\u001b[0m     \u001b[0;32mtry\u001b[0m\u001b[0;34m:\u001b[0m\u001b[0;34m\u001b[0m\u001b[0;34m\u001b[0m\u001b[0m\n\u001b[0;32m-> 1037\u001b[0;31m       \u001b[0;32mreturn\u001b[0m \u001b[0mself\u001b[0m\u001b[0;34m.\u001b[0m\u001b[0m_numpy_internal\u001b[0m\u001b[0;34m(\u001b[0m\u001b[0;34m)\u001b[0m\u001b[0;34m\u001b[0m\u001b[0;34m\u001b[0m\u001b[0m\n\u001b[0m\u001b[1;32m   1038\u001b[0m     \u001b[0;32mexcept\u001b[0m \u001b[0mcore\u001b[0m\u001b[0;34m.\u001b[0m\u001b[0m_NotOkStatusException\u001b[0m \u001b[0;32mas\u001b[0m \u001b[0me\u001b[0m\u001b[0;34m:\u001b[0m  \u001b[0;31m# pylint: disable=protected-access\u001b[0m\u001b[0;34m\u001b[0m\u001b[0;34m\u001b[0m\u001b[0m\n\u001b[1;32m   1039\u001b[0m       \u001b[0msix\u001b[0m\u001b[0;34m.\u001b[0m\u001b[0mraise_from\u001b[0m\u001b[0;34m(\u001b[0m\u001b[0mcore\u001b[0m\u001b[0;34m.\u001b[0m\u001b[0m_status_to_exception\u001b[0m\u001b[0;34m(\u001b[0m\u001b[0me\u001b[0m\u001b[0;34m.\u001b[0m\u001b[0mcode\u001b[0m\u001b[0;34m,\u001b[0m \u001b[0me\u001b[0m\u001b[0;34m.\u001b[0m\u001b[0mmessage\u001b[0m\u001b[0;34m)\u001b[0m\u001b[0;34m,\u001b[0m \u001b[0;32mNone\u001b[0m\u001b[0;34m)\u001b[0m  \u001b[0;31m# pylint: disable=protected-access\u001b[0m\u001b[0;34m\u001b[0m\u001b[0;34m\u001b[0m\u001b[0m\n",
      "\u001b[0;31mKeyboardInterrupt\u001b[0m: "
     ]
    }
   ],
   "source": [
    "epochs = 20\n",
    "\n",
    "for epoch in range(epochs):\n",
    "    pbar = tqdm(parsed_train_dataset)\n",
    "    epoch_loss = 0\n",
    "    c = 0 \n",
    "    # Iterate over the batches of the dataset.\n",
    "    for databatch in  pbar:\n",
    "        target = databatch['parameter_vector'][:,2]\n",
    "        X = databatch['pos']\n",
    "        V = databatch['vel']\n",
    "\n",
    "        if train_step.experimental_get_tracing_count()==0:\n",
    "            input_graphs = preprocess_data(X,V)\n",
    "            predictions = epd(input_graphs)\n",
    "            #input_signature = [utils_tf.specs_from_graphs_tuple(input_graphs,dynamic_num_nodes=False)]\n",
    "            #@tf.function(input_signature=input_signature)\n",
    "            #def predict_graph(input_graphs):\n",
    "            #    return epd(input_graphs)\n",
    "        #break\n",
    "        loss_value = train_step(X,V,target).numpy()\n",
    "        epoch_loss+= loss_value\n",
    "        c+=1\n",
    "        pbar.set_description(\"Loss %f\" % (epoch_loss/c))\n"
   ]
  },
  {
   "cell_type": "code",
   "execution_count": null,
   "id": "2d3e53cf-20ef-476b-b583-bd1a826a79e8",
   "metadata": {},
   "outputs": [],
   "source": []
  },
  {
   "cell_type": "code",
   "execution_count": null,
   "id": "0f30965a-fbd4-4652-a3f0-20d38a2ad5b8",
   "metadata": {},
   "outputs": [],
   "source": []
  },
  {
   "cell_type": "code",
   "execution_count": 16,
   "id": "64fedc23-7c3d-4213-8b02-76b66593e97d",
   "metadata": {},
   "outputs": [
    {
     "name": "stderr",
     "output_type": "stream",
     "text": [
      "85it [00:26,  3.20it/s]\n"
     ]
    }
   ],
   "source": [
    "pred_list = []\n",
    "true_values = []\n",
    "count=0\n",
    "for databatch in tqdm(parsed_valid_dataset):\n",
    "    true_values.append(databatch['parameter_vector'][:,2].numpy())\n",
    "    X = databatch['pos']\n",
    "    V = databatch['vel']\n",
    "    input_graphs = preprocess_data(X,V)\n",
    "    predictions = epd(input_graphs)\n",
    "    pred_list.append(np.squeeze(predictions.numpy()))\n",
    "    count+=1\n",
    "\n",
    "    if count == 100: break\n",
    "pred_vals = np.array(pred_list).flatten()\n",
    "true_vals = np.array(true_values).flatten()\n",
    "\n",
    "\n"
   ]
  },
  {
   "cell_type": "code",
   "execution_count": 17,
   "id": "3c2dc303-1ae5-49f5-b91a-1fb5e4b4e111",
   "metadata": {},
   "outputs": [],
   "source": [
    "x_val = []\n",
    "pred_mean = []\n",
    "pred_std = []\n",
    "for tv in np.unique(true_vals):\n",
    "    pred_mean.append(pred_vals[true_vals==tv].mean())\n",
    "    pred_std.append(pred_vals[true_vals==tv].std())\n",
    "    x_val.append(tv)\n",
    "    \n",
    "pred_mean = np.array(pred_mean)\n",
    "pred_std = np.array(pred_std)\n",
    "x_val = np.array(x_val)"
   ]
  },
  {
   "cell_type": "code",
   "execution_count": 18,
   "id": "89359d18-c326-430f-8abb-50f82dc394e6",
   "metadata": {},
   "outputs": [
    {
     "data": {
      "image/png": "[encoded data removed]",
      "text/plain": [
       "<Figure size 288x216 with 1 Axes>"
      ]
     },
     "metadata": {},
     "output_type": "display_data"
    }
   ],
   "source": [
    "plt.figure(figsize=(4,3))\n",
    "plt.plot(x_val,pred_mean,c='C0')\n",
    "\n",
    "plt.fill_between(x_val,pred_mean-pred_std,pred_mean+pred_std,color='C0',alpha=0.5)\n",
    "\n",
    "xx = np.linspace(0,x_val.max(),10)\n",
    "plt.plot(xx,xx,c='k',ls='--')\n",
    "\n",
    "plt.ylabel('GNN prediction of parameter')\n",
    "plt.xlabel('True parameter that generated the microstate')\n",
    "plt.savefig('gnn.png',dpi=300)\n",
    "plt.show()\n"
   ]
  },
  {
   "cell_type": "code",
   "execution_count": null,
   "id": "3429d9f3-98c7-4718-a6d8-577fbd52bb35",
   "metadata": {},
   "outputs": [],
   "source": [
    "plt.plot(true_vals,pred_vals,'.')\n",
    "xx = np.linspace(0,25,10)\n",
    "plt.plot(xx,xx)\n",
    "plt.show()"
   ]
  },
  {
   "cell_type": "code",
   "execution_count": null,
   "id": "646d5de2-c306-43cc-b07c-58bcc1d51a68",
   "metadata": {},
   "outputs": [],
   "source": [
    "pbar = tqdm(parsed_tensors_dataset)\n",
    "\n",
    "# Iterate over the batches of the dataset.\n",
    "for d in  pbar:\n",
    "    mygraph = preprocess_data(d)\n",
    "    break"
   ]
  },
  {
   "cell_type": "code",
   "execution_count": null,
   "id": "606ca626-d4eb-4dcb-bbd4-33a56d4326a3",
   "metadata": {},
   "outputs": [],
   "source": [
    "mygraph"
   ]
  },
  {
   "cell_type": "code",
   "execution_count": null,
   "id": "828101b0-2cc3-4419-9c21-767f453445b3",
   "metadata": {},
   "outputs": [],
   "source": [
    "utils_tf.get_num_graphs(mygraph)\n",
    "\n",
    "num_graphs = utils_tf.get_num_graphs(mygraph)\n",
    "graph_index = tf.range(num_graphs)\n",
    "indices = utils_tf.repeat(graph_index, mygraph.n_node, axis=0)#,\n",
    "                              #sum_repeats_hint=_get_static_num_nodes(graph))\n",
    "tf.math.unsorted_segment_sum(mygraph.nodes, indices, num_graphs)"
   ]
  },
  {
   "cell_type": "code",
   "execution_count": null,
   "id": "e3fb3066-fd52-4458-97fe-8d4542be2640",
   "metadata": {},
   "outputs": [],
   "source": [
    "indices"
   ]
  },
  {
   "cell_type": "code",
   "execution_count": null,
   "id": "518850a7-d1db-4a93-8283-247080168069",
   "metadata": {},
   "outputs": [],
   "source": [
    "?tf.math.unsorted_segment_sum"
   ]
  },
  {
   "cell_type": "code",
   "execution_count": null,
   "id": "c5b651c9-d771-4678-9c4d-8a4a9cfbe2ff",
   "metadata": {},
   "outputs": [],
   "source": [
    "tf.repeat(graph_index, mygraph.n_node,axis=0)"
   ]
  },
  {
   "cell_type": "code",
   "execution_count": null,
   "id": "f07091e8-de81-4237-a9ff-745cf186607d",
   "metadata": {},
   "outputs": [],
   "source": [
    "epd._output_transform"
   ]
  },
  {
   "cell_type": "code",
   "execution_count": null,
   "id": "6f550c32-3a03-44be-a95f-3c5695845cc7",
   "metadata": {},
   "outputs": [],
   "source": [
    "   # Encode the input_graph.\n",
    "latent_graph_0 = epd._encode(input_graphs)\n",
    "\n",
    "# Do `m` message passing steps in the latent graphs.\n",
    "latent_graph_m = epd._process(latent_graph_0)\n",
    "decode_graph_m = epd._decode(latent_graph_m)\n",
    "    # Decode from the last latent graph.\n",
    "    #return self._output_transform(decode_graph_m.globals)"
   ]
  },
  {
   "cell_type": "code",
   "execution_count": null,
   "id": "e0dede7b-a73e-419d-ba41-bf6b3cd6856c",
   "metadata": {},
   "outputs": [],
   "source": [
    "model2 = tf.keras.Sequential()\n",
    "model2.add(tf.keras.layers.Dense(8))\n",
    "model2.add(tf.keras.layers.LayerNormalization(axis=1))\n",
    "model2.build(input_shape=(128,))"
   ]
  },
  {
   "cell_type": "code",
   "execution_count": null,
   "id": "1e28b70c-8315-4ad6-a4b6-73fad5380ba5",
   "metadata": {},
   "outputs": [],
   "source": [
    "\n",
    "\n"
   ]
  },
  {
   "cell_type": "code",
   "execution_count": null,
   "id": "076f5237-2a62-425e-8d90-29ca2f3a9ce2",
   "metadata": {},
   "outputs": [],
   "source": [
    "model.summary()"
   ]
  },
  {
   "cell_type": "code",
   "execution_count": null,
   "id": "b7e409fc-9a42-4987-b030-04f876ce984e",
   "metadata": {},
   "outputs": [],
   "source": [
    "decode_graph_m.globals"
   ]
  },
  {
   "cell_type": "code",
   "execution_count": null,
   "id": "04173e4b-14a7-4da4-a56a-ae82e77055eb",
   "metadata": {},
   "outputs": [],
   "source": [
    "model(decode_graph_m.globals)"
   ]
  },
  {
   "cell_type": "code",
   "execution_count": null,
   "id": "6e203dc5-9d4f-4179-b421-ab0f0a092fc5",
   "metadata": {},
   "outputs": [],
   "source": [
    "epd._output_size"
   ]
  },
  {
   "cell_type": "code",
   "execution_count": null,
   "id": "7c8e33c9-4900-4064-8f89-f4ba44bd8727",
   "metadata": {},
   "outputs": [],
   "source": [
    "# Create a `Sequential` model and add a Dense layer as the first layer.\n",
    "model = tf.keras.models.Sequential()\n",
    "\n",
    "for _ in range(epd._mlp_num_hidden_layers):\n",
    "    model.add(tf.keras.layers.Dense(epd._mlp_hidden_size, activation='relu'))\n",
    "\n",
    "model.add(tf.keras.layers.Dense(epd._output_size,activation=tf.nn.softplus))\n"
   ]
  },
  {
   "cell_type": "code",
   "execution_count": null,
   "id": "7419d4c1-bbf9-4135-b7f5-2bdbb53184b0",
   "metadata": {},
   "outputs": [],
   "source": []
  }
 ],
 "metadata": {
  "kernelspec": {
   "display_name": "Python 3 (ipykernel)",
   "language": "python",
   "name": "python3"
  },
  "language_info": {
   "codemirror_mode": {
    "name": "ipython",
    "version": 3
   },
   "file_extension": ".py",
   "mimetype": "text/x-python",
   "name": "python",
   "nbconvert_exporter": "python",
   "pygments_lexer": "ipython3",
   "version": "3.9.7"
  }
 },
 "nbformat": 4,
 "nbformat_minor": 5
}
